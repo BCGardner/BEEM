{
 "cells": [
  {
   "cell_type": "markdown",
   "metadata": {},
   "source": [
    "# _BEEM biomass estimation on real data_\n",
    "This notebook records the code used for analyzing data from [Props _et. al._ (2016)](http://www.nature.com/ismej/journal/v11/n2/full/ismej2016117a.html). We thank the authors for providing us with the raw OTU table."
   ]
  },
  {
   "cell_type": "markdown",
   "metadata": {},
   "source": [
    "## Load required packages"
   ]
  },
  {
   "cell_type": "code",
   "execution_count": 1,
   "metadata": {
    "collapsed": false
   },
   "outputs": [
    {
     "name": "stderr",
     "output_type": "stream",
     "text": [
      "Installing packages into '/home/nbcommon/R'\n",
      "(as 'lib' is unspecified)\n",
      "Loading required package: ggplot2\n",
      "Loading required package: foreach\n",
      "Loading required package: doMC\n",
      "Loading required package: iterators\n",
      "Loading required package: parallel\n",
      "Loading required package: lokern\n",
      "Loading required package: pspline\n",
      "Loading required package: monomvn\n",
      "Loading required package: pls\n",
      "\n",
      "Attaching package: 'pls'\n",
      "\n",
      "The following object is masked from 'package:stats':\n",
      "\n",
      "    loadings\n",
      "\n",
      "Loading required package: lars\n",
      "Loaded lars 1.2\n",
      "\n",
      "Loading required package: MASS\n",
      "Loading required package: reshape2\n",
      "Loading required package: RColorBrewer\n",
      "Loading required package: grid\n",
      "Loading required package: RCurl\n",
      "Loading required package: bitops\n"
     ]
    },
    {
     "data": {
      "text/html": [
       "<dl class=dl-horizontal>\n",
       "\t<dt>ggplot2</dt>\n",
       "\t\t<dd>TRUE</dd>\n",
       "\t<dt>foreach</dt>\n",
       "\t\t<dd>TRUE</dd>\n",
       "\t<dt>doMC</dt>\n",
       "\t\t<dd>TRUE</dd>\n",
       "\t<dt>lokern</dt>\n",
       "\t\t<dd>TRUE</dd>\n",
       "\t<dt>pspline</dt>\n",
       "\t\t<dd>TRUE</dd>\n",
       "\t<dt>monomvn</dt>\n",
       "\t\t<dd>TRUE</dd>\n",
       "\t<dt>reshape2</dt>\n",
       "\t\t<dd>TRUE</dd>\n",
       "\t<dt>RColorBrewer</dt>\n",
       "\t\t<dd>TRUE</dd>\n",
       "\t<dt>grid</dt>\n",
       "\t\t<dd>TRUE</dd>\n",
       "\t<dt>RCurl</dt>\n",
       "\t\t<dd>TRUE</dd>\n",
       "</dl>\n"
      ],
      "text/latex": [
       "\\begin{description*}\n",
       "\\item[ggplot2] TRUE\n",
       "\\item[foreach] TRUE\n",
       "\\item[doMC] TRUE\n",
       "\\item[lokern] TRUE\n",
       "\\item[pspline] TRUE\n",
       "\\item[monomvn] TRUE\n",
       "\\item[reshape2] TRUE\n",
       "\\item[RColorBrewer] TRUE\n",
       "\\item[grid] TRUE\n",
       "\\item[RCurl] TRUE\n",
       "\\end{description*}\n"
      ],
      "text/markdown": [
       "ggplot2\n",
       ":   TRUEforeach\n",
       ":   TRUEdoMC\n",
       ":   TRUElokern\n",
       ":   TRUEpspline\n",
       ":   TRUEmonomvn\n",
       ":   TRUEreshape2\n",
       ":   TRUERColorBrewer\n",
       ":   TRUEgrid\n",
       ":   TRUERCurl\n",
       ":   TRUE\n",
       "\n"
      ],
      "text/plain": [
       "     ggplot2      foreach         doMC       lokern      pspline      monomvn \n",
       "        TRUE         TRUE         TRUE         TRUE         TRUE         TRUE \n",
       "    reshape2 RColorBrewer         grid        RCurl \n",
       "        TRUE         TRUE         TRUE         TRUE "
      ]
     },
     "metadata": {},
     "output_type": "display_data"
    }
   ],
   "source": [
    "## https://gist.github.com/stevenworthington/3178163\n",
    "ipak <- function(pkg){\n",
    "    new.pkg <- pkg[!(pkg %in% installed.packages()[, \"Package\"])]\n",
    "    if (length(new.pkg)) \n",
    "        install.packages(new.pkg, dependencies = TRUE)\n",
    "    sapply(pkg, require, character.only = TRUE)\n",
    "}\n",
    "\n",
    "# usage\n",
    "packages <- c(\"ggplot2\", \"foreach\",'doMC','lokern', 'pspline', 'monomvn', \"reshape2\", \"RColorBrewer\", \"grid\", \"RCurl\")\n",
    "ipak(packages)"
   ]
  },
  {
   "cell_type": "markdown",
   "metadata": {},
   "source": [
    "## Setup ggplot theme used for ploting"
   ]
  },
  {
   "cell_type": "code",
   "execution_count": 2,
   "metadata": {
    "collapsed": true
   },
   "outputs": [],
   "source": [
    "figtheme <- theme_bw() + \n",
    "  theme(text = element_text(size=15,face='bold'),panel.border  = element_rect(colour = \"black\",size=1.5),\n",
    "        axis.title.y=element_text(margin=margin(0,8,0,0)),axis.title.x=element_text(margin=margin(8,0,0,0)),\n",
    "        plot.margin = unit(c(0.5,0.5,0.5,0.5), \"cm\"),\n",
    "        plot.title = element_text(margin=margin(0,0,8,0)))\n",
    "theme_set(figtheme)"
   ]
  },
  {
   "cell_type": "markdown",
   "metadata": {},
   "source": [
    "## Access Dropbox files"
   ]
  },
  {
   "cell_type": "code",
   "execution_count": 3,
   "metadata": {
    "collapsed": true
   },
   "outputs": [],
   "source": [
    "source.dropbox = function(dropbox.url, targetFile) {\n",
    "    ### Adapted from http://rstudio-pubs-static.s3.amazonaws.com/10162_c939e11b01c54cc9afda69b4dd0c62fe.html\n",
    "    library(RCurl)\n",
    "    setwd(tempdir())\n",
    "    destfile = targetFile\n",
    "    # use regex to get the piece of the Dropbox URL we need\n",
    "    matches <- regexpr(\"(/s/.*)\", dropbox.url, perl = TRUE, ignore.case = TRUE)\n",
    "    result <- attr(matches, \"capture.start\")[, 1]\n",
    "    attr(result, \"match.length\") <- attr(matches, \"capture.length\")[, 1]\n",
    "    dropbox.tail = regmatches(dropbox.url, result)\n",
    "    dburl = paste(\"https://dl.dropbox.com\", dropbox.tail, sep = \"\")\n",
    "    x = getBinaryURL(dburl, followlocation = TRUE, ssl.verifypeer = FALSE)\n",
    "    writeBin(x, destfile, useBytes = TRUE)\n",
    "}\n",
    "##https://www.dropbox.com/s/1r8yaidrp5vjjo0/emFunctions.r?dl=0"
   ]
  },
  {
   "cell_type": "markdown",
   "metadata": {},
   "source": [
    "## Download data"
   ]
  },
  {
   "cell_type": "code",
   "execution_count": null,
   "metadata": {
    "collapsed": true
   },
   "outputs": [],
   "source": [
    "source.dropbox(\"https://www.dropbox.com/s/1r8yaidrp5vjjo0/emFunctions.r\", \"~/beem/emFunctions.r\")\n",
    "source.dropbox(\"https://www.dropbox.com/s/eszf3i5trovzau6/metadata.sel.txt\", \"~/beem/isme_analysis/metadata.sel.txt\")\n",
    "source.dropbox(\"https://www.dropbox.com/s/2euco6mn6vy7dzn/counts.sel.txt\", \"~/beem/isme_analysis/counts.sel.txt\")\n",
    "source.dropbox(\"https://www.dropbox.com/s/5gknlebczb8fyf0/biomass.sel.txt\", \"~/beem/isme_analysis/biomass.sel.txt\")\n",
    "source.dropbox(\"https://www.dropbox.com/s/7wgk65unufehvx6/biomass.sel.metagenomeSeq.txt\", \"~/beem/isme_analysis/biomass.sel.metagenomeSeq.txt\")"
   ]
  },
  {
   "cell_type": "markdown",
   "metadata": {},
   "source": [
    "## Load data and preprosessing"
   ]
  },
  {
   "cell_type": "code",
   "execution_count": 5,
   "metadata": {
    "collapsed": true
   },
   "outputs": [],
   "source": [
    "source('~/beem/emFunctions.r')\n",
    "# metadata\n",
    "meta <- read.table('~/beem/isme_analysis/metadata.sel.txt', head =T)\n",
    "meta$purterbID <- 0\n",
    "# counts\n",
    "df.counts <- read.table('~/beem/isme_analysis/counts.sel.txt', head =T,row.names=1, comment.char = \"!\", sep='\\t')\n",
    "## tss counts\n",
    "df.counts.tss <- apply(df.counts, 2, function(x) x/sum(x))\n",
    "## true biomass from flow cytometry\n",
    "biomass.true <- read.table('~/beem/isme_analysis/biomass.sel.txt', head=T)$mass\n",
    "## biomass calculated with metagenomeSeq (CSS)\n",
    "biomass.css <- read.table('~/beem/isme_analysis/biomass.sel.metagenomeSeq.txt',head=T)$mass\n",
    "## keep high abundant otus\n",
    "fil <- apply(df.counts.tss,1,mean)>0.001\n",
    "df.counts.sel <- df.counts.tss[fil,]\n",
    "## biomass for selected otus\n",
    "biomass.true.sel <- biomass.true*colSums(df.counts.sel)\n",
    "## biomass for css biomass\n",
    "biomass.css.sel <- biomass.css*colSums(df.counts.sel)\n",
    "## scale counts to a defined median\n",
    "scaling <- 1e5\n",
    "dat <- df.counts.sel/median(colSums(df.counts.sel)) * scaling"
   ]
  },
  {
   "cell_type": "markdown",
   "metadata": {},
   "source": [
    "## Run BEEM\n",
    "* Note: This is time consuming and preferred to be parallelized with parameter `ncpu`."
   ]
  },
  {
   "cell_type": "code",
   "execution_count": null,
   "metadata": {
    "collapsed": false,
    "scrolled": true
   },
   "outputs": [
    {
     "name": "stderr",
     "output_type": "stream",
     "text": [
      "Preprocessing data ...\n",
      "##Iteration 1\n",
      "####solve alpha and beta (E step)\n",
      "####normalize (M step)####\n"
     ]
    },
    {
     "name": "stdout",
     "output_type": "stream",
     "text": [
      "[1] 0.9634518\n"
     ]
    },
    {
     "name": "stderr",
     "output_type": "stream",
     "text": [
      "##########################\n",
      "##Iteration 2\n",
      "####solve alpha and beta (E step)\n",
      "####normalize (M step)####\n"
     ]
    },
    {
     "name": "stdout",
     "output_type": "stream",
     "text": [
      "[1] 0.2476463\n"
     ]
    },
    {
     "name": "stderr",
     "output_type": "stream",
     "text": [
      "##########################\n",
      "##Iteration 3\n",
      "####solve alpha and beta (E step)\n",
      "####normalize (M step)####\n"
     ]
    },
    {
     "name": "stdout",
     "output_type": "stream",
     "text": [
      "[1] 0.1947526\n"
     ]
    },
    {
     "name": "stderr",
     "output_type": "stream",
     "text": [
      "##########################\n",
      "##Iteration 4\n",
      "####solve alpha and beta (E step)\n",
      "####normalize (M step)####\n"
     ]
    },
    {
     "name": "stdout",
     "output_type": "stream",
     "text": [
      "[1] 0.1907062\n"
     ]
    },
    {
     "name": "stderr",
     "output_type": "stream",
     "text": [
      "##########################\n",
      "##Iteration 5\n",
      "####solve alpha and beta (E step)\n",
      "####normalize (M step)####\n"
     ]
    },
    {
     "name": "stdout",
     "output_type": "stream",
     "text": [
      "[1] 0.1884069\n"
     ]
    },
    {
     "name": "stderr",
     "output_type": "stream",
     "text": [
      "##########################\n",
      "##Iteration 6\n",
      "####solve alpha and beta (E step)\n",
      "####normalize (M step)####\n"
     ]
    },
    {
     "name": "stdout",
     "output_type": "stream",
     "text": [
      "[1] 0.1875061\n"
     ]
    },
    {
     "name": "stderr",
     "output_type": "stream",
     "text": [
      "##########################\n",
      "##Iteration 7\n",
      "####solve alpha and beta (E step)\n",
      "####normalize (M step)####\n"
     ]
    },
    {
     "name": "stdout",
     "output_type": "stream",
     "text": [
      "[1] 0.1928687\n"
     ]
    },
    {
     "name": "stderr",
     "output_type": "stream",
     "text": [
      "##########################\n",
      "##Iteration 8\n",
      "####solve alpha and beta (E step)\n",
      "####normalize (M step)####\n"
     ]
    },
    {
     "name": "stdout",
     "output_type": "stream",
     "text": [
      "[1] 0.1954145\n"
     ]
    },
    {
     "name": "stderr",
     "output_type": "stream",
     "text": [
      "##########################\n",
      "##Iteration 9\n",
      "####solve alpha and beta (E step)\n",
      "####normalize (M step)####\n"
     ]
    },
    {
     "name": "stdout",
     "output_type": "stream",
     "text": [
      "[1] 0.198216\n"
     ]
    },
    {
     "name": "stderr",
     "output_type": "stream",
     "text": [
      "##########################\n",
      "##Iteration 10\n",
      "####solve alpha and beta (E step)\n",
      "####normalize (M step)####\n"
     ]
    },
    {
     "name": "stdout",
     "output_type": "stream",
     "text": [
      "[1] 0.1992493\n"
     ]
    },
    {
     "name": "stderr",
     "output_type": "stream",
     "text": [
      "##########################\n",
      "##Iteration 11\n",
      "####solve alpha and beta (E step)\n",
      "####normalize (M step)####\n"
     ]
    },
    {
     "name": "stdout",
     "output_type": "stream",
     "text": [
      "[1] 0.1996518\n"
     ]
    },
    {
     "name": "stderr",
     "output_type": "stream",
     "text": [
      "##########################\n",
      "##Iteration 12\n",
      "####solve alpha and beta (E step)\n",
      "####normalize (M step)####\n"
     ]
    },
    {
     "name": "stdout",
     "output_type": "stream",
     "text": [
      "[1] 0.2027117\n"
     ]
    },
    {
     "name": "stderr",
     "output_type": "stream",
     "text": [
      "##########################\n",
      "##Iteration 13\n",
      "####solve alpha and beta (E step)\n",
      "####normalize (M step)####\n"
     ]
    },
    {
     "name": "stdout",
     "output_type": "stream",
     "text": [
      "[1] 0.2119406\n"
     ]
    },
    {
     "name": "stderr",
     "output_type": "stream",
     "text": [
      "##########################\n",
      "##Iteration 14\n",
      "####solve alpha and beta (E step)\n",
      "####normalize (M step)####\n"
     ]
    },
    {
     "name": "stdout",
     "output_type": "stream",
     "text": [
      "[1] 0.2117987\n"
     ]
    },
    {
     "name": "stderr",
     "output_type": "stream",
     "text": [
      "##########################\n",
      "##Iteration 15\n",
      "####solve alpha and beta (E step)\n",
      "####normalize (M step)####\n"
     ]
    },
    {
     "name": "stdout",
     "output_type": "stream",
     "text": [
      "[1] 0.2129262\n"
     ]
    },
    {
     "name": "stderr",
     "output_type": "stream",
     "text": [
      "##########################\n",
      "##Iteration 16\n",
      "####solve alpha and beta (E step)\n",
      "####normalize (M step)####\n"
     ]
    },
    {
     "name": "stdout",
     "output_type": "stream",
     "text": [
      "[1] 0.2201057\n"
     ]
    },
    {
     "name": "stderr",
     "output_type": "stream",
     "text": [
      "##########################\n",
      "##Iteration 17\n",
      "####solve alpha and beta (E step)\n",
      "####normalize (M step)####\n"
     ]
    },
    {
     "name": "stdout",
     "output_type": "stream",
     "text": [
      "[1] 0.2228028\n"
     ]
    },
    {
     "name": "stderr",
     "output_type": "stream",
     "text": [
      "##########################\n",
      "##Iteration 18\n",
      "####solve alpha and beta (E step)\n",
      "####normalize (M step)####\n"
     ]
    },
    {
     "name": "stdout",
     "output_type": "stream",
     "text": [
      "[1] 0.2200593\n"
     ]
    },
    {
     "name": "stderr",
     "output_type": "stream",
     "text": [
      "##########################\n",
      "##Iteration 19\n",
      "####solve alpha and beta (E step)\n",
      "####normalize (M step)####\n"
     ]
    },
    {
     "name": "stdout",
     "output_type": "stream",
     "text": [
      "[1] 0.2178165\n"
     ]
    },
    {
     "name": "stderr",
     "output_type": "stream",
     "text": [
      "##########################\n",
      "##Iteration 20\n",
      "####solve alpha and beta (E step)\n",
      "####normalize (M step)####\n"
     ]
    },
    {
     "name": "stdout",
     "output_type": "stream",
     "text": [
      "[1] 0.2192389\n"
     ]
    },
    {
     "name": "stderr",
     "output_type": "stream",
     "text": [
      "##########################\n",
      "##Iteration 21\n",
      "####solve alpha and beta (E step)\n",
      "####normalize (M step)####\n"
     ]
    },
    {
     "name": "stdout",
     "output_type": "stream",
     "text": [
      "[1] 0.2191561\n"
     ]
    },
    {
     "name": "stderr",
     "output_type": "stream",
     "text": [
      "##########################\n",
      "##Iteration 22\n",
      "####solve alpha and beta (E step)\n",
      "####normalize (M step)####\n"
     ]
    },
    {
     "name": "stdout",
     "output_type": "stream",
     "text": [
      "[1] 0.2176003\n"
     ]
    },
    {
     "name": "stderr",
     "output_type": "stream",
     "text": [
      "##########################\n",
      "##Iteration 23\n",
      "####solve alpha and beta (E step)\n",
      "####normalize (M step)####\n"
     ]
    },
    {
     "name": "stdout",
     "output_type": "stream",
     "text": [
      "[1] 0.2163506\n"
     ]
    },
    {
     "name": "stderr",
     "output_type": "stream",
     "text": [
      "##########################\n",
      "##Iteration 24\n",
      "####solve alpha and beta (E step)\n",
      "####normalize (M step)####\n"
     ]
    },
    {
     "name": "stdout",
     "output_type": "stream",
     "text": [
      "[1] 0.2134282\n"
     ]
    },
    {
     "name": "stderr",
     "output_type": "stream",
     "text": [
      "##########################\n",
      "##Iteration 25\n",
      "####solve alpha and beta (E step)\n",
      "####normalize (M step)####\n"
     ]
    },
    {
     "name": "stdout",
     "output_type": "stream",
     "text": [
      "[1] 0.2125278\n"
     ]
    },
    {
     "name": "stderr",
     "output_type": "stream",
     "text": [
      "##########################\n",
      "##Iteration 26\n",
      "####solve alpha and beta (E step)\n",
      "####normalize (M step)####\n"
     ]
    },
    {
     "name": "stdout",
     "output_type": "stream",
     "text": [
      "[1] 0.2143872\n"
     ]
    },
    {
     "name": "stderr",
     "output_type": "stream",
     "text": [
      "##########################\n",
      "##Iteration 27\n",
      "####solve alpha and beta (E step)\n",
      "####normalize (M step)####\n"
     ]
    },
    {
     "name": "stdout",
     "output_type": "stream",
     "text": [
      "[1] 0.2134926\n"
     ]
    },
    {
     "name": "stderr",
     "output_type": "stream",
     "text": [
      "##########################\n",
      "##Iteration 28\n",
      "####solve alpha and beta (E step)\n",
      "####normalize (M step)####\n"
     ]
    },
    {
     "name": "stdout",
     "output_type": "stream",
     "text": [
      "[1] 0.2143786\n"
     ]
    },
    {
     "name": "stderr",
     "output_type": "stream",
     "text": [
      "##########################\n",
      "##Iteration 29\n",
      "####solve alpha and beta (E step)\n",
      "####normalize (M step)####\n"
     ]
    },
    {
     "name": "stdout",
     "output_type": "stream",
     "text": [
      "[1] 0.2121151\n"
     ]
    },
    {
     "name": "stderr",
     "output_type": "stream",
     "text": [
      "##########################\n",
      "##Iteration 30\n",
      "####solve alpha and beta (E step)\n",
      "####normalize (M step)####\n"
     ]
    },
    {
     "name": "stdout",
     "output_type": "stream",
     "text": [
      "[1] 0.213716\n"
     ]
    },
    {
     "name": "stderr",
     "output_type": "stream",
     "text": [
      "##########################\n",
      "##Iteration 31\n",
      "####solve alpha and beta (E step)\n",
      "####normalize (M step)####\n"
     ]
    },
    {
     "name": "stdout",
     "output_type": "stream",
     "text": [
      "[1] 0.2108195\n"
     ]
    },
    {
     "name": "stderr",
     "output_type": "stream",
     "text": [
      "##########################\n",
      "##Iteration 32\n",
      "####solve alpha and beta (E step)\n",
      "####normalize (M step)####\n"
     ]
    },
    {
     "name": "stdout",
     "output_type": "stream",
     "text": [
      "[1] 0.2103857\n"
     ]
    },
    {
     "name": "stderr",
     "output_type": "stream",
     "text": [
      "##########################\n",
      "##Iteration 33\n",
      "####solve alpha and beta (E step)\n",
      "####normalize (M step)####\n"
     ]
    },
    {
     "name": "stdout",
     "output_type": "stream",
     "text": [
      "[1] 0.2108777\n"
     ]
    },
    {
     "name": "stderr",
     "output_type": "stream",
     "text": [
      "##########################\n",
      "##Iteration 34\n",
      "####solve alpha and beta (E step)\n",
      "####normalize (M step)####\n"
     ]
    },
    {
     "name": "stdout",
     "output_type": "stream",
     "text": [
      "[1] 0.2105565\n"
     ]
    },
    {
     "name": "stderr",
     "output_type": "stream",
     "text": [
      "##########################\n",
      "##Iteration 35\n",
      "####solve alpha and beta (E step)\n",
      "####normalize (M step)####\n"
     ]
    },
    {
     "name": "stdout",
     "output_type": "stream",
     "text": [
      "[1] 0.2086117\n"
     ]
    },
    {
     "name": "stderr",
     "output_type": "stream",
     "text": [
      "##########################\n",
      "##Iteration 36\n",
      "####solve alpha and beta (E step)\n",
      "####normalize (M step)####\n"
     ]
    },
    {
     "name": "stdout",
     "output_type": "stream",
     "text": [
      "[1] 0.210373\n"
     ]
    },
    {
     "name": "stderr",
     "output_type": "stream",
     "text": [
      "##########################\n",
      "##Iteration 37\n",
      "####solve alpha and beta (E step)\n",
      "####normalize (M step)####\n"
     ]
    },
    {
     "name": "stdout",
     "output_type": "stream",
     "text": [
      "[1] 0.2069064\n"
     ]
    },
    {
     "name": "stderr",
     "output_type": "stream",
     "text": [
      "##########################\n",
      "##Iteration 38\n",
      "####solve alpha and beta (E step)\n",
      "####normalize (M step)####\n"
     ]
    },
    {
     "name": "stdout",
     "output_type": "stream",
     "text": [
      "[1] 0.2070667\n"
     ]
    },
    {
     "name": "stderr",
     "output_type": "stream",
     "text": [
      "##########################\n",
      "##Iteration 39\n",
      "####solve alpha and beta (E step)\n",
      "####normalize (M step)####\n"
     ]
    },
    {
     "name": "stdout",
     "output_type": "stream",
     "text": [
      "[1] 0.210341\n"
     ]
    },
    {
     "name": "stderr",
     "output_type": "stream",
     "text": [
      "##########################\n",
      "##Iteration 40\n",
      "####solve alpha and beta (E step)\n",
      "####normalize (M step)####\n"
     ]
    },
    {
     "name": "stdout",
     "output_type": "stream",
     "text": [
      "[1] 0.2056808\n"
     ]
    },
    {
     "name": "stderr",
     "output_type": "stream",
     "text": [
      "##########################\n",
      "##Iteration 41\n",
      "####solve alpha and beta (E step)\n",
      "####normalize (M step)####\n"
     ]
    },
    {
     "name": "stdout",
     "output_type": "stream",
     "text": [
      "[1] 0.2069283\n"
     ]
    },
    {
     "name": "stderr",
     "output_type": "stream",
     "text": [
      "##########################\n",
      "##Iteration 42\n",
      "####solve alpha and beta (E step)\n",
      "####normalize (M step)####\n"
     ]
    },
    {
     "name": "stdout",
     "output_type": "stream",
     "text": [
      "[1] 0.2044824\n"
     ]
    },
    {
     "name": "stderr",
     "output_type": "stream",
     "text": [
      "##########################\n",
      "##Iteration 43\n",
      "####solve alpha and beta (E step)\n",
      "####normalize (M step)####\n"
     ]
    },
    {
     "name": "stdout",
     "output_type": "stream",
     "text": [
      "[1] 0.2052772\n"
     ]
    },
    {
     "name": "stderr",
     "output_type": "stream",
     "text": [
      "##########################\n",
      "##Iteration 44\n",
      "####solve alpha and beta (E step)\n",
      "####normalize (M step)####\n"
     ]
    },
    {
     "name": "stdout",
     "output_type": "stream",
     "text": [
      "[1] 0.2051497\n"
     ]
    },
    {
     "name": "stderr",
     "output_type": "stream",
     "text": [
      "##########################\n",
      "##Iteration 45\n",
      "####solve alpha and beta (E step)\n",
      "####normalize (M step)####\n"
     ]
    },
    {
     "name": "stdout",
     "output_type": "stream",
     "text": [
      "[1] 0.2056966\n"
     ]
    },
    {
     "name": "stderr",
     "output_type": "stream",
     "text": [
      "##########################\n",
      "##Iteration 46\n",
      "####solve alpha and beta (E step)\n",
      "####normalize (M step)####\n"
     ]
    },
    {
     "name": "stdout",
     "output_type": "stream",
     "text": [
      "[1] 0.2031367\n"
     ]
    },
    {
     "name": "stderr",
     "output_type": "stream",
     "text": [
      "##########################\n",
      "##Iteration 47\n",
      "####solve alpha and beta (E step)\n",
      "####normalize (M step)####\n"
     ]
    },
    {
     "name": "stdout",
     "output_type": "stream",
     "text": [
      "[1] 0.2021497\n"
     ]
    },
    {
     "name": "stderr",
     "output_type": "stream",
     "text": [
      "##########################\n",
      "##Iteration 48\n",
      "####solve alpha and beta (E step)\n",
      "####normalize (M step)####\n"
     ]
    },
    {
     "name": "stdout",
     "output_type": "stream",
     "text": [
      "[1] 0.2016508\n"
     ]
    },
    {
     "name": "stderr",
     "output_type": "stream",
     "text": [
      "##########################\n",
      "##Iteration 49\n",
      "####solve alpha and beta (E step)\n",
      "####normalize (M step)####\n"
     ]
    },
    {
     "name": "stdout",
     "output_type": "stream",
     "text": [
      "[1] 0.1993311\n"
     ]
    },
    {
     "name": "stderr",
     "output_type": "stream",
     "text": [
      "##########################\n",
      "##Iteration 50\n",
      "####solve alpha and beta (E step)\n",
      "####normalize (M step)####\n"
     ]
    },
    {
     "name": "stdout",
     "output_type": "stream",
     "text": [
      "[1] 0.1983385\n"
     ]
    },
    {
     "name": "stderr",
     "output_type": "stream",
     "text": [
      "##########################\n",
      "##Iteration 51\n",
      "####solve alpha and beta (E step)\n",
      "####normalize (M step)####\n"
     ]
    },
    {
     "name": "stdout",
     "output_type": "stream",
     "text": [
      "[1] 0.1978121\n"
     ]
    },
    {
     "name": "stderr",
     "output_type": "stream",
     "text": [
      "##########################\n",
      "##Iteration 52\n",
      "####solve alpha and beta (E step)\n",
      "####normalize (M step)####\n"
     ]
    },
    {
     "name": "stdout",
     "output_type": "stream",
     "text": [
      "[1] 0.1970513\n"
     ]
    },
    {
     "name": "stderr",
     "output_type": "stream",
     "text": [
      "##########################\n",
      "##Iteration 53\n",
      "####solve alpha and beta (E step)\n",
      "####normalize (M step)####\n"
     ]
    },
    {
     "name": "stdout",
     "output_type": "stream",
     "text": [
      "[1] 0.1954016\n"
     ]
    },
    {
     "name": "stderr",
     "output_type": "stream",
     "text": [
      "##########################\n",
      "##Iteration 54\n",
      "####solve alpha and beta (E step)\n",
      "####normalize (M step)####\n"
     ]
    },
    {
     "name": "stdout",
     "output_type": "stream",
     "text": [
      "[1] 0.194427\n"
     ]
    },
    {
     "name": "stderr",
     "output_type": "stream",
     "text": [
      "##########################\n",
      "##Iteration 55\n",
      "####solve alpha and beta (E step)\n",
      "####normalize (M step)####\n"
     ]
    },
    {
     "name": "stdout",
     "output_type": "stream",
     "text": [
      "[1] 0.1931773\n"
     ]
    },
    {
     "name": "stderr",
     "output_type": "stream",
     "text": [
      "##########################\n",
      "##Iteration 56\n",
      "####solve alpha and beta (E step)\n",
      "####normalize (M step)####\n"
     ]
    },
    {
     "name": "stdout",
     "output_type": "stream",
     "text": [
      "[1] 0.1925886\n"
     ]
    },
    {
     "name": "stderr",
     "output_type": "stream",
     "text": [
      "##########################\n",
      "##Iteration 57\n",
      "####solve alpha and beta (E step)\n",
      "####normalize (M step)####\n"
     ]
    },
    {
     "name": "stdout",
     "output_type": "stream",
     "text": [
      "[1] 0.1918567\n"
     ]
    },
    {
     "name": "stderr",
     "output_type": "stream",
     "text": [
      "##########################\n",
      "##Iteration 58\n",
      "####solve alpha and beta (E step)\n",
      "####normalize (M step)####\n"
     ]
    },
    {
     "name": "stdout",
     "output_type": "stream",
     "text": [
      "[1] 0.1907435\n"
     ]
    },
    {
     "name": "stderr",
     "output_type": "stream",
     "text": [
      "##########################\n",
      "##Iteration 59\n",
      "####solve alpha and beta (E step)\n",
      "####normalize (M step)####\n"
     ]
    },
    {
     "name": "stdout",
     "output_type": "stream",
     "text": [
      "[1] 0.1905649\n"
     ]
    },
    {
     "name": "stderr",
     "output_type": "stream",
     "text": [
      "##########################\n",
      "##Iteration 60\n",
      "####solve alpha and beta (E step)\n",
      "####normalize (M step)####\n"
     ]
    },
    {
     "name": "stdout",
     "output_type": "stream",
     "text": [
      "[1] 0.1907145\n"
     ]
    },
    {
     "name": "stderr",
     "output_type": "stream",
     "text": [
      "##########################\n",
      "##Iteration 61\n",
      "####solve alpha and beta (E step)\n",
      "####normalize (M step)####\n"
     ]
    },
    {
     "name": "stdout",
     "output_type": "stream",
     "text": [
      "[1] 0.1887674\n"
     ]
    },
    {
     "name": "stderr",
     "output_type": "stream",
     "text": [
      "##########################\n",
      "##Iteration 62\n",
      "####solve alpha and beta (E step)\n",
      "####normalize (M step)####\n"
     ]
    },
    {
     "name": "stdout",
     "output_type": "stream",
     "text": [
      "[1] 0.187365\n"
     ]
    },
    {
     "name": "stderr",
     "output_type": "stream",
     "text": [
      "##########################\n",
      "##Iteration 63\n",
      "####solve alpha and beta (E step)\n",
      "####normalize (M step)####\n"
     ]
    },
    {
     "name": "stdout",
     "output_type": "stream",
     "text": [
      "[1] 0.1883222\n"
     ]
    },
    {
     "name": "stderr",
     "output_type": "stream",
     "text": [
      "##########################\n",
      "##Iteration 64\n",
      "####solve alpha and beta (E step)\n",
      "####normalize (M step)####\n"
     ]
    },
    {
     "name": "stdout",
     "output_type": "stream",
     "text": [
      "[1] 0.1868686\n"
     ]
    },
    {
     "name": "stderr",
     "output_type": "stream",
     "text": [
      "##########################\n",
      "##Iteration 65\n",
      "####solve alpha and beta (E step)\n",
      "####normalize (M step)####\n"
     ]
    },
    {
     "name": "stdout",
     "output_type": "stream",
     "text": [
      "[1] 0.1867111\n"
     ]
    },
    {
     "name": "stderr",
     "output_type": "stream",
     "text": [
      "##########################\n",
      "##Iteration 66\n",
      "####solve alpha and beta (E step)\n",
      "####normalize (M step)####\n"
     ]
    },
    {
     "name": "stdout",
     "output_type": "stream",
     "text": [
      "[1] 0.1852412\n"
     ]
    },
    {
     "name": "stderr",
     "output_type": "stream",
     "text": [
      "##########################\n",
      "##Iteration 67\n",
      "####solve alpha and beta (E step)\n",
      "####normalize (M step)####\n"
     ]
    },
    {
     "name": "stdout",
     "output_type": "stream",
     "text": [
      "[1] 0.1850238\n"
     ]
    },
    {
     "name": "stderr",
     "output_type": "stream",
     "text": [
      "##########################\n",
      "##Iteration 68\n",
      "####solve alpha and beta (E step)\n",
      "####normalize (M step)####\n"
     ]
    },
    {
     "name": "stdout",
     "output_type": "stream",
     "text": [
      "[1] 0.1837026\n"
     ]
    },
    {
     "name": "stderr",
     "output_type": "stream",
     "text": [
      "##########################\n",
      "##Iteration 69\n",
      "####solve alpha and beta (E step)\n",
      "####normalize (M step)####\n"
     ]
    },
    {
     "name": "stdout",
     "output_type": "stream",
     "text": [
      "[1] 0.1839346\n"
     ]
    },
    {
     "name": "stderr",
     "output_type": "stream",
     "text": [
      "##########################\n",
      "##Iteration 70\n",
      "####solve alpha and beta (E step)\n",
      "####normalize (M step)####\n"
     ]
    },
    {
     "name": "stdout",
     "output_type": "stream",
     "text": [
      "[1] 0.1824442\n"
     ]
    },
    {
     "name": "stderr",
     "output_type": "stream",
     "text": [
      "##########################\n",
      "##Iteration 71\n",
      "####solve alpha and beta (E step)\n",
      "####normalize (M step)####\n"
     ]
    },
    {
     "name": "stdout",
     "output_type": "stream",
     "text": [
      "[1] 0.1821855\n"
     ]
    },
    {
     "name": "stderr",
     "output_type": "stream",
     "text": [
      "##########################\n",
      "##Iteration 72\n",
      "####solve alpha and beta (E step)\n",
      "####normalize (M step)####\n"
     ]
    },
    {
     "name": "stdout",
     "output_type": "stream",
     "text": [
      "[1] 0.182698\n"
     ]
    },
    {
     "name": "stderr",
     "output_type": "stream",
     "text": [
      "##########################\n",
      "##Iteration 73\n",
      "####solve alpha and beta (E step)\n",
      "####normalize (M step)####\n"
     ]
    },
    {
     "name": "stdout",
     "output_type": "stream",
     "text": [
      "[1] 0.1824728\n"
     ]
    },
    {
     "name": "stderr",
     "output_type": "stream",
     "text": [
      "##########################\n",
      "##Iteration 74\n",
      "####solve alpha and beta (E step)\n",
      "####normalize (M step)####\n"
     ]
    },
    {
     "name": "stdout",
     "output_type": "stream",
     "text": [
      "[1] 0.1847065\n"
     ]
    },
    {
     "name": "stderr",
     "output_type": "stream",
     "text": [
      "##########################\n",
      "##Iteration 75\n",
      "####solve alpha and beta (E step)\n",
      "####normalize (M step)####\n"
     ]
    },
    {
     "name": "stdout",
     "output_type": "stream",
     "text": [
      "[1] 0.1846005\n"
     ]
    },
    {
     "name": "stderr",
     "output_type": "stream",
     "text": [
      "##########################\n",
      "##Iteration 76\n",
      "####solve alpha and beta (E step)\n",
      "####normalize (M step)####\n"
     ]
    },
    {
     "name": "stdout",
     "output_type": "stream",
     "text": [
      "[1] 0.1838179\n"
     ]
    },
    {
     "name": "stderr",
     "output_type": "stream",
     "text": [
      "##########################\n"
     ]
    },
    {
     "name": "stdout",
     "output_type": "stream",
     "text": [
      "R_zmq_msg_send errno: 4 strerror: Interrupted system call\n"
     ]
    },
    {
     "name": "stderr",
     "output_type": "stream",
     "text": [
      "##Iteration 77\n",
      "####solve alpha and beta (E step)\n",
      "####normalize (M step)####\n"
     ]
    },
    {
     "name": "stdout",
     "output_type": "stream",
     "text": [
      "[1] 0.1837763\n"
     ]
    },
    {
     "name": "stderr",
     "output_type": "stream",
     "text": [
      "##########################\n",
      "##Iteration 78\n",
      "####solve alpha and beta (E step)\n",
      "####normalize (M step)####\n"
     ]
    },
    {
     "name": "stdout",
     "output_type": "stream",
     "text": [
      "[1] 0.1842331\n"
     ]
    },
    {
     "name": "stderr",
     "output_type": "stream",
     "text": [
      "##########################\n",
      "##Iteration 79\n",
      "####solve alpha and beta (E step)\n",
      "####normalize (M step)####\n"
     ]
    },
    {
     "name": "stdout",
     "output_type": "stream",
     "text": [
      "[1] 0.1836153\n"
     ]
    },
    {
     "name": "stderr",
     "output_type": "stream",
     "text": [
      "##########################\n",
      "##Iteration 80\n",
      "####solve alpha and beta (E step)\n",
      "####normalize (M step)####\n"
     ]
    },
    {
     "name": "stdout",
     "output_type": "stream",
     "text": [
      "[1] 0.1856832\n"
     ]
    },
    {
     "name": "stderr",
     "output_type": "stream",
     "text": [
      "##########################\n",
      "##Iteration 81\n",
      "####solve alpha and beta (E step)\n",
      "####normalize (M step)####\n"
     ]
    },
    {
     "name": "stdout",
     "output_type": "stream",
     "text": [
      "[1] 0.1850974\n"
     ]
    },
    {
     "name": "stderr",
     "output_type": "stream",
     "text": [
      "##########################\n",
      "##Iteration 82\n",
      "####solve alpha and beta (E step)\n",
      "####normalize (M step)####\n"
     ]
    },
    {
     "name": "stdout",
     "output_type": "stream",
     "text": [
      "[1] 0.1888637\n"
     ]
    },
    {
     "name": "stderr",
     "output_type": "stream",
     "text": [
      "##########################\n",
      "##Iteration 83\n",
      "####solve alpha and beta (E step)\n",
      "####normalize (M step)####\n"
     ]
    },
    {
     "name": "stdout",
     "output_type": "stream",
     "text": [
      "[1] 0.1961153\n"
     ]
    },
    {
     "name": "stderr",
     "output_type": "stream",
     "text": [
      "##########################\n",
      "##Iteration 84\n",
      "####solve alpha and beta (E step)\n",
      "####normalize (M step)####\n"
     ]
    },
    {
     "name": "stdout",
     "output_type": "stream",
     "text": [
      "[1] 0.201574\n"
     ]
    },
    {
     "name": "stderr",
     "output_type": "stream",
     "text": [
      "##########################\n",
      "##Iteration 85\n",
      "####solve alpha and beta (E step)\n",
      "####normalize (M step)####\n"
     ]
    },
    {
     "name": "stdout",
     "output_type": "stream",
     "text": [
      "[1] 0.203609\n"
     ]
    },
    {
     "name": "stderr",
     "output_type": "stream",
     "text": [
      "##########################\n",
      "##Iteration 86\n",
      "####solve alpha and beta (E step)\n",
      "####normalize (M step)####\n"
     ]
    },
    {
     "name": "stdout",
     "output_type": "stream",
     "text": [
      "[1] 0.2079638\n"
     ]
    },
    {
     "name": "stderr",
     "output_type": "stream",
     "text": [
      "##########################\n",
      "##Iteration 87\n",
      "####solve alpha and beta (E step)\n",
      "####normalize (M step)####\n"
     ]
    },
    {
     "name": "stdout",
     "output_type": "stream",
     "text": [
      "[1] 0.211378\n"
     ]
    },
    {
     "name": "stderr",
     "output_type": "stream",
     "text": [
      "##########################\n",
      "##Iteration 88\n",
      "####solve alpha and beta (E step)\n",
      "####normalize (M step)####\n"
     ]
    },
    {
     "name": "stdout",
     "output_type": "stream",
     "text": [
      "[1] 0.2163823\n"
     ]
    },
    {
     "name": "stderr",
     "output_type": "stream",
     "text": [
      "##########################\n",
      "##Iteration 89\n",
      "####solve alpha and beta (E step)\n",
      "####normalize (M step)####\n"
     ]
    },
    {
     "name": "stdout",
     "output_type": "stream",
     "text": [
      "[1] 0.2156704\n"
     ]
    },
    {
     "name": "stderr",
     "output_type": "stream",
     "text": [
      "##########################\n",
      "##Iteration 90\n",
      "####solve alpha and beta (E step)\n",
      "####normalize (M step)####\n"
     ]
    },
    {
     "name": "stdout",
     "output_type": "stream",
     "text": [
      "[1] 0.2193854\n"
     ]
    },
    {
     "name": "stderr",
     "output_type": "stream",
     "text": [
      "##########################\n",
      "##Iteration 91\n",
      "####solve alpha and beta (E step)\n",
      "####normalize (M step)####\n"
     ]
    },
    {
     "name": "stdout",
     "output_type": "stream",
     "text": [
      "[1] 0.2210611\n"
     ]
    },
    {
     "name": "stderr",
     "output_type": "stream",
     "text": [
      "##########################\n",
      "##Iteration 92\n",
      "####solve alpha and beta (E step)\n",
      "####normalize (M step)####\n"
     ]
    },
    {
     "name": "stdout",
     "output_type": "stream",
     "text": [
      "[1] 0.2218788\n"
     ]
    },
    {
     "name": "stderr",
     "output_type": "stream",
     "text": [
      "##########################\n",
      "##Iteration 93\n",
      "####solve alpha and beta (E step)\n",
      "####normalize (M step)####\n"
     ]
    },
    {
     "name": "stdout",
     "output_type": "stream",
     "text": [
      "[1] 0.2237072\n"
     ]
    },
    {
     "name": "stderr",
     "output_type": "stream",
     "text": [
      "##########################\n",
      "##Iteration 94\n",
      "####solve alpha and beta (E step)\n",
      "####normalize (M step)####\n"
     ]
    },
    {
     "name": "stdout",
     "output_type": "stream",
     "text": [
      "[1] 0.2226265\n"
     ]
    },
    {
     "name": "stderr",
     "output_type": "stream",
     "text": [
      "##########################\n",
      "##Iteration 95\n",
      "####solve alpha and beta (E step)\n",
      "####normalize (M step)####\n"
     ]
    },
    {
     "name": "stdout",
     "output_type": "stream",
     "text": [
      "[1] 0.2202509\n"
     ]
    },
    {
     "name": "stderr",
     "output_type": "stream",
     "text": [
      "##########################\n",
      "##Iteration 96\n",
      "####solve alpha and beta (E step)\n",
      "####normalize (M step)####\n"
     ]
    },
    {
     "name": "stdout",
     "output_type": "stream",
     "text": [
      "[1] 0.2198102\n"
     ]
    },
    {
     "name": "stderr",
     "output_type": "stream",
     "text": [
      "##########################\n",
      "##Iteration 97\n",
      "####solve alpha and beta (E step)\n",
      "####normalize (M step)####\n"
     ]
    },
    {
     "name": "stdout",
     "output_type": "stream",
     "text": [
      "[1] 0.2223372\n"
     ]
    },
    {
     "name": "stderr",
     "output_type": "stream",
     "text": [
      "##########################\n",
      "##Iteration 98\n",
      "####solve alpha and beta (E step)\n",
      "####normalize (M step)####\n"
     ]
    },
    {
     "name": "stdout",
     "output_type": "stream",
     "text": [
      "[1] 0.2254248\n"
     ]
    },
    {
     "name": "stderr",
     "output_type": "stream",
     "text": [
      "##########################\n",
      "##Iteration 99\n",
      "####solve alpha and beta (E step)\n",
      "####normalize (M step)####\n"
     ]
    },
    {
     "name": "stdout",
     "output_type": "stream",
     "text": [
      "[1] 0.2270813\n"
     ]
    },
    {
     "name": "stderr",
     "output_type": "stream",
     "text": [
      "##########################\n",
      "##Iteration 100\n",
      "####solve alpha and beta (E step)\n",
      "####normalize (M step)####\n"
     ]
    },
    {
     "name": "stdout",
     "output_type": "stream",
     "text": [
      "[1] 0.2245069\n"
     ]
    },
    {
     "name": "stderr",
     "output_type": "stream",
     "text": [
      "##########################\n",
      "##Iteration 101\n",
      "####solve alpha and beta (E step)\n",
      "####normalize (M step)####\n"
     ]
    },
    {
     "name": "stdout",
     "output_type": "stream",
     "text": [
      "[1] 0.2302298\n"
     ]
    },
    {
     "name": "stderr",
     "output_type": "stream",
     "text": [
      "##########################\n",
      "##Iteration 102\n",
      "####solve alpha and beta (E step)\n",
      "####normalize (M step)####\n"
     ]
    },
    {
     "name": "stdout",
     "output_type": "stream",
     "text": [
      "[1] 0.2304731\n"
     ]
    },
    {
     "name": "stderr",
     "output_type": "stream",
     "text": [
      "##########################\n",
      "##Iteration 103\n",
      "####solve alpha and beta (E step)\n",
      "####normalize (M step)####\n"
     ]
    },
    {
     "name": "stdout",
     "output_type": "stream",
     "text": [
      "[1] 0.2293129\n"
     ]
    },
    {
     "name": "stderr",
     "output_type": "stream",
     "text": [
      "##########################\n",
      "##Iteration 104\n",
      "####solve alpha and beta (E step)\n",
      "####normalize (M step)####\n"
     ]
    },
    {
     "name": "stdout",
     "output_type": "stream",
     "text": [
      "[1] 0.2340122\n"
     ]
    },
    {
     "name": "stderr",
     "output_type": "stream",
     "text": [
      "##########################\n",
      "##Iteration 105\n",
      "####solve alpha and beta (E step)\n",
      "####normalize (M step)####\n"
     ]
    },
    {
     "name": "stdout",
     "output_type": "stream",
     "text": [
      "[1] 0.2327023\n"
     ]
    },
    {
     "name": "stderr",
     "output_type": "stream",
     "text": [
      "##########################\n",
      "##Iteration 106\n",
      "####solve alpha and beta (E step)\n",
      "####normalize (M step)####\n"
     ]
    },
    {
     "name": "stdout",
     "output_type": "stream",
     "text": [
      "[1] 0.23095\n"
     ]
    },
    {
     "name": "stderr",
     "output_type": "stream",
     "text": [
      "##########################\n",
      "##Iteration 107\n",
      "####solve alpha and beta (E step)\n",
      "####normalize (M step)####\n"
     ]
    },
    {
     "name": "stdout",
     "output_type": "stream",
     "text": [
      "[1] 0.2342931\n"
     ]
    },
    {
     "name": "stderr",
     "output_type": "stream",
     "text": [
      "##########################\n",
      "##Iteration 108\n",
      "####solve alpha and beta (E step)\n",
      "####normalize (M step)####\n"
     ]
    },
    {
     "name": "stdout",
     "output_type": "stream",
     "text": [
      "[1] 0.2369111\n"
     ]
    },
    {
     "name": "stderr",
     "output_type": "stream",
     "text": [
      "##########################\n",
      "##Iteration 109\n",
      "####solve alpha and beta (E step)\n",
      "####normalize (M step)####\n"
     ]
    },
    {
     "name": "stdout",
     "output_type": "stream",
     "text": [
      "[1] 0.2352873\n"
     ]
    },
    {
     "name": "stderr",
     "output_type": "stream",
     "text": [
      "##########################\n",
      "##Iteration 110\n",
      "####solve alpha and beta (E step)\n",
      "####normalize (M step)####\n"
     ]
    },
    {
     "name": "stdout",
     "output_type": "stream",
     "text": [
      "[1] 0.236363\n"
     ]
    },
    {
     "name": "stderr",
     "output_type": "stream",
     "text": [
      "##########################\n",
      "##Iteration 111\n",
      "####solve alpha and beta (E step)\n",
      "####normalize (M step)####\n"
     ]
    },
    {
     "name": "stdout",
     "output_type": "stream",
     "text": [
      "[1] 0.2384093\n"
     ]
    },
    {
     "name": "stderr",
     "output_type": "stream",
     "text": [
      "##########################\n",
      "##Iteration 112\n",
      "####solve alpha and beta (E step)\n",
      "####normalize (M step)####\n"
     ]
    },
    {
     "name": "stdout",
     "output_type": "stream",
     "text": [
      "[1] 0.2404308\n"
     ]
    },
    {
     "name": "stderr",
     "output_type": "stream",
     "text": [
      "##########################\n",
      "##Iteration 113\n",
      "####solve alpha and beta (E step)\n",
      "####normalize (M step)####\n"
     ]
    },
    {
     "name": "stdout",
     "output_type": "stream",
     "text": [
      "[1] 0.2384858\n"
     ]
    },
    {
     "name": "stderr",
     "output_type": "stream",
     "text": [
      "##########################\n",
      "##Iteration 114\n",
      "####solve alpha and beta (E step)\n",
      "####normalize (M step)####\n"
     ]
    },
    {
     "name": "stdout",
     "output_type": "stream",
     "text": [
      "[1] 0.2369725\n"
     ]
    },
    {
     "name": "stderr",
     "output_type": "stream",
     "text": [
      "##########################\n",
      "##Iteration 115\n",
      "####solve alpha and beta (E step)\n",
      "####normalize (M step)####\n"
     ]
    },
    {
     "name": "stdout",
     "output_type": "stream",
     "text": [
      "[1] 0.2409606\n"
     ]
    },
    {
     "name": "stderr",
     "output_type": "stream",
     "text": [
      "##########################\n",
      "##Iteration 116\n",
      "####solve alpha and beta (E step)\n",
      "####normalize (M step)####\n"
     ]
    },
    {
     "name": "stdout",
     "output_type": "stream",
     "text": [
      "[1] 0.2413328\n"
     ]
    },
    {
     "name": "stderr",
     "output_type": "stream",
     "text": [
      "##########################\n",
      "##Iteration 117\n",
      "####solve alpha and beta (E step)\n",
      "####normalize (M step)####\n"
     ]
    },
    {
     "name": "stdout",
     "output_type": "stream",
     "text": [
      "[1] 0.2410784\n"
     ]
    },
    {
     "name": "stderr",
     "output_type": "stream",
     "text": [
      "##########################\n",
      "##Iteration 118\n",
      "####solve alpha and beta (E step)\n",
      "####normalize (M step)####\n"
     ]
    },
    {
     "name": "stdout",
     "output_type": "stream",
     "text": [
      "[1] 0.2477197\n"
     ]
    },
    {
     "name": "stderr",
     "output_type": "stream",
     "text": [
      "##########################\n",
      "##Iteration 119\n",
      "####solve alpha and beta (E step)\n",
      "####normalize (M step)####\n"
     ]
    },
    {
     "name": "stdout",
     "output_type": "stream",
     "text": [
      "[1] 0.2452688\n"
     ]
    },
    {
     "name": "stderr",
     "output_type": "stream",
     "text": [
      "##########################\n",
      "##Iteration 120\n",
      "####solve alpha and beta (E step)\n",
      "####normalize (M step)####\n"
     ]
    },
    {
     "name": "stdout",
     "output_type": "stream",
     "text": [
      "[1] 0.2427334\n"
     ]
    },
    {
     "name": "stderr",
     "output_type": "stream",
     "text": [
      "##########################\n",
      "##Iteration 121\n",
      "####solve alpha and beta (E step)\n",
      "####normalize (M step)####\n"
     ]
    },
    {
     "name": "stdout",
     "output_type": "stream",
     "text": [
      "[1] 0.2482181\n"
     ]
    },
    {
     "name": "stderr",
     "output_type": "stream",
     "text": [
      "##########################\n",
      "##Iteration 122\n",
      "####solve alpha and beta (E step)\n",
      "####normalize (M step)####\n"
     ]
    },
    {
     "name": "stdout",
     "output_type": "stream",
     "text": [
      "[1] 0.2483088\n"
     ]
    },
    {
     "name": "stderr",
     "output_type": "stream",
     "text": [
      "##########################\n",
      "##Iteration 123\n",
      "####solve alpha and beta (E step)\n",
      "####normalize (M step)####\n"
     ]
    },
    {
     "name": "stdout",
     "output_type": "stream",
     "text": [
      "[1] 0.2491926\n"
     ]
    },
    {
     "name": "stderr",
     "output_type": "stream",
     "text": [
      "##########################\n",
      "##Iteration 124\n",
      "####solve alpha and beta (E step)\n",
      "####normalize (M step)####\n"
     ]
    },
    {
     "name": "stdout",
     "output_type": "stream",
     "text": [
      "[1] 0.2493385\n"
     ]
    },
    {
     "name": "stderr",
     "output_type": "stream",
     "text": [
      "##########################\n",
      "##Iteration 125\n",
      "####solve alpha and beta (E step)\n",
      "####normalize (M step)####\n"
     ]
    },
    {
     "name": "stdout",
     "output_type": "stream",
     "text": [
      "[1] 0.2509524\n"
     ]
    },
    {
     "name": "stderr",
     "output_type": "stream",
     "text": [
      "##########################\n",
      "##Iteration 126\n",
      "####solve alpha and beta (E step)\n",
      "####normalize (M step)####\n"
     ]
    },
    {
     "name": "stdout",
     "output_type": "stream",
     "text": [
      "[1] 0.2518286\n"
     ]
    },
    {
     "name": "stderr",
     "output_type": "stream",
     "text": [
      "##########################\n",
      "##Iteration 127\n",
      "####solve alpha and beta (E step)\n",
      "####normalize (M step)####\n"
     ]
    },
    {
     "name": "stdout",
     "output_type": "stream",
     "text": [
      "[1] 0.2528544\n"
     ]
    },
    {
     "name": "stderr",
     "output_type": "stream",
     "text": [
      "##########################\n",
      "##Iteration 128\n",
      "####solve alpha and beta (E step)\n",
      "####normalize (M step)####\n"
     ]
    },
    {
     "name": "stdout",
     "output_type": "stream",
     "text": [
      "[1] 0.2526025\n"
     ]
    },
    {
     "name": "stderr",
     "output_type": "stream",
     "text": [
      "##########################\n",
      "##Iteration 129\n",
      "####solve alpha and beta (E step)\n",
      "####normalize (M step)####\n"
     ]
    },
    {
     "name": "stdout",
     "output_type": "stream",
     "text": [
      "[1] 0.2573079\n"
     ]
    },
    {
     "name": "stderr",
     "output_type": "stream",
     "text": [
      "##########################\n",
      "##Iteration 130\n",
      "####solve alpha and beta (E step)\n",
      "####normalize (M step)####\n"
     ]
    },
    {
     "name": "stdout",
     "output_type": "stream",
     "text": [
      "[1] 0.2553889\n"
     ]
    },
    {
     "name": "stderr",
     "output_type": "stream",
     "text": [
      "##########################\n",
      "##Iteration 131\n",
      "####solve alpha and beta (E step)\n",
      "####normalize (M step)####\n"
     ]
    },
    {
     "name": "stdout",
     "output_type": "stream",
     "text": [
      "[1] 0.2589093\n"
     ]
    },
    {
     "name": "stderr",
     "output_type": "stream",
     "text": [
      "##########################\n",
      "##Iteration 132\n",
      "####solve alpha and beta (E step)\n",
      "####normalize (M step)####\n"
     ]
    },
    {
     "name": "stdout",
     "output_type": "stream",
     "text": [
      "[1] 0.2585825\n"
     ]
    },
    {
     "name": "stderr",
     "output_type": "stream",
     "text": [
      "##########################\n",
      "##Iteration 133\n",
      "####solve alpha and beta (E step)\n",
      "####normalize (M step)####\n"
     ]
    },
    {
     "name": "stdout",
     "output_type": "stream",
     "text": [
      "[1] 0.2593917\n"
     ]
    },
    {
     "name": "stderr",
     "output_type": "stream",
     "text": [
      "##########################\n",
      "##Iteration 134\n",
      "####solve alpha and beta (E step)\n",
      "####normalize (M step)####\n"
     ]
    },
    {
     "name": "stdout",
     "output_type": "stream",
     "text": [
      "[1] 0.2603315\n"
     ]
    },
    {
     "name": "stderr",
     "output_type": "stream",
     "text": [
      "##########################\n",
      "##Iteration 135\n",
      "####solve alpha and beta (E step)\n",
      "####normalize (M step)####\n"
     ]
    },
    {
     "name": "stdout",
     "output_type": "stream",
     "text": [
      "[1] 0.2582539\n"
     ]
    },
    {
     "name": "stderr",
     "output_type": "stream",
     "text": [
      "##########################\n",
      "##Iteration 136\n",
      "####solve alpha and beta (E step)\n",
      "####normalize (M step)####\n"
     ]
    },
    {
     "name": "stdout",
     "output_type": "stream",
     "text": [
      "[1] 0.2617885\n"
     ]
    },
    {
     "name": "stderr",
     "output_type": "stream",
     "text": [
      "##########################\n",
      "##Iteration 137\n",
      "####solve alpha and beta (E step)\n",
      "####normalize (M step)####\n"
     ]
    },
    {
     "name": "stdout",
     "output_type": "stream",
     "text": [
      "[1] 0.2580667\n"
     ]
    },
    {
     "name": "stderr",
     "output_type": "stream",
     "text": [
      "##########################\n",
      "##Iteration 138\n",
      "####solve alpha and beta (E step)\n",
      "####normalize (M step)####\n"
     ]
    },
    {
     "name": "stdout",
     "output_type": "stream",
     "text": [
      "[1] 0.2551623\n"
     ]
    },
    {
     "name": "stderr",
     "output_type": "stream",
     "text": [
      "##########################\n",
      "##Iteration 139\n",
      "####solve alpha and beta (E step)\n",
      "####normalize (M step)####\n"
     ]
    },
    {
     "name": "stdout",
     "output_type": "stream",
     "text": [
      "[1] 0.2613331\n"
     ]
    },
    {
     "name": "stderr",
     "output_type": "stream",
     "text": [
      "##########################\n",
      "##Iteration 140\n",
      "####solve alpha and beta (E step)\n",
      "####normalize (M step)####\n"
     ]
    },
    {
     "name": "stdout",
     "output_type": "stream",
     "text": [
      "[1] 0.2614017\n"
     ]
    },
    {
     "name": "stderr",
     "output_type": "stream",
     "text": [
      "##########################\n",
      "##Iteration 141\n",
      "####solve alpha and beta (E step)\n",
      "####normalize (M step)####\n"
     ]
    },
    {
     "name": "stdout",
     "output_type": "stream",
     "text": [
      "[1] 0.2618165\n"
     ]
    },
    {
     "name": "stderr",
     "output_type": "stream",
     "text": [
      "##########################\n",
      "##Iteration 142\n",
      "####solve alpha and beta (E step)\n",
      "####normalize (M step)####\n"
     ]
    },
    {
     "name": "stdout",
     "output_type": "stream",
     "text": [
      "[1] 0.2617912\n"
     ]
    },
    {
     "name": "stderr",
     "output_type": "stream",
     "text": [
      "##########################\n",
      "##Iteration 143\n",
      "####solve alpha and beta (E step)\n",
      "####normalize (M step)####\n"
     ]
    },
    {
     "name": "stdout",
     "output_type": "stream",
     "text": [
      "[1] 0.2614499\n"
     ]
    },
    {
     "name": "stderr",
     "output_type": "stream",
     "text": [
      "##########################\n",
      "##Iteration 144\n",
      "####solve alpha and beta (E step)\n",
      "####normalize (M step)####\n"
     ]
    },
    {
     "name": "stdout",
     "output_type": "stream",
     "text": [
      "[1] 0.2594367\n"
     ]
    },
    {
     "name": "stderr",
     "output_type": "stream",
     "text": [
      "##########################\n",
      "##Iteration 145\n",
      "####solve alpha and beta (E step)\n",
      "####normalize (M step)####\n"
     ]
    },
    {
     "name": "stdout",
     "output_type": "stream",
     "text": [
      "[1] 0.2629278\n"
     ]
    },
    {
     "name": "stderr",
     "output_type": "stream",
     "text": [
      "##########################\n",
      "##Iteration 146\n",
      "####solve alpha and beta (E step)\n",
      "####normalize (M step)####\n"
     ]
    },
    {
     "name": "stdout",
     "output_type": "stream",
     "text": [
      "[1] 0.2618021\n"
     ]
    },
    {
     "name": "stderr",
     "output_type": "stream",
     "text": [
      "##########################\n",
      "##Iteration 147\n",
      "####solve alpha and beta (E step)\n",
      "####normalize (M step)####\n"
     ]
    },
    {
     "name": "stdout",
     "output_type": "stream",
     "text": [
      "[1] 0.2649355\n"
     ]
    },
    {
     "name": "stderr",
     "output_type": "stream",
     "text": [
      "##########################\n",
      "##Iteration 148\n",
      "####solve alpha and beta (E step)\n",
      "####normalize (M step)####\n"
     ]
    },
    {
     "name": "stdout",
     "output_type": "stream",
     "text": [
      "[1] 0.2624123\n"
     ]
    },
    {
     "name": "stderr",
     "output_type": "stream",
     "text": [
      "##########################\n",
      "##Iteration 149\n",
      "####solve alpha and beta (E step)\n",
      "####normalize (M step)####\n"
     ]
    },
    {
     "name": "stdout",
     "output_type": "stream",
     "text": [
      "[1] 0.2605465\n"
     ]
    },
    {
     "name": "stderr",
     "output_type": "stream",
     "text": [
      "##########################\n",
      "##Iteration 150\n",
      "####solve alpha and beta (E step)\n",
      "####normalize (M step)####\n"
     ]
    },
    {
     "name": "stdout",
     "output_type": "stream",
     "text": [
      "[1] 0.2591309\n"
     ]
    },
    {
     "name": "stderr",
     "output_type": "stream",
     "text": [
      "##########################\n",
      "##Iteration 151\n",
      "####solve alpha and beta (E step)\n",
      "####normalize (M step)####\n"
     ]
    },
    {
     "name": "stdout",
     "output_type": "stream",
     "text": [
      "[1] 0.2617505\n"
     ]
    },
    {
     "name": "stderr",
     "output_type": "stream",
     "text": [
      "##########################\n",
      "##Iteration 152\n",
      "####solve alpha and beta (E step)\n",
      "####normalize (M step)####\n"
     ]
    },
    {
     "name": "stdout",
     "output_type": "stream",
     "text": [
      "[1] 0.2652486\n"
     ]
    },
    {
     "name": "stderr",
     "output_type": "stream",
     "text": [
      "##########################\n",
      "##Iteration 153\n",
      "####solve alpha and beta (E step)\n",
      "####normalize (M step)####\n"
     ]
    },
    {
     "name": "stdout",
     "output_type": "stream",
     "text": [
      "[1] 0.2631852\n"
     ]
    },
    {
     "name": "stderr",
     "output_type": "stream",
     "text": [
      "##########################\n",
      "##Iteration 154\n",
      "####solve alpha and beta (E step)\n",
      "####normalize (M step)####\n"
     ]
    },
    {
     "name": "stdout",
     "output_type": "stream",
     "text": [
      "[1] 0.2590946\n"
     ]
    },
    {
     "name": "stderr",
     "output_type": "stream",
     "text": [
      "##########################\n",
      "##Iteration 155\n",
      "####solve alpha and beta (E step)\n",
      "####normalize (M step)####\n"
     ]
    },
    {
     "name": "stdout",
     "output_type": "stream",
     "text": [
      "[1] 0.2575245\n"
     ]
    },
    {
     "name": "stderr",
     "output_type": "stream",
     "text": [
      "##########################\n",
      "##Iteration 156\n",
      "####solve alpha and beta (E step)\n",
      "####normalize (M step)####\n"
     ]
    },
    {
     "name": "stdout",
     "output_type": "stream",
     "text": [
      "[1] 0.2639938\n"
     ]
    },
    {
     "name": "stderr",
     "output_type": "stream",
     "text": [
      "##########################\n",
      "##Iteration 157\n",
      "####solve alpha and beta (E step)\n",
      "####normalize (M step)####\n"
     ]
    },
    {
     "name": "stdout",
     "output_type": "stream",
     "text": [
      "[1] 0.2646379\n"
     ]
    },
    {
     "name": "stderr",
     "output_type": "stream",
     "text": [
      "##########################\n",
      "##Iteration 158\n",
      "####solve alpha and beta (E step)\n",
      "####normalize (M step)####\n"
     ]
    },
    {
     "name": "stdout",
     "output_type": "stream",
     "text": [
      "[1] 0.263935\n"
     ]
    },
    {
     "name": "stderr",
     "output_type": "stream",
     "text": [
      "##########################\n",
      "##Iteration 159\n",
      "####solve alpha and beta (E step)\n",
      "####normalize (M step)####\n"
     ]
    },
    {
     "name": "stdout",
     "output_type": "stream",
     "text": [
      "[1] 0.2620558\n"
     ]
    },
    {
     "name": "stderr",
     "output_type": "stream",
     "text": [
      "##########################\n",
      "##Iteration 160\n",
      "####solve alpha and beta (E step)\n",
      "####normalize (M step)####\n"
     ]
    },
    {
     "name": "stdout",
     "output_type": "stream",
     "text": [
      "[1] 0.2662512\n"
     ]
    },
    {
     "name": "stderr",
     "output_type": "stream",
     "text": [
      "##########################\n",
      "##Iteration 161\n",
      "####solve alpha and beta (E step)\n",
      "####normalize (M step)####\n"
     ]
    },
    {
     "name": "stdout",
     "output_type": "stream",
     "text": [
      "[1] 0.268945\n"
     ]
    },
    {
     "name": "stderr",
     "output_type": "stream",
     "text": [
      "##########################\n",
      "##Iteration 162\n",
      "####solve alpha and beta (E step)\n",
      "####normalize (M step)####\n"
     ]
    },
    {
     "name": "stdout",
     "output_type": "stream",
     "text": [
      "[1] 0.2653953\n"
     ]
    },
    {
     "name": "stderr",
     "output_type": "stream",
     "text": [
      "##########################\n",
      "##Iteration 163\n",
      "####solve alpha and beta (E step)\n",
      "####normalize (M step)####\n"
     ]
    },
    {
     "name": "stdout",
     "output_type": "stream",
     "text": [
      "[1] 0.2696927\n"
     ]
    },
    {
     "name": "stderr",
     "output_type": "stream",
     "text": [
      "##########################\n",
      "##Iteration 164\n",
      "####solve alpha and beta (E step)\n",
      "####normalize (M step)####\n"
     ]
    },
    {
     "name": "stdout",
     "output_type": "stream",
     "text": [
      "[1] 0.2700659\n"
     ]
    },
    {
     "name": "stderr",
     "output_type": "stream",
     "text": [
      "##########################\n",
      "##Iteration 165\n",
      "####solve alpha and beta (E step)\n",
      "####normalize (M step)####\n"
     ]
    },
    {
     "name": "stdout",
     "output_type": "stream",
     "text": [
      "[1] 0.2694399\n"
     ]
    },
    {
     "name": "stderr",
     "output_type": "stream",
     "text": [
      "##########################\n",
      "##Iteration 166\n",
      "####solve alpha and beta (E step)\n",
      "####normalize (M step)####\n"
     ]
    },
    {
     "name": "stdout",
     "output_type": "stream",
     "text": [
      "[1] 0.2744151\n"
     ]
    },
    {
     "name": "stderr",
     "output_type": "stream",
     "text": [
      "##########################\n",
      "##Iteration 167\n",
      "####solve alpha and beta (E step)\n"
     ]
    }
   ],
   "source": [
    "res <- EM(dat=dat, meta=meta, dev=10,\n",
    "          verbose=TRUE,\n",
    "          refSp=3,\n",
    "          min_iter = 100,epsilon = 0.5, max_iter = 200,\n",
    "          ncpu=20, scaling = scaling,seed=1)\n"
   ]
  },
  {
   "cell_type": "markdown",
   "metadata": {},
   "source": [
    "## Gather data for plots"
   ]
  },
  {
   "cell_type": "code",
   "execution_count": 7,
   "metadata": {
    "collapsed": true
   },
   "outputs": [],
   "source": [
    "trace.mse <- res$trace.mse\n",
    "min.mse <- min(trace.mse)\n",
    "trace.mse[1:10] <- Inf\n",
    "em.idx <- which((trace.mse-min.mse) < 0.5*min.mse)\n",
    "biomass <- apply(res$trace.biomass[,em.idx],1,median)\n",
    "\n",
    "plot.dat.biomass <- data.frame(\"Flow cytometry\"=biomass.true.sel,\n",
    "                               \"BEEM estimates\"=biomass/scaling*median(biomass.true.sel),\n",
    "                               \"CSS normalized\"=biomass.css.sel/median(biomass.css.sel)*median(biomass.true.sel),\n",
    "                               time=meta$measurementID,\n",
    "                               replicate=paste0(\"Replicate.\",meta$subjectID))"
   ]
  },
  {
   "cell_type": "markdown",
   "metadata": {},
   "source": [
    "## Biomass trajectories"
   ]
  },
  {
   "cell_type": "code",
   "execution_count": 8,
   "metadata": {
    "collapsed": false
   },
   "outputs": [
    {
     "data": {},
     "metadata": {},
     "output_type": "display_data"
    },
    {
     "data": {
      "image/png": "[encoded data removed]",
      "text/plain": [
       "plot without title"
      ]
     },
     "metadata": {},
     "output_type": "display_data"
    }
   ],
   "source": [
    "ggplot(melt(plot.dat.biomass, id.vars = list(\"time\",\"replicate\")), aes(x=time,y=value,pch=variable, col=variable)) +\n",
    "    labs(x=\"Time relative to start (Day)\",y=\"Biomass (cells/mL)\") + \n",
    "        geom_point(size= 5) + geom_line(size=2, alpha=0.5)  + facet_wrap(~replicate,ncol=1,scale='free_y') +\n",
    "            scale_color_manual(values=c('red','darkgreen','blue'))"
   ]
  },
  {
   "cell_type": "markdown",
   "metadata": {},
   "source": [
    "## Scatter plot and Spearman correlations"
   ]
  },
  {
   "cell_type": "code",
   "execution_count": 9,
   "metadata": {
    "collapsed": false
   },
   "outputs": [
    {
     "data": {},
     "metadata": {},
     "output_type": "display_data"
    },
    {
     "data": {
      "image/png": "[encoded data removed]",
      "text/plain": [
       "plot without title"
      ]
     },
     "metadata": {},
     "output_type": "display_data"
    }
   ],
   "source": [
    "ggplot(plot.dat.biomass,aes(x=Flow.cytometry, y=BEEM.estimates)) +\n",
    "    geom_abline(intercept = 0,slope=1, size=2, col='grey') +\n",
    "    geom_point(size=5,col='darkgreen',alpha=0.5) + \n",
    "    labs(x='Flow cytometry (cells/mL)',y='Normalized biomass (cells/mL)') +\n",
    "    geom_point(aes(x=Flow.cytometry,y=CSS.normalized), col='blue',size=5,alpha=0.5) + \n",
    "    annotate(\"text\",x=2e6,y=3.5e6,size=5,label=paste0(\"BEEM Spearman correlation=\",round(cor.test(biomass.true.sel,biomass, method='spearman')$estimate,2)),col='darkgreen') + \n",
    "    annotate(\"text\",x=2e6,y=3.3e6,size=5,label=paste0(\"CSS Spearman correlation=\",round(cor.test(biomass.true.sel,biomass.css.sel, method='spearman')$estimate,2)),col='blue')"
   ]
  },
  {
   "cell_type": "markdown",
   "metadata": {},
   "source": [
    "## Relative error in biomass"
   ]
  },
  {
   "cell_type": "code",
   "execution_count": 10,
   "metadata": {
    "collapsed": false
   },
   "outputs": [
    {
     "data": {},
     "metadata": {},
     "output_type": "display_data"
    },
    {
     "data": {
      "image/png": "[encoded data removed]",
      "text/plain": [
       "plot without title"
      ]
     },
     "metadata": {},
     "output_type": "display_data"
    }
   ],
   "source": [
    "## function to compute relaitve error\n",
    "rel_err <- function(a,b){\n",
    "    a <- c(a)\n",
    "    b <- c(b)\n",
    "    tmp <- abs((a-b)/(a))\n",
    "    ## 0/0 --> no error\n",
    "    tmp[is.nan(tmp)] <- 0\n",
    "    tmp \n",
    "}\n",
    "\n",
    "beem.rel.err <- with(plot.dat.biomass, rel_err(Flow.cytometry,BEEM.estimates))\n",
    "css.rel.err <- with(plot.dat.biomass, rel_err(Flow.cytometry,CSS.normalized))\n",
    "\n",
    "c.dat <- rbind(data.frame(rel.err=beem.rel.err, method=\"BEEM estimates\"),\n",
    "               data.frame(rel.err=css.rel.err, method=\"CSS normalized\"))\n",
    "\n",
    "test.p <- round(wilcox.test(beem.rel.err,css.rel.err, alternative = 'less')$p.value,3)\n",
    "\n",
    "\n",
    "ggplot(c.dat,aes(x=method,y=rel.err,fill=method)) +\n",
    "    geom_boxplot(outlier.shape = NA, alpha=0.5, lwd=1.8) +\n",
    "    labs(x=NULL,y='Relative error in biomass')+\n",
    "    scale_fill_manual(values=c('darkgreen','blue'),guide='none') +\n",
    "    annotate(\"text\",x=1.5,y=2,size=8,label=paste0(\"Wilcoxon test p-value=\",test.p))\n"
   ]
  }
 ],
 "metadata": {
  "kernelspec": {
   "display_name": "R",
   "language": "R",
   "name": "ir"
  },
  "language_info": {
   "codemirror_mode": "r",
   "file_extension": ".r",
   "mimetype": "text/x-r-source",
   "name": "R",
   "pygments_lexer": "r",
   "version": "3.4.0"
  }
 },
 "nbformat": 4,
 "nbformat_minor": 2
}
