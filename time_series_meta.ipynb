{
 "cells": [
  {
   "cell_type": "markdown",
   "metadata": {},
   "source": [
    "# Analysis of one-year trace of gut microbiome\n",
    "This notebook records the code used for analyzing data from [Gibbons _et. al._ (2017)](http://journals.plos.org/ploscompbiol/article?id=10.1371/journal.pcbi.1005364). "
   ]
  },
  {
   "cell_type": "markdown",
   "metadata": {},
   "source": [
    "## Load required packages"
   ]
  },
  {
   "cell_type": "code",
   "execution_count": 2,
   "metadata": {
    "collapsed": false
   },
   "outputs": [
    {
     "name": "stderr",
     "output_type": "stream",
     "text": [
      "Loading required package: ggplot2\n",
      "Loading required package: foreach\n",
      "Loading required package: doMC\n",
      "Loading required package: iterators\n",
      "Loading required package: parallel\n",
      "Loading required package: lokern\n",
      "Loading required package: pspline\n",
      "Loading required package: monomvn\n",
      "Loading required package: pls\n",
      "\n",
      "Attaching package: ‘pls’\n",
      "\n",
      "The following object is masked from ‘package:stats’:\n",
      "\n",
      "    loadings\n",
      "\n",
      "Loading required package: lars\n",
      "Loaded lars 1.2\n",
      "\n",
      "Loading required package: MASS\n",
      "Loading required package: reshape2\n",
      "Loading required package: RColorBrewer\n",
      "Loading required package: grid\n",
      "Loading required package: RCurl\n",
      "Loading required package: bitops\n",
      "Loading required package: igraph\n",
      "Warning message:\n",
      "“package ‘igraph’ was built under R version 3.4.1”\n",
      "Attaching package: ‘igraph’\n",
      "\n",
      "The following objects are masked from ‘package:stats’:\n",
      "\n",
      "    decompose, spectrum\n",
      "\n",
      "The following object is masked from ‘package:base’:\n",
      "\n",
      "    union\n",
      "\n",
      "Loading required package: ggsci\n",
      "Warning message:\n",
      "“package ‘ggsci’ was built under R version 3.4.2”"
     ]
    },
    {
     "data": {
      "text/html": [
       "<dl class=dl-horizontal>\n",
       "\t<dt>ggplot2</dt>\n",
       "\t\t<dd>TRUE</dd>\n",
       "\t<dt>foreach</dt>\n",
       "\t\t<dd>TRUE</dd>\n",
       "\t<dt>doMC</dt>\n",
       "\t\t<dd>TRUE</dd>\n",
       "\t<dt>lokern</dt>\n",
       "\t\t<dd>TRUE</dd>\n",
       "\t<dt>pspline</dt>\n",
       "\t\t<dd>TRUE</dd>\n",
       "\t<dt>monomvn</dt>\n",
       "\t\t<dd>TRUE</dd>\n",
       "\t<dt>reshape2</dt>\n",
       "\t\t<dd>TRUE</dd>\n",
       "\t<dt>RColorBrewer</dt>\n",
       "\t\t<dd>TRUE</dd>\n",
       "\t<dt>grid</dt>\n",
       "\t\t<dd>TRUE</dd>\n",
       "\t<dt>RCurl</dt>\n",
       "\t\t<dd>TRUE</dd>\n",
       "\t<dt>igraph</dt>\n",
       "\t\t<dd>TRUE</dd>\n",
       "\t<dt>ggsci</dt>\n",
       "\t\t<dd>TRUE</dd>\n",
       "</dl>\n"
      ],
      "text/latex": [
       "\\begin{description*}\n",
       "\\item[ggplot2] TRUE\n",
       "\\item[foreach] TRUE\n",
       "\\item[doMC] TRUE\n",
       "\\item[lokern] TRUE\n",
       "\\item[pspline] TRUE\n",
       "\\item[monomvn] TRUE\n",
       "\\item[reshape2] TRUE\n",
       "\\item[RColorBrewer] TRUE\n",
       "\\item[grid] TRUE\n",
       "\\item[RCurl] TRUE\n",
       "\\item[igraph] TRUE\n",
       "\\item[ggsci] TRUE\n",
       "\\end{description*}\n"
      ],
      "text/markdown": [
       "ggplot2\n",
       ":   TRUEforeach\n",
       ":   TRUEdoMC\n",
       ":   TRUElokern\n",
       ":   TRUEpspline\n",
       ":   TRUEmonomvn\n",
       ":   TRUEreshape2\n",
       ":   TRUERColorBrewer\n",
       ":   TRUEgrid\n",
       ":   TRUERCurl\n",
       ":   TRUEigraph\n",
       ":   TRUEggsci\n",
       ":   TRUE\n",
       "\n"
      ],
      "text/plain": [
       "     ggplot2      foreach         doMC       lokern      pspline      monomvn \n",
       "        TRUE         TRUE         TRUE         TRUE         TRUE         TRUE \n",
       "    reshape2 RColorBrewer         grid        RCurl       igraph        ggsci \n",
       "        TRUE         TRUE         TRUE         TRUE         TRUE         TRUE "
      ]
     },
     "metadata": {},
     "output_type": "display_data"
    }
   ],
   "source": [
    "## https://gist.github.com/stevenworthington/3178163\n",
    "ipak <- function(pkg){\n",
    "    new.pkg <- pkg[!(pkg %in% installed.packages()[, \"Package\"])]\n",
    "    if (length(new.pkg)) \n",
    "        install.packages(new.pkg, dependencies = TRUE)\n",
    "    sapply(pkg, require, character.only = TRUE)\n",
    "}\n",
    "\n",
    "# usage\n",
    "packages <- c(\"ggplot2\", \"foreach\",'doMC','lokern', 'pspline', 'monomvn', \n",
    "              \"reshape2\", \"RColorBrewer\", \"grid\", \"RCurl\", \"igraph\", \"ggsci\")\n",
    "ipak(packages)"
   ]
  },
  {
   "cell_type": "markdown",
   "metadata": {},
   "source": [
    "## Access Dropbox files"
   ]
  },
  {
   "cell_type": "code",
   "execution_count": 3,
   "metadata": {
    "collapsed": true
   },
   "outputs": [],
   "source": [
    "source.dropbox = function(dropbox.url, targetFile) {\n",
    "    ### Adapted from http://rstudio-pubs-static.s3.amazonaws.com/10162_c939e11b01c54cc9afda69b4dd0c62fe.html\n",
    "    library(RCurl)\n",
    "    setwd(tempdir())\n",
    "    destfile = targetFile\n",
    "    # use regex to get the piece of the Dropbox URL we need\n",
    "    matches <- regexpr(\"(/s/.*)\", dropbox.url, perl = TRUE, ignore.case = TRUE)\n",
    "    result <- attr(matches, \"capture.start\")[, 1]\n",
    "    attr(result, \"match.length\") <- attr(matches, \"capture.length\")[, 1]\n",
    "    dropbox.tail = regmatches(dropbox.url, result)\n",
    "    dburl = paste(\"https://dl.dropbox.com\", dropbox.tail, sep = \"\")\n",
    "    x = getBinaryURL(dburl, followlocation = TRUE, ssl.verifypeer = FALSE)\n",
    "    writeBin(x, destfile, useBytes = TRUE)\n",
    "}"
   ]
  },
  {
   "cell_type": "markdown",
   "metadata": {},
   "source": [
    "## Download data\n",
    "If you have downloaded the entire git repository, you can skip this step."
   ]
  },
  {
   "cell_type": "code",
   "execution_count": 4,
   "metadata": {
    "collapsed": false
   },
   "outputs": [],
   "source": [
    "## functions\n",
    "source.dropbox(\"https://www.dropbox.com/s/1r8yaidrp5vjjo0/emFunctions.r\", \"~/beem/emFunctions.r\")\n",
    "\n",
    "## DA\n",
    "source.dropbox(\"https://www.dropbox.com/s/oa47p5ru9846ss7/DA.counts.txt\", \"~/beem/time_series_analysis/DA.counts.txt\")\n",
    "source.dropbox(\"https://www.dropbox.com/s/kq0nd849osoyavh/DA.metadata.txt\", \"~/beem/time_series_analysis/DA.metadata.txt\")\n",
    "## M3\n",
    "source.dropbox(\"https://www.dropbox.com/s/34p46fs2wli3okh/M3.counts.txt\", \"~/beem/time_series_analysis/M3.counts.txt\")\n",
    "source.dropbox(\"https://www.dropbox.com/s/02gkmlbsrhjtb14/M3.metadata.txt\", \"~/beem/time_series_analysis/M3.metadata.txt\")\n",
    "## DB\n",
    "source.dropbox(\"https://www.dropbox.com/s/mw9igdeq1qk68ru/DB.counts.txt\", \"~/beem/time_series_analysis/DB.counts.txt\")\n",
    "source.dropbox(\"https://www.dropbox.com/s/k46lx4n6shtfmfz/DB.metadata.txt\", \"~/beem/time_series_analysis/DB.metadata.txt\")\n",
    "## F4\n",
    "source.dropbox(\"https://www.dropbox.com/s/ssgzghscrfu2bjh/F4.counts.txt\", \"~/beem/time_series_analysis/F4.counts.txt\")\n",
    "source.dropbox(\"https://www.dropbox.com/s/9wa0vn6e1sfm01d/F4.metadata.txt\", \"~/beem/time_series_analysis/F4.metadata.txt\")\n",
    "\n",
    "## otu annotation\n",
    "source.dropbox(\"https://www.dropbox.com/s/iub977z7u3z86wg/all_otu_mapping.txt\", \"~/beem/time_series_analysis/all_out_mapping.txt\")"
   ]
  },
  {
   "cell_type": "markdown",
   "metadata": {},
   "source": [
    "## Load functions and data"
   ]
  },
  {
   "cell_type": "code",
   "execution_count": 5,
   "metadata": {
    "collapsed": false
   },
   "outputs": [],
   "source": [
    "source(\"~/beem/emFunctions.r\")\n",
    "input.da <- read.table('~/beem/time_series_analysis/DA.counts.txt', head=F, row.names=1)\n",
    "metadata.da <- read.table('~/beem/time_series_analysis/DA.metadata.txt', head=T)\n",
    "\n",
    "## For DB, point #74 has extremely high of one species and #180 is sampled too far from the previous time point\n",
    "input.db <- read.table('~/beem/time_series_analysis/DB.counts.txt', head=F, row.names=1)[,-c(74,180)]\n",
    "metadata.db <- read.table('~/beem/time_series_analysis/DB.metadata.txt', head=T)[-c(74,180),]\n",
    "\n",
    "## For M3, data from 330:332 are too far from previous time point\n",
    "input.m3 <- read.table('~/beem/time_series_analysis/M3.counts.txt', head=F, row.names=1)[,1:329] \n",
    "metadata.m3 <- read.table('~/beem/time_series_analysis/M3.metadata.txt', head=T)[1:329,]\n",
    "\n",
    "input.f4 <- read.table('~/beem/time_series_analysis/F4.counts.txt', head=F, row.names=1) \n",
    "metadata.f4 <- read.table('~/beem/time_series_analysis/F4.metadata.txt', head=T)"
   ]
  },
  {
   "cell_type": "markdown",
   "metadata": {},
   "source": [
    "## Run BEEM"
   ]
  },
  {
   "cell_type": "markdown",
   "metadata": {},
   "source": [
    "### Individual DA"
   ]
  },
  {
   "cell_type": "code",
   "execution_count": 6,
   "metadata": {
    "collapsed": false
   },
   "outputs": [
    {
     "name": "stderr",
     "output_type": "stream",
     "text": [
      "Preprocessing data ...\n",
      "##Iteration 1\n",
      "####solve alpha and beta (E step)\n",
      "####normalize (M step)####\n"
     ]
    },
    {
     "name": "stdout",
     "output_type": "stream",
     "text": [
      "[1] 1.85014\n"
     ]
    },
    {
     "name": "stderr",
     "output_type": "stream",
     "text": [
      "##########################\n",
      "##Iteration 2\n",
      "####solve alpha and beta (E step)\n",
      "####normalize (M step)####\n"
     ]
    },
    {
     "name": "stdout",
     "output_type": "stream",
     "text": [
      "[1] 0.001271447\n"
     ]
    },
    {
     "name": "stderr",
     "output_type": "stream",
     "text": [
      "##########################\n",
      "##Iteration 3\n",
      "####solve alpha and beta (E step)\n",
      "####normalize (M step)####\n"
     ]
    },
    {
     "name": "stdout",
     "output_type": "stream",
     "text": [
      "[1] 0.000723248\n"
     ]
    },
    {
     "name": "stderr",
     "output_type": "stream",
     "text": [
      "##########################\n",
      "##Iteration 4\n",
      "####solve alpha and beta (E step)\n",
      "####normalize (M step)####\n"
     ]
    },
    {
     "name": "stdout",
     "output_type": "stream",
     "text": [
      "[1] 0.0004606018\n"
     ]
    },
    {
     "name": "stderr",
     "output_type": "stream",
     "text": [
      "##########################\n",
      "##Iteration 5\n",
      "####solve alpha and beta (E step)\n",
      "####normalize (M step)####\n"
     ]
    },
    {
     "name": "stdout",
     "output_type": "stream",
     "text": [
      "[1] 0.0003748813\n"
     ]
    },
    {
     "name": "stderr",
     "output_type": "stream",
     "text": [
      "##########################\n",
      "##Iteration 6\n",
      "####solve alpha and beta (E step)\n",
      "####normalize (M step)####\n"
     ]
    },
    {
     "name": "stdout",
     "output_type": "stream",
     "text": [
      "[1] 0.0003553536\n"
     ]
    },
    {
     "name": "stderr",
     "output_type": "stream",
     "text": [
      "##########################\n",
      "##Iteration 7\n",
      "####solve alpha and beta (E step)\n",
      "####normalize (M step)####\n"
     ]
    },
    {
     "name": "stdout",
     "output_type": "stream",
     "text": [
      "[1] 0.0003443622\n"
     ]
    },
    {
     "name": "stderr",
     "output_type": "stream",
     "text": [
      "##########################\n",
      "##Iteration 8\n",
      "####solve alpha and beta (E step)\n",
      "####normalize (M step)####\n"
     ]
    },
    {
     "name": "stdout",
     "output_type": "stream",
     "text": [
      "[1] 0.0003309938\n"
     ]
    },
    {
     "name": "stderr",
     "output_type": "stream",
     "text": [
      "##########################\n",
      "##Iteration 9\n",
      "####solve alpha and beta (E step)\n",
      "####normalize (M step)####\n"
     ]
    },
    {
     "name": "stdout",
     "output_type": "stream",
     "text": [
      "[1] 0.0003223815\n"
     ]
    },
    {
     "name": "stderr",
     "output_type": "stream",
     "text": [
      "##########################\n",
      "##Iteration 10\n",
      "####solve alpha and beta (E step)\n",
      "####normalize (M step)####\n"
     ]
    },
    {
     "name": "stdout",
     "output_type": "stream",
     "text": [
      "[1] 0.0003200822\n"
     ]
    },
    {
     "name": "stderr",
     "output_type": "stream",
     "text": [
      "##########################\n",
      "##Iteration 11\n",
      "####solve alpha and beta (E step)\n",
      "####normalize (M step)####\n"
     ]
    },
    {
     "name": "stdout",
     "output_type": "stream",
     "text": [
      "[1] 0.0003206291\n"
     ]
    },
    {
     "name": "stderr",
     "output_type": "stream",
     "text": [
      "##########################\n",
      "##Iteration 12\n",
      "####solve alpha and beta (E step)\n",
      "####normalize (M step)####\n"
     ]
    },
    {
     "name": "stdout",
     "output_type": "stream",
     "text": [
      "[1] 0.0003233009\n"
     ]
    },
    {
     "name": "stderr",
     "output_type": "stream",
     "text": [
      "##########################\n",
      "##Iteration 13\n",
      "####solve alpha and beta (E step)\n",
      "####normalize (M step)####\n"
     ]
    },
    {
     "name": "stdout",
     "output_type": "stream",
     "text": [
      "[1] 0.0003241041\n"
     ]
    },
    {
     "name": "stderr",
     "output_type": "stream",
     "text": [
      "##########################\n",
      "##Iteration 14\n",
      "####solve alpha and beta (E step)\n",
      "####normalize (M step)####\n"
     ]
    },
    {
     "name": "stdout",
     "output_type": "stream",
     "text": [
      "[1] 0.0003254231\n"
     ]
    },
    {
     "name": "stderr",
     "output_type": "stream",
     "text": [
      "##########################\n",
      "##Iteration 15\n",
      "####solve alpha and beta (E step)\n",
      "####normalize (M step)####\n"
     ]
    },
    {
     "name": "stdout",
     "output_type": "stream",
     "text": [
      "[1] 0.0003265821\n"
     ]
    },
    {
     "name": "stderr",
     "output_type": "stream",
     "text": [
      "##########################\n",
      "##Iteration 16\n",
      "####solve alpha and beta (E step)\n",
      "####normalize (M step)####\n"
     ]
    },
    {
     "name": "stdout",
     "output_type": "stream",
     "text": [
      "[1] 0.0003274451\n"
     ]
    },
    {
     "name": "stderr",
     "output_type": "stream",
     "text": [
      "##########################\n",
      "##Iteration 17\n",
      "####solve alpha and beta (E step)\n",
      "####normalize (M step)####\n"
     ]
    },
    {
     "name": "stdout",
     "output_type": "stream",
     "text": [
      "[1] 0.0003277975\n"
     ]
    },
    {
     "name": "stderr",
     "output_type": "stream",
     "text": [
      "##########################\n",
      "##Iteration 18\n",
      "####solve alpha and beta (E step)\n",
      "####normalize (M step)####\n"
     ]
    },
    {
     "name": "stdout",
     "output_type": "stream",
     "text": [
      "[1] 0.0003275923\n"
     ]
    },
    {
     "name": "stderr",
     "output_type": "stream",
     "text": [
      "##########################\n",
      "##Iteration 19\n",
      "####solve alpha and beta (E step)\n",
      "####normalize (M step)####\n"
     ]
    },
    {
     "name": "stdout",
     "output_type": "stream",
     "text": [
      "[1] 0.0003280918\n"
     ]
    },
    {
     "name": "stderr",
     "output_type": "stream",
     "text": [
      "##########################\n",
      "##Iteration 20\n",
      "####solve alpha and beta (E step)\n",
      "####normalize (M step)####\n"
     ]
    },
    {
     "name": "stdout",
     "output_type": "stream",
     "text": [
      "[1] 0.0003302771\n"
     ]
    },
    {
     "name": "stderr",
     "output_type": "stream",
     "text": [
      "##########################\n",
      "##Iteration 21\n",
      "####solve alpha and beta (E step)\n",
      "####normalize (M step)####\n"
     ]
    },
    {
     "name": "stdout",
     "output_type": "stream",
     "text": [
      "[1] 0.000330304\n"
     ]
    },
    {
     "name": "stderr",
     "output_type": "stream",
     "text": [
      "##########################\n",
      "##Iteration 22\n",
      "####solve alpha and beta (E step)\n",
      "####normalize (M step)####\n"
     ]
    },
    {
     "name": "stdout",
     "output_type": "stream",
     "text": [
      "[1] 0.0003277876\n"
     ]
    },
    {
     "name": "stderr",
     "output_type": "stream",
     "text": [
      "##########################\n",
      "##Iteration 23\n",
      "####solve alpha and beta (E step)\n",
      "####normalize (M step)####\n"
     ]
    },
    {
     "name": "stdout",
     "output_type": "stream",
     "text": [
      "[1] 0.0003254842\n"
     ]
    },
    {
     "name": "stderr",
     "output_type": "stream",
     "text": [
      "##########################\n",
      "##Iteration 24\n",
      "####solve alpha and beta (E step)\n",
      "####normalize (M step)####\n"
     ]
    },
    {
     "name": "stdout",
     "output_type": "stream",
     "text": [
      "[1] 0.0003233701\n"
     ]
    },
    {
     "name": "stderr",
     "output_type": "stream",
     "text": [
      "##########################\n",
      "##Iteration 25\n",
      "####solve alpha and beta (E step)\n",
      "####normalize (M step)####\n"
     ]
    },
    {
     "name": "stdout",
     "output_type": "stream",
     "text": [
      "[1] 0.0003193328\n"
     ]
    },
    {
     "name": "stderr",
     "output_type": "stream",
     "text": [
      "##########################\n",
      "##Iteration 26\n",
      "####solve alpha and beta (E step)\n",
      "####normalize (M step)####\n"
     ]
    },
    {
     "name": "stdout",
     "output_type": "stream",
     "text": [
      "[1] 0.0003169592\n"
     ]
    },
    {
     "name": "stderr",
     "output_type": "stream",
     "text": [
      "##########################\n",
      "##Iteration 27\n",
      "####solve alpha and beta (E step)\n",
      "####normalize (M step)####\n"
     ]
    },
    {
     "name": "stdout",
     "output_type": "stream",
     "text": [
      "[1] 0.0003182743\n"
     ]
    },
    {
     "name": "stderr",
     "output_type": "stream",
     "text": [
      "##########################\n",
      "##Iteration 28\n",
      "####solve alpha and beta (E step)\n",
      "####normalize (M step)####\n"
     ]
    },
    {
     "name": "stdout",
     "output_type": "stream",
     "text": [
      "[1] 0.0003213281\n"
     ]
    },
    {
     "name": "stderr",
     "output_type": "stream",
     "text": [
      "##########################\n",
      "##Iteration 29\n",
      "####solve alpha and beta (E step)\n",
      "####normalize (M step)####\n"
     ]
    },
    {
     "name": "stdout",
     "output_type": "stream",
     "text": [
      "[1] 0.0003311276\n"
     ]
    },
    {
     "name": "stderr",
     "output_type": "stream",
     "text": [
      "##########################\n",
      "##Iteration 30\n",
      "####solve alpha and beta (E step)\n",
      "####normalize (M step)####\n"
     ]
    },
    {
     "name": "stdout",
     "output_type": "stream",
     "text": [
      "[1] 0.0003166682\n"
     ]
    },
    {
     "name": "stderr",
     "output_type": "stream",
     "text": [
      "##########################\n",
      "##Iteration 31\n",
      "####solve alpha and beta (E step)\n",
      "####normalize (M step)####\n"
     ]
    },
    {
     "name": "stdout",
     "output_type": "stream",
     "text": [
      "[1] 0.0003548828\n"
     ]
    },
    {
     "name": "stderr",
     "output_type": "stream",
     "text": [
      "##########################\n",
      "##Iteration 32\n",
      "####solve alpha and beta (E step)\n",
      "####normalize (M step)####\n"
     ]
    },
    {
     "name": "stdout",
     "output_type": "stream",
     "text": [
      "[1] 0.0003152814\n"
     ]
    },
    {
     "name": "stderr",
     "output_type": "stream",
     "text": [
      "##########################\n",
      "##Iteration 33\n",
      "####solve alpha and beta (E step)\n",
      "####normalize (M step)####\n"
     ]
    },
    {
     "name": "stdout",
     "output_type": "stream",
     "text": [
      "[1] 0.0003291489\n"
     ]
    },
    {
     "name": "stderr",
     "output_type": "stream",
     "text": [
      "##########################\n",
      "##Iteration 34\n",
      "####solve alpha and beta (E step)\n",
      "####normalize (M step)####\n"
     ]
    },
    {
     "name": "stdout",
     "output_type": "stream",
     "text": [
      "[1] 0.0003148762\n"
     ]
    },
    {
     "name": "stderr",
     "output_type": "stream",
     "text": [
      "##########################\n",
      "##Iteration 35\n",
      "####solve alpha and beta (E step)\n",
      "####normalize (M step)####\n"
     ]
    },
    {
     "name": "stdout",
     "output_type": "stream",
     "text": [
      "[1] 0.0003465933\n"
     ]
    },
    {
     "name": "stderr",
     "output_type": "stream",
     "text": [
      "##########################\n",
      "##Iteration 36\n",
      "####solve alpha and beta (E step)\n",
      "####normalize (M step)####\n"
     ]
    },
    {
     "name": "stdout",
     "output_type": "stream",
     "text": [
      "[1] 0.000315159\n"
     ]
    },
    {
     "name": "stderr",
     "output_type": "stream",
     "text": [
      "##########################\n",
      "##Iteration 37\n",
      "####solve alpha and beta (E step)\n",
      "####normalize (M step)####\n"
     ]
    },
    {
     "name": "stdout",
     "output_type": "stream",
     "text": [
      "[1] 0.0003232007\n"
     ]
    },
    {
     "name": "stderr",
     "output_type": "stream",
     "text": [
      "##########################\n",
      "##Iteration 38\n",
      "####solve alpha and beta (E step)\n",
      "####normalize (M step)####\n"
     ]
    },
    {
     "name": "stdout",
     "output_type": "stream",
     "text": [
      "[1] 0.0003177417\n"
     ]
    },
    {
     "name": "stderr",
     "output_type": "stream",
     "text": [
      "##########################\n",
      "##Iteration 39\n",
      "####solve alpha and beta (E step)\n",
      "####normalize (M step)####\n"
     ]
    },
    {
     "name": "stdout",
     "output_type": "stream",
     "text": [
      "[1] 0.0003329511\n"
     ]
    },
    {
     "name": "stderr",
     "output_type": "stream",
     "text": [
      "##########################\n",
      "##Iteration 40\n",
      "####solve alpha and beta (E step)\n",
      "####normalize (M step)####\n"
     ]
    },
    {
     "name": "stdout",
     "output_type": "stream",
     "text": [
      "[1] 0.000326607\n"
     ]
    },
    {
     "name": "stderr",
     "output_type": "stream",
     "text": [
      "##########################\n",
      "##Iteration 41\n",
      "####solve alpha and beta (E step)\n",
      "####normalize (M step)####\n"
     ]
    },
    {
     "name": "stdout",
     "output_type": "stream",
     "text": [
      "[1] 0.0003306865\n"
     ]
    },
    {
     "name": "stderr",
     "output_type": "stream",
     "text": [
      "##########################\n",
      "##Iteration 42\n",
      "####solve alpha and beta (E step)\n",
      "####normalize (M step)####\n"
     ]
    },
    {
     "name": "stdout",
     "output_type": "stream",
     "text": [
      "[1] 0.0003646639\n"
     ]
    },
    {
     "name": "stderr",
     "output_type": "stream",
     "text": [
      "##########################\n",
      "##Iteration 43\n",
      "####solve alpha and beta (E step)\n",
      "####normalize (M step)####\n"
     ]
    },
    {
     "name": "stdout",
     "output_type": "stream",
     "text": [
      "[1] 0.000346621\n"
     ]
    },
    {
     "name": "stderr",
     "output_type": "stream",
     "text": [
      "##########################\n",
      "##Iteration 44\n",
      "####solve alpha and beta (E step)\n",
      "####normalize (M step)####\n"
     ]
    },
    {
     "name": "stdout",
     "output_type": "stream",
     "text": [
      "[1] 0.0003562502\n"
     ]
    },
    {
     "name": "stderr",
     "output_type": "stream",
     "text": [
      "##########################\n",
      "##Iteration 45\n",
      "####solve alpha and beta (E step)\n",
      "####normalize (M step)####\n"
     ]
    },
    {
     "name": "stdout",
     "output_type": "stream",
     "text": [
      "[1] 0.0004909504\n"
     ]
    },
    {
     "name": "stderr",
     "output_type": "stream",
     "text": [
      "##########################\n",
      "##Iteration 46\n",
      "####solve alpha and beta (E step)\n",
      "####normalize (M step)####\n"
     ]
    },
    {
     "name": "stdout",
     "output_type": "stream",
     "text": [
      "[1] 0.0004037215\n"
     ]
    },
    {
     "name": "stderr",
     "output_type": "stream",
     "text": [
      "##########################\n",
      "##Iteration 47\n",
      "####solve alpha and beta (E step)\n",
      "####normalize (M step)####\n"
     ]
    },
    {
     "name": "stdout",
     "output_type": "stream",
     "text": [
      "[1] 0.0003596554\n"
     ]
    },
    {
     "name": "stderr",
     "output_type": "stream",
     "text": [
      "##########################\n",
      "##Iteration 48\n",
      "####solve alpha and beta (E step)\n",
      "####normalize (M step)####\n"
     ]
    },
    {
     "name": "stdout",
     "output_type": "stream",
     "text": [
      "[1] 0.0003768114\n"
     ]
    },
    {
     "name": "stderr",
     "output_type": "stream",
     "text": [
      "##########################\n",
      "##Iteration 49\n",
      "####solve alpha and beta (E step)\n",
      "####normalize (M step)####\n"
     ]
    },
    {
     "name": "stdout",
     "output_type": "stream",
     "text": [
      "[1] 0.0003683996\n"
     ]
    },
    {
     "name": "stderr",
     "output_type": "stream",
     "text": [
      "##########################\n",
      "##Iteration 50\n",
      "####solve alpha and beta (E step)\n",
      "####normalize (M step)####\n"
     ]
    },
    {
     "name": "stdout",
     "output_type": "stream",
     "text": [
      "[1] 0.0007508449\n"
     ]
    },
    {
     "name": "stderr",
     "output_type": "stream",
     "text": [
      "##########################\n",
      "##Iteration 51\n",
      "####solve alpha and beta (E step)\n"
     ]
    }
   ],
   "source": [
    "counts.da <- input.da[-1,]\n",
    "colnames(counts.da) <- as.character(input.da[1,])\n",
    "res.da <- EM(dat=counts.da,meta=metadata.da, dev=10, refSp = 4,  verbose=TRUE,\n",
    "          min_iter=50, max_iter=100, epsilon = 0.5, \n",
    "          scaling = 10000, ncpu=4, seed=1)"
   ]
  },
  {
   "cell_type": "markdown",
   "metadata": {},
   "source": [
    "### Individual M3"
   ]
  },
  {
   "cell_type": "code",
   "execution_count": 7,
   "metadata": {
    "collapsed": false
   },
   "outputs": [
    {
     "name": "stderr",
     "output_type": "stream",
     "text": [
      "Preprocessing data ...\n",
      "##Iteration 1\n",
      "####solve alpha and beta (E step)\n",
      "####normalize (M step)####\n"
     ]
    },
    {
     "name": "stdout",
     "output_type": "stream",
     "text": [
      "[1] 0.03727075\n"
     ]
    },
    {
     "name": "stderr",
     "output_type": "stream",
     "text": [
      "##########################\n",
      "##Iteration 2\n",
      "####solve alpha and beta (E step)\n",
      "####normalize (M step)####\n"
     ]
    },
    {
     "name": "stdout",
     "output_type": "stream",
     "text": [
      "[1] 0.02912876\n"
     ]
    },
    {
     "name": "stderr",
     "output_type": "stream",
     "text": [
      "##########################\n",
      "##Iteration 3\n",
      "####solve alpha and beta (E step)\n",
      "####normalize (M step)####\n"
     ]
    },
    {
     "name": "stdout",
     "output_type": "stream",
     "text": [
      "[1] 0.02640559\n"
     ]
    },
    {
     "name": "stderr",
     "output_type": "stream",
     "text": [
      "##########################\n",
      "##Iteration 4\n",
      "####solve alpha and beta (E step)\n",
      "####normalize (M step)####\n"
     ]
    },
    {
     "name": "stdout",
     "output_type": "stream",
     "text": [
      "[1] 0.02573193\n"
     ]
    },
    {
     "name": "stderr",
     "output_type": "stream",
     "text": [
      "##########################\n",
      "##Iteration 5\n",
      "####solve alpha and beta (E step)\n",
      "####normalize (M step)####\n"
     ]
    },
    {
     "name": "stdout",
     "output_type": "stream",
     "text": [
      "[1] 0.02565121\n"
     ]
    },
    {
     "name": "stderr",
     "output_type": "stream",
     "text": [
      "##########################\n",
      "##Iteration 6\n",
      "####solve alpha and beta (E step)\n",
      "####normalize (M step)####\n"
     ]
    },
    {
     "name": "stdout",
     "output_type": "stream",
     "text": [
      "[1] 0.02560661\n"
     ]
    },
    {
     "name": "stderr",
     "output_type": "stream",
     "text": [
      "##########################\n",
      "##Iteration 7\n",
      "####solve alpha and beta (E step)\n",
      "####normalize (M step)####\n"
     ]
    },
    {
     "name": "stdout",
     "output_type": "stream",
     "text": [
      "[1] 0.0254831\n"
     ]
    },
    {
     "name": "stderr",
     "output_type": "stream",
     "text": [
      "##########################\n",
      "##Iteration 8\n",
      "####solve alpha and beta (E step)\n",
      "####normalize (M step)####\n"
     ]
    },
    {
     "name": "stdout",
     "output_type": "stream",
     "text": [
      "[1] 0.0254972\n"
     ]
    },
    {
     "name": "stderr",
     "output_type": "stream",
     "text": [
      "##########################\n",
      "##Iteration 9\n",
      "####solve alpha and beta (E step)\n",
      "####normalize (M step)####\n"
     ]
    },
    {
     "name": "stdout",
     "output_type": "stream",
     "text": [
      "[1] 0.02550282\n"
     ]
    },
    {
     "name": "stderr",
     "output_type": "stream",
     "text": [
      "##########################\n",
      "##Iteration 10\n",
      "####solve alpha and beta (E step)\n",
      "####normalize (M step)####\n"
     ]
    },
    {
     "name": "stdout",
     "output_type": "stream",
     "text": [
      "[1] 0.02546522\n"
     ]
    },
    {
     "name": "stderr",
     "output_type": "stream",
     "text": [
      "##########################\n",
      "##Iteration 11\n",
      "####solve alpha and beta (E step)\n",
      "####normalize (M step)####\n"
     ]
    },
    {
     "name": "stdout",
     "output_type": "stream",
     "text": [
      "[1] 0.02561475\n"
     ]
    },
    {
     "name": "stderr",
     "output_type": "stream",
     "text": [
      "##########################\n",
      "##Iteration 12\n",
      "####solve alpha and beta (E step)\n",
      "####normalize (M step)####\n"
     ]
    },
    {
     "name": "stdout",
     "output_type": "stream",
     "text": [
      "[1] 0.0257204\n"
     ]
    },
    {
     "name": "stderr",
     "output_type": "stream",
     "text": [
      "##########################\n",
      "##Iteration 13\n",
      "####solve alpha and beta (E step)\n",
      "####normalize (M step)####\n"
     ]
    },
    {
     "name": "stdout",
     "output_type": "stream",
     "text": [
      "[1] 0.02583184\n"
     ]
    },
    {
     "name": "stderr",
     "output_type": "stream",
     "text": [
      "##########################\n",
      "##Iteration 14\n",
      "####solve alpha and beta (E step)\n",
      "####normalize (M step)####\n"
     ]
    },
    {
     "name": "stdout",
     "output_type": "stream",
     "text": [
      "[1] 0.02590697\n"
     ]
    },
    {
     "name": "stderr",
     "output_type": "stream",
     "text": [
      "##########################\n",
      "##Iteration 15\n",
      "####solve alpha and beta (E step)\n",
      "####normalize (M step)####\n"
     ]
    },
    {
     "name": "stdout",
     "output_type": "stream",
     "text": [
      "[1] 0.02590497\n"
     ]
    },
    {
     "name": "stderr",
     "output_type": "stream",
     "text": [
      "##########################\n",
      "##Iteration 16\n",
      "####solve alpha and beta (E step)\n",
      "####normalize (M step)####\n"
     ]
    },
    {
     "name": "stdout",
     "output_type": "stream",
     "text": [
      "[1] 0.02608897\n"
     ]
    },
    {
     "name": "stderr",
     "output_type": "stream",
     "text": [
      "##########################\n",
      "##Iteration 17\n",
      "####solve alpha and beta (E step)\n",
      "####normalize (M step)####\n"
     ]
    },
    {
     "name": "stdout",
     "output_type": "stream",
     "text": [
      "[1] 0.02585272\n"
     ]
    },
    {
     "name": "stderr",
     "output_type": "stream",
     "text": [
      "##########################\n",
      "##Iteration 18\n",
      "####solve alpha and beta (E step)\n",
      "####normalize (M step)####\n"
     ]
    },
    {
     "name": "stdout",
     "output_type": "stream",
     "text": [
      "[1] 0.02582439\n"
     ]
    },
    {
     "name": "stderr",
     "output_type": "stream",
     "text": [
      "##########################\n",
      "##Iteration 19\n",
      "####solve alpha and beta (E step)\n",
      "####normalize (M step)####\n"
     ]
    },
    {
     "name": "stdout",
     "output_type": "stream",
     "text": [
      "[1] 0.02590272\n"
     ]
    },
    {
     "name": "stderr",
     "output_type": "stream",
     "text": [
      "##########################\n",
      "##Iteration 20\n",
      "####solve alpha and beta (E step)\n",
      "####normalize (M step)####\n"
     ]
    },
    {
     "name": "stdout",
     "output_type": "stream",
     "text": [
      "[1] 0.02608916\n"
     ]
    },
    {
     "name": "stderr",
     "output_type": "stream",
     "text": [
      "##########################\n",
      "##Iteration 21\n",
      "####solve alpha and beta (E step)\n",
      "####normalize (M step)####\n"
     ]
    },
    {
     "name": "stdout",
     "output_type": "stream",
     "text": [
      "[1] 0.02607692\n"
     ]
    },
    {
     "name": "stderr",
     "output_type": "stream",
     "text": [
      "##########################\n",
      "##Iteration 22\n",
      "####solve alpha and beta (E step)\n",
      "####normalize (M step)####\n"
     ]
    },
    {
     "name": "stdout",
     "output_type": "stream",
     "text": [
      "[1] 0.02596252\n"
     ]
    },
    {
     "name": "stderr",
     "output_type": "stream",
     "text": [
      "##########################\n",
      "##Iteration 23\n",
      "####solve alpha and beta (E step)\n",
      "####normalize (M step)####\n"
     ]
    },
    {
     "name": "stdout",
     "output_type": "stream",
     "text": [
      "[1] 0.02623498\n"
     ]
    },
    {
     "name": "stderr",
     "output_type": "stream",
     "text": [
      "##########################\n",
      "##Iteration 24\n",
      "####solve alpha and beta (E step)\n",
      "####normalize (M step)####\n"
     ]
    },
    {
     "name": "stdout",
     "output_type": "stream",
     "text": [
      "[1] 0.02605917\n"
     ]
    },
    {
     "name": "stderr",
     "output_type": "stream",
     "text": [
      "##########################\n",
      "##Iteration 25\n",
      "####solve alpha and beta (E step)\n",
      "####normalize (M step)####\n"
     ]
    },
    {
     "name": "stdout",
     "output_type": "stream",
     "text": [
      "[1] 0.0262121\n"
     ]
    },
    {
     "name": "stderr",
     "output_type": "stream",
     "text": [
      "##########################\n",
      "##Iteration 26\n",
      "####solve alpha and beta (E step)\n",
      "####normalize (M step)####\n"
     ]
    },
    {
     "name": "stdout",
     "output_type": "stream",
     "text": [
      "[1] 0.02629765\n"
     ]
    },
    {
     "name": "stderr",
     "output_type": "stream",
     "text": [
      "##########################\n",
      "##Iteration 27\n",
      "####solve alpha and beta (E step)\n",
      "####normalize (M step)####\n"
     ]
    },
    {
     "name": "stdout",
     "output_type": "stream",
     "text": [
      "[1] 0.02650544\n"
     ]
    },
    {
     "name": "stderr",
     "output_type": "stream",
     "text": [
      "##########################\n",
      "##Iteration 28\n",
      "####solve alpha and beta (E step)\n",
      "####normalize (M step)####\n"
     ]
    },
    {
     "name": "stdout",
     "output_type": "stream",
     "text": [
      "[1] 0.02617823\n"
     ]
    },
    {
     "name": "stderr",
     "output_type": "stream",
     "text": [
      "##########################\n",
      "##Iteration 29\n",
      "####solve alpha and beta (E step)\n",
      "####normalize (M step)####\n"
     ]
    },
    {
     "name": "stdout",
     "output_type": "stream",
     "text": [
      "[1] 0.02644262\n"
     ]
    },
    {
     "name": "stderr",
     "output_type": "stream",
     "text": [
      "##########################\n",
      "##Iteration 30\n",
      "####solve alpha and beta (E step)\n",
      "####normalize (M step)####\n"
     ]
    },
    {
     "name": "stdout",
     "output_type": "stream",
     "text": [
      "[1] 0.02662096\n"
     ]
    },
    {
     "name": "stderr",
     "output_type": "stream",
     "text": [
      "##########################\n",
      "##Iteration 31\n",
      "####solve alpha and beta (E step)\n",
      "####normalize (M step)####\n"
     ]
    },
    {
     "name": "stdout",
     "output_type": "stream",
     "text": [
      "[1] 0.02645009\n"
     ]
    },
    {
     "name": "stderr",
     "output_type": "stream",
     "text": [
      "##########################\n",
      "##Iteration 32\n",
      "####solve alpha and beta (E step)\n",
      "####normalize (M step)####\n"
     ]
    },
    {
     "name": "stdout",
     "output_type": "stream",
     "text": [
      "[1] 0.02651642\n"
     ]
    },
    {
     "name": "stderr",
     "output_type": "stream",
     "text": [
      "##########################\n",
      "##Iteration 33\n",
      "####solve alpha and beta (E step)\n",
      "####normalize (M step)####\n"
     ]
    },
    {
     "name": "stdout",
     "output_type": "stream",
     "text": [
      "[1] 0.02689425\n"
     ]
    },
    {
     "name": "stderr",
     "output_type": "stream",
     "text": [
      "##########################\n",
      "##Iteration 34\n",
      "####solve alpha and beta (E step)\n",
      "####normalize (M step)####\n"
     ]
    },
    {
     "name": "stdout",
     "output_type": "stream",
     "text": [
      "[1] 0.02678116\n"
     ]
    },
    {
     "name": "stderr",
     "output_type": "stream",
     "text": [
      "##########################\n",
      "##Iteration 35\n",
      "####solve alpha and beta (E step)\n",
      "####normalize (M step)####\n"
     ]
    },
    {
     "name": "stdout",
     "output_type": "stream",
     "text": [
      "[1] 0.02672806\n"
     ]
    },
    {
     "name": "stderr",
     "output_type": "stream",
     "text": [
      "##########################\n",
      "##Iteration 36\n",
      "####solve alpha and beta (E step)\n",
      "####normalize (M step)####\n"
     ]
    },
    {
     "name": "stdout",
     "output_type": "stream",
     "text": [
      "[1] 0.0266344\n"
     ]
    },
    {
     "name": "stderr",
     "output_type": "stream",
     "text": [
      "##########################\n",
      "##Iteration 37\n",
      "####solve alpha and beta (E step)\n",
      "####normalize (M step)####\n"
     ]
    },
    {
     "name": "stdout",
     "output_type": "stream",
     "text": [
      "[1] 0.02694361\n"
     ]
    },
    {
     "name": "stderr",
     "output_type": "stream",
     "text": [
      "##########################\n",
      "##Iteration 38\n",
      "####solve alpha and beta (E step)\n",
      "####normalize (M step)####\n"
     ]
    },
    {
     "name": "stdout",
     "output_type": "stream",
     "text": [
      "[1] 0.02674397\n"
     ]
    },
    {
     "name": "stderr",
     "output_type": "stream",
     "text": [
      "##########################\n",
      "##Iteration 39\n",
      "####solve alpha and beta (E step)\n",
      "####normalize (M step)####\n"
     ]
    },
    {
     "name": "stdout",
     "output_type": "stream",
     "text": [
      "[1] 0.02705241\n"
     ]
    },
    {
     "name": "stderr",
     "output_type": "stream",
     "text": [
      "##########################\n",
      "##Iteration 40\n",
      "####solve alpha and beta (E step)\n",
      "####normalize (M step)####\n"
     ]
    },
    {
     "name": "stdout",
     "output_type": "stream",
     "text": [
      "[1] 0.02714038\n"
     ]
    },
    {
     "name": "stderr",
     "output_type": "stream",
     "text": [
      "##########################\n",
      "##Iteration 41\n",
      "####solve alpha and beta (E step)\n",
      "####normalize (M step)####\n"
     ]
    },
    {
     "name": "stdout",
     "output_type": "stream",
     "text": [
      "[1] 0.02722804\n"
     ]
    },
    {
     "name": "stderr",
     "output_type": "stream",
     "text": [
      "##########################\n",
      "##Iteration 42\n",
      "####solve alpha and beta (E step)\n",
      "####normalize (M step)####\n"
     ]
    },
    {
     "name": "stdout",
     "output_type": "stream",
     "text": [
      "[1] 0.02718105\n"
     ]
    },
    {
     "name": "stderr",
     "output_type": "stream",
     "text": [
      "##########################\n",
      "##Iteration 43\n",
      "####solve alpha and beta (E step)\n",
      "####normalize (M step)####\n"
     ]
    },
    {
     "name": "stdout",
     "output_type": "stream",
     "text": [
      "[1] 0.02764835\n"
     ]
    },
    {
     "name": "stderr",
     "output_type": "stream",
     "text": [
      "##########################\n",
      "##Iteration 44\n",
      "####solve alpha and beta (E step)\n",
      "####normalize (M step)####\n"
     ]
    },
    {
     "name": "stdout",
     "output_type": "stream",
     "text": [
      "[1] 0.02748891\n"
     ]
    },
    {
     "name": "stderr",
     "output_type": "stream",
     "text": [
      "##########################\n",
      "##Iteration 45\n",
      "####solve alpha and beta (E step)\n",
      "####normalize (M step)####\n"
     ]
    },
    {
     "name": "stdout",
     "output_type": "stream",
     "text": [
      "[1] 0.02743294\n"
     ]
    },
    {
     "name": "stderr",
     "output_type": "stream",
     "text": [
      "##########################\n",
      "##Iteration 46\n",
      "####solve alpha and beta (E step)\n",
      "####normalize (M step)####\n"
     ]
    },
    {
     "name": "stdout",
     "output_type": "stream",
     "text": [
      "[1] 0.02760609\n"
     ]
    },
    {
     "name": "stderr",
     "output_type": "stream",
     "text": [
      "##########################\n",
      "##Iteration 47\n",
      "####solve alpha and beta (E step)\n",
      "####normalize (M step)####\n"
     ]
    },
    {
     "name": "stdout",
     "output_type": "stream",
     "text": [
      "[1] 0.02759717\n"
     ]
    },
    {
     "name": "stderr",
     "output_type": "stream",
     "text": [
      "##########################\n",
      "##Iteration 48\n",
      "####solve alpha and beta (E step)\n",
      "####normalize (M step)####\n"
     ]
    },
    {
     "name": "stdout",
     "output_type": "stream",
     "text": [
      "[1] 0.02761837\n"
     ]
    },
    {
     "name": "stderr",
     "output_type": "stream",
     "text": [
      "##########################\n",
      "##Iteration 49\n",
      "####solve alpha and beta (E step)\n",
      "####normalize (M step)####\n"
     ]
    },
    {
     "name": "stdout",
     "output_type": "stream",
     "text": [
      "[1] 0.02761689\n"
     ]
    },
    {
     "name": "stderr",
     "output_type": "stream",
     "text": [
      "##########################\n",
      "##Iteration 50\n",
      "####solve alpha and beta (E step)\n",
      "####normalize (M step)####\n"
     ]
    },
    {
     "name": "stdout",
     "output_type": "stream",
     "text": [
      "[1] 0.02775297\n"
     ]
    },
    {
     "name": "stderr",
     "output_type": "stream",
     "text": [
      "##########################\n",
      "##Iteration 51\n",
      "####solve alpha and beta (E step)\n",
      "####normalize (M step)####\n"
     ]
    },
    {
     "name": "stdout",
     "output_type": "stream",
     "text": [
      "[1] 0.02748485\n"
     ]
    },
    {
     "name": "stderr",
     "output_type": "stream",
     "text": [
      "##########################\n",
      "##Iteration 52\n",
      "####solve alpha and beta (E step)\n",
      "####normalize (M step)####\n"
     ]
    },
    {
     "name": "stdout",
     "output_type": "stream",
     "text": [
      "[1] 0.02761652\n"
     ]
    },
    {
     "name": "stderr",
     "output_type": "stream",
     "text": [
      "##########################\n",
      "##Iteration 53\n",
      "####solve alpha and beta (E step)\n",
      "####normalize (M step)####\n"
     ]
    },
    {
     "name": "stdout",
     "output_type": "stream",
     "text": [
      "[1] 0.02741581\n"
     ]
    },
    {
     "name": "stderr",
     "output_type": "stream",
     "text": [
      "##########################\n",
      "##Iteration 54\n",
      "####solve alpha and beta (E step)\n",
      "####normalize (M step)####\n"
     ]
    },
    {
     "name": "stdout",
     "output_type": "stream",
     "text": [
      "[1] 0.0275319\n"
     ]
    },
    {
     "name": "stderr",
     "output_type": "stream",
     "text": [
      "##########################\n",
      "##Iteration 55\n",
      "####solve alpha and beta (E step)\n",
      "####normalize (M step)####\n"
     ]
    },
    {
     "name": "stdout",
     "output_type": "stream",
     "text": [
      "[1] 0.02750195\n"
     ]
    },
    {
     "name": "stderr",
     "output_type": "stream",
     "text": [
      "##########################\n",
      "##Iteration 56\n",
      "####solve alpha and beta (E step)\n",
      "####normalize (M step)####\n"
     ]
    },
    {
     "name": "stdout",
     "output_type": "stream",
     "text": [
      "[1] 0.0275865\n"
     ]
    },
    {
     "name": "stderr",
     "output_type": "stream",
     "text": [
      "##########################\n",
      "##Iteration 57\n",
      "####solve alpha and beta (E step)\n",
      "####normalize (M step)####\n"
     ]
    },
    {
     "name": "stdout",
     "output_type": "stream",
     "text": [
      "[1] 0.0274847\n"
     ]
    },
    {
     "name": "stderr",
     "output_type": "stream",
     "text": [
      "##########################\n",
      "##Iteration 58\n",
      "####solve alpha and beta (E step)\n",
      "####normalize (M step)####\n"
     ]
    },
    {
     "name": "stdout",
     "output_type": "stream",
     "text": [
      "[1] 0.02729082\n"
     ]
    },
    {
     "name": "stderr",
     "output_type": "stream",
     "text": [
      "##########################\n",
      "##Iteration 59\n",
      "####solve alpha and beta (E step)\n",
      "####normalize (M step)####\n"
     ]
    },
    {
     "name": "stdout",
     "output_type": "stream",
     "text": [
      "[1] 0.02774803\n"
     ]
    },
    {
     "name": "stderr",
     "output_type": "stream",
     "text": [
      "##########################\n",
      "##Iteration 60\n",
      "####solve alpha and beta (E step)\n",
      "####normalize (M step)####\n"
     ]
    },
    {
     "name": "stdout",
     "output_type": "stream",
     "text": [
      "[1] 0.02732114\n"
     ]
    },
    {
     "name": "stderr",
     "output_type": "stream",
     "text": [
      "##########################\n",
      "##Iteration 61\n",
      "####solve alpha and beta (E step)\n",
      "####normalize (M step)####\n"
     ]
    },
    {
     "name": "stdout",
     "output_type": "stream",
     "text": [
      "[1] 0.02762977\n"
     ]
    },
    {
     "name": "stderr",
     "output_type": "stream",
     "text": [
      "##########################\n",
      "##Iteration 62\n",
      "####solve alpha and beta (E step)\n",
      "####normalize (M step)####\n"
     ]
    },
    {
     "name": "stdout",
     "output_type": "stream",
     "text": [
      "[1] 0.02727891\n"
     ]
    },
    {
     "name": "stderr",
     "output_type": "stream",
     "text": [
      "##########################\n",
      "##Iteration 63\n",
      "####solve alpha and beta (E step)\n",
      "####normalize (M step)####\n"
     ]
    },
    {
     "name": "stdout",
     "output_type": "stream",
     "text": [
      "[1] 0.02754279\n"
     ]
    },
    {
     "name": "stderr",
     "output_type": "stream",
     "text": [
      "##########################\n",
      "##Iteration 64\n",
      "####solve alpha and beta (E step)\n",
      "####normalize (M step)####\n"
     ]
    },
    {
     "name": "stdout",
     "output_type": "stream",
     "text": [
      "[1] 0.02725207\n"
     ]
    },
    {
     "name": "stderr",
     "output_type": "stream",
     "text": [
      "##########################\n",
      "##Iteration 65\n",
      "####solve alpha and beta (E step)\n",
      "####normalize (M step)####\n"
     ]
    },
    {
     "name": "stdout",
     "output_type": "stream",
     "text": [
      "[1] 0.02733026\n"
     ]
    },
    {
     "name": "stderr",
     "output_type": "stream",
     "text": [
      "##########################\n",
      "##Iteration 66\n",
      "####solve alpha and beta (E step)\n",
      "####normalize (M step)####\n"
     ]
    },
    {
     "name": "stdout",
     "output_type": "stream",
     "text": [
      "[1] 0.02717479\n"
     ]
    },
    {
     "name": "stderr",
     "output_type": "stream",
     "text": [
      "##########################\n",
      "##Iteration 67\n",
      "####solve alpha and beta (E step)\n",
      "####normalize (M step)####\n"
     ]
    },
    {
     "name": "stdout",
     "output_type": "stream",
     "text": [
      "[1] 0.02752862\n"
     ]
    },
    {
     "name": "stderr",
     "output_type": "stream",
     "text": [
      "##########################\n",
      "##Iteration 68\n",
      "####solve alpha and beta (E step)\n",
      "####normalize (M step)####\n"
     ]
    },
    {
     "name": "stdout",
     "output_type": "stream",
     "text": [
      "[1] 0.02737737\n"
     ]
    },
    {
     "name": "stderr",
     "output_type": "stream",
     "text": [
      "##########################\n",
      "##Iteration 69\n",
      "####solve alpha and beta (E step)\n",
      "####normalize (M step)####\n"
     ]
    },
    {
     "name": "stdout",
     "output_type": "stream",
     "text": [
      "[1] 0.02733067\n"
     ]
    },
    {
     "name": "stderr",
     "output_type": "stream",
     "text": [
      "##########################\n",
      "##Iteration 70\n",
      "####solve alpha and beta (E step)\n",
      "####normalize (M step)####\n"
     ]
    },
    {
     "name": "stdout",
     "output_type": "stream",
     "text": [
      "[1] 0.0275211\n"
     ]
    },
    {
     "name": "stderr",
     "output_type": "stream",
     "text": [
      "##########################\n",
      "##Iteration 71\n",
      "####solve alpha and beta (E step)\n",
      "####normalize (M step)####\n"
     ]
    },
    {
     "name": "stdout",
     "output_type": "stream",
     "text": [
      "[1] 0.0272645\n"
     ]
    },
    {
     "name": "stderr",
     "output_type": "stream",
     "text": [
      "##########################\n",
      "##Iteration 72\n",
      "####solve alpha and beta (E step)\n",
      "####normalize (M step)####\n"
     ]
    },
    {
     "name": "stdout",
     "output_type": "stream",
     "text": [
      "[1] 0.02826836\n"
     ]
    },
    {
     "name": "stderr",
     "output_type": "stream",
     "text": [
      "##########################\n",
      "##Iteration 73\n",
      "####solve alpha and beta (E step)\n",
      "####normalize (M step)####\n"
     ]
    },
    {
     "name": "stdout",
     "output_type": "stream",
     "text": [
      "[1] 0.02757615\n"
     ]
    },
    {
     "name": "stderr",
     "output_type": "stream",
     "text": [
      "##########################\n",
      "##Iteration 74\n",
      "####solve alpha and beta (E step)\n",
      "####normalize (M step)####\n"
     ]
    },
    {
     "name": "stdout",
     "output_type": "stream",
     "text": [
      "[1] 0.02812497\n"
     ]
    },
    {
     "name": "stderr",
     "output_type": "stream",
     "text": [
      "##########################\n",
      "##Iteration 75\n",
      "####solve alpha and beta (E step)\n",
      "####normalize (M step)####\n"
     ]
    },
    {
     "name": "stdout",
     "output_type": "stream",
     "text": [
      "[1] 0.02759923\n"
     ]
    },
    {
     "name": "stderr",
     "output_type": "stream",
     "text": [
      "##########################\n",
      "##Iteration 76\n",
      "####solve alpha and beta (E step)\n",
      "####normalize (M step)####\n"
     ]
    },
    {
     "name": "stdout",
     "output_type": "stream",
     "text": [
      "[1] 0.02746969\n"
     ]
    },
    {
     "name": "stderr",
     "output_type": "stream",
     "text": [
      "##########################\n",
      "##Iteration 77\n",
      "####solve alpha and beta (E step)\n",
      "####normalize (M step)####\n"
     ]
    },
    {
     "name": "stdout",
     "output_type": "stream",
     "text": [
      "[1] 0.02737342\n"
     ]
    },
    {
     "name": "stderr",
     "output_type": "stream",
     "text": [
      "##########################\n",
      "##Iteration 78\n",
      "####solve alpha and beta (E step)\n",
      "####normalize (M step)####\n"
     ]
    },
    {
     "name": "stdout",
     "output_type": "stream",
     "text": [
      "[1] 0.02793562\n"
     ]
    },
    {
     "name": "stderr",
     "output_type": "stream",
     "text": [
      "##########################\n",
      "##Iteration 79\n",
      "####solve alpha and beta (E step)\n",
      "####normalize (M step)####\n"
     ]
    },
    {
     "name": "stdout",
     "output_type": "stream",
     "text": [
      "[1] 0.02756791\n"
     ]
    },
    {
     "name": "stderr",
     "output_type": "stream",
     "text": [
      "##########################\n",
      "##Iteration 80\n",
      "####solve alpha and beta (E step)\n",
      "####normalize (M step)####\n"
     ]
    },
    {
     "name": "stdout",
     "output_type": "stream",
     "text": [
      "[1] 0.02793557\n"
     ]
    },
    {
     "name": "stderr",
     "output_type": "stream",
     "text": [
      "##########################\n",
      "##Iteration 81\n",
      "####solve alpha and beta (E step)\n",
      "####normalize (M step)####\n"
     ]
    },
    {
     "name": "stdout",
     "output_type": "stream",
     "text": [
      "[1] 0.02748954\n"
     ]
    },
    {
     "name": "stderr",
     "output_type": "stream",
     "text": [
      "##########################\n",
      "##Iteration 82\n",
      "####solve alpha and beta (E step)\n",
      "####normalize (M step)####\n"
     ]
    },
    {
     "name": "stdout",
     "output_type": "stream",
     "text": [
      "[1] 0.02790102\n"
     ]
    },
    {
     "name": "stderr",
     "output_type": "stream",
     "text": [
      "##########################\n",
      "##Iteration 83\n",
      "####solve alpha and beta (E step)\n",
      "####normalize (M step)####\n"
     ]
    },
    {
     "name": "stdout",
     "output_type": "stream",
     "text": [
      "[1] 0.02749147\n"
     ]
    },
    {
     "name": "stderr",
     "output_type": "stream",
     "text": [
      "##########################\n",
      "##Iteration 84\n",
      "####solve alpha and beta (E step)\n",
      "####normalize (M step)####\n"
     ]
    },
    {
     "name": "stdout",
     "output_type": "stream",
     "text": [
      "[1] 0.0278906\n"
     ]
    },
    {
     "name": "stderr",
     "output_type": "stream",
     "text": [
      "##########################\n",
      "##Iteration 85\n",
      "####solve alpha and beta (E step)\n",
      "####normalize (M step)####\n"
     ]
    },
    {
     "name": "stdout",
     "output_type": "stream",
     "text": [
      "[1] 0.02736702\n"
     ]
    },
    {
     "name": "stderr",
     "output_type": "stream",
     "text": [
      "##########################\n",
      "##Iteration 86\n",
      "####solve alpha and beta (E step)\n",
      "####normalize (M step)####\n"
     ]
    },
    {
     "name": "stdout",
     "output_type": "stream",
     "text": [
      "[1] 0.02788111\n"
     ]
    },
    {
     "name": "stderr",
     "output_type": "stream",
     "text": [
      "##########################\n",
      "##Iteration 87\n",
      "####solve alpha and beta (E step)\n",
      "####normalize (M step)####\n"
     ]
    },
    {
     "name": "stdout",
     "output_type": "stream",
     "text": [
      "[1] 0.02754271\n"
     ]
    },
    {
     "name": "stderr",
     "output_type": "stream",
     "text": [
      "##########################\n",
      "##Iteration 88\n",
      "####solve alpha and beta (E step)\n",
      "####normalize (M step)####\n"
     ]
    },
    {
     "name": "stdout",
     "output_type": "stream",
     "text": [
      "[1] 0.02735596\n"
     ]
    },
    {
     "name": "stderr",
     "output_type": "stream",
     "text": [
      "##########################\n",
      "##Iteration 89\n",
      "####solve alpha and beta (E step)\n",
      "####normalize (M step)####\n"
     ]
    },
    {
     "name": "stdout",
     "output_type": "stream",
     "text": [
      "[1] 0.02742085\n"
     ]
    },
    {
     "name": "stderr",
     "output_type": "stream",
     "text": [
      "##########################\n",
      "##Iteration 90\n",
      "####solve alpha and beta (E step)\n",
      "####normalize (M step)####\n"
     ]
    },
    {
     "name": "stdout",
     "output_type": "stream",
     "text": [
      "[1] 0.02719205\n"
     ]
    },
    {
     "name": "stderr",
     "output_type": "stream",
     "text": [
      "##########################\n",
      "##Iteration 91\n",
      "####solve alpha and beta (E step)\n",
      "####normalize (M step)####\n"
     ]
    },
    {
     "name": "stdout",
     "output_type": "stream",
     "text": [
      "[1] 0.02708849\n"
     ]
    },
    {
     "name": "stderr",
     "output_type": "stream",
     "text": [
      "##########################\n",
      "##Iteration 92\n",
      "####solve alpha and beta (E step)\n",
      "####normalize (M step)####\n"
     ]
    },
    {
     "name": "stdout",
     "output_type": "stream",
     "text": [
      "[1] 0.02705166\n"
     ]
    },
    {
     "name": "stderr",
     "output_type": "stream",
     "text": [
      "##########################\n",
      "##Iteration 93\n",
      "####solve alpha and beta (E step)\n",
      "####normalize (M step)####\n"
     ]
    },
    {
     "name": "stdout",
     "output_type": "stream",
     "text": [
      "[1] 0.02709209\n"
     ]
    },
    {
     "name": "stderr",
     "output_type": "stream",
     "text": [
      "##########################\n",
      "##Iteration 94\n",
      "####solve alpha and beta (E step)\n",
      "####normalize (M step)####\n"
     ]
    },
    {
     "name": "stdout",
     "output_type": "stream",
     "text": [
      "[1] 0.02709953\n"
     ]
    },
    {
     "name": "stderr",
     "output_type": "stream",
     "text": [
      "##########################\n",
      "##Iteration 95\n",
      "####solve alpha and beta (E step)\n",
      "####normalize (M step)####\n"
     ]
    },
    {
     "name": "stdout",
     "output_type": "stream",
     "text": [
      "[1] 0.02721245\n"
     ]
    },
    {
     "name": "stderr",
     "output_type": "stream",
     "text": [
      "##########################\n",
      "##Iteration 96\n",
      "####solve alpha and beta (E step)\n",
      "####normalize (M step)####\n"
     ]
    },
    {
     "name": "stdout",
     "output_type": "stream",
     "text": [
      "[1] 0.02722319\n"
     ]
    },
    {
     "name": "stderr",
     "output_type": "stream",
     "text": [
      "##########################\n",
      "##Iteration 97\n",
      "####solve alpha and beta (E step)\n",
      "####normalize (M step)####\n"
     ]
    },
    {
     "name": "stdout",
     "output_type": "stream",
     "text": [
      "[1] 0.02770177\n"
     ]
    },
    {
     "name": "stderr",
     "output_type": "stream",
     "text": [
      "##########################\n",
      "##Iteration 98\n",
      "####solve alpha and beta (E step)\n",
      "####normalize (M step)####\n"
     ]
    },
    {
     "name": "stdout",
     "output_type": "stream",
     "text": [
      "[1] 0.02727346\n"
     ]
    },
    {
     "name": "stderr",
     "output_type": "stream",
     "text": [
      "##########################\n",
      "##Iteration 99\n",
      "####solve alpha and beta (E step)\n",
      "####normalize (M step)####\n"
     ]
    },
    {
     "name": "stdout",
     "output_type": "stream",
     "text": [
      "[1] 0.0272834\n"
     ]
    },
    {
     "name": "stderr",
     "output_type": "stream",
     "text": [
      "##########################\n",
      "##Iteration 100\n",
      "####solve alpha and beta (E step)\n",
      "####normalize (M step)####\n"
     ]
    },
    {
     "name": "stdout",
     "output_type": "stream",
     "text": [
      "[1] 0.02696896\n"
     ]
    },
    {
     "name": "stderr",
     "output_type": "stream",
     "text": [
      "##########################\n"
     ]
    }
   ],
   "source": [
    "counts.m3 <- input.m3[-1,]\n",
    "colnames(counts.m3) <- as.character(input.m3[1,])\n",
    "res.m3 <- EM(dat=counts.m3,meta=metadata.m3, dev=10, refSp = 21,  verbose=TRUE,\n",
    "          min_iter=50, max_iter=100, epsilon = 0.5, \n",
    "          scaling = 10000, ncpu=4, seed=1)"
   ]
  },
  {
   "cell_type": "markdown",
   "metadata": {},
   "source": [
    "### Individual DA"
   ]
  },
  {
   "cell_type": "code",
   "execution_count": 8,
   "metadata": {
    "collapsed": false
   },
   "outputs": [
    {
     "name": "stderr",
     "output_type": "stream",
     "text": [
      "Preprocessing data ...\n",
      "##Iteration 1\n",
      "####solve alpha and beta (E step)\n",
      "####normalize (M step)####\n"
     ]
    },
    {
     "name": "stdout",
     "output_type": "stream",
     "text": [
      "[1] 1574552\n"
     ]
    },
    {
     "name": "stderr",
     "output_type": "stream",
     "text": [
      "##########################\n",
      "##Iteration 2\n",
      "####solve alpha and beta (E step)\n",
      "####normalize (M step)####\n"
     ]
    },
    {
     "name": "stdout",
     "output_type": "stream",
     "text": [
      "[1] 0.01985328\n"
     ]
    },
    {
     "name": "stderr",
     "output_type": "stream",
     "text": [
      "##########################\n",
      "##Iteration 3\n",
      "####solve alpha and beta (E step)\n",
      "####normalize (M step)####\n"
     ]
    },
    {
     "name": "stdout",
     "output_type": "stream",
     "text": [
      "[1] 0.006492423\n"
     ]
    },
    {
     "name": "stderr",
     "output_type": "stream",
     "text": [
      "##########################\n",
      "##Iteration 4\n",
      "####solve alpha and beta (E step)\n",
      "####normalize (M step)####\n"
     ]
    },
    {
     "name": "stdout",
     "output_type": "stream",
     "text": [
      "[1] 0.008253312\n"
     ]
    },
    {
     "name": "stderr",
     "output_type": "stream",
     "text": [
      "##########################\n",
      "##Iteration 5\n",
      "####solve alpha and beta (E step)\n",
      "####normalize (M step)####\n"
     ]
    },
    {
     "name": "stdout",
     "output_type": "stream",
     "text": [
      "[1] 0.007341635\n"
     ]
    },
    {
     "name": "stderr",
     "output_type": "stream",
     "text": [
      "##########################\n",
      "##Iteration 6\n",
      "####solve alpha and beta (E step)\n",
      "####normalize (M step)####\n"
     ]
    },
    {
     "name": "stdout",
     "output_type": "stream",
     "text": [
      "[1] 0.007681988\n"
     ]
    },
    {
     "name": "stderr",
     "output_type": "stream",
     "text": [
      "##########################\n",
      "##Iteration 7\n",
      "####solve alpha and beta (E step)\n",
      "####normalize (M step)####\n"
     ]
    },
    {
     "name": "stdout",
     "output_type": "stream",
     "text": [
      "[1] 0.007512787\n"
     ]
    },
    {
     "name": "stderr",
     "output_type": "stream",
     "text": [
      "##########################\n",
      "##Iteration 8\n",
      "####solve alpha and beta (E step)\n",
      "####normalize (M step)####\n"
     ]
    },
    {
     "name": "stdout",
     "output_type": "stream",
     "text": [
      "[1] 0.007768543\n"
     ]
    },
    {
     "name": "stderr",
     "output_type": "stream",
     "text": [
      "##########################\n",
      "##Iteration 9\n",
      "####solve alpha and beta (E step)\n",
      "####normalize (M step)####\n"
     ]
    },
    {
     "name": "stdout",
     "output_type": "stream",
     "text": [
      "[1] 0.008746275\n"
     ]
    },
    {
     "name": "stderr",
     "output_type": "stream",
     "text": [
      "##########################\n",
      "##Iteration 10\n",
      "####solve alpha and beta (E step)\n",
      "####normalize (M step)####\n"
     ]
    },
    {
     "name": "stdout",
     "output_type": "stream",
     "text": [
      "[1] 0.007177885\n"
     ]
    },
    {
     "name": "stderr",
     "output_type": "stream",
     "text": [
      "##########################\n",
      "##Iteration 11\n",
      "####solve alpha and beta (E step)\n",
      "####normalize (M step)####\n"
     ]
    },
    {
     "name": "stdout",
     "output_type": "stream",
     "text": [
      "[1] 0.008288186\n"
     ]
    },
    {
     "name": "stderr",
     "output_type": "stream",
     "text": [
      "##########################\n",
      "##Iteration 12\n",
      "####solve alpha and beta (E step)\n",
      "####normalize (M step)####\n"
     ]
    },
    {
     "name": "stdout",
     "output_type": "stream",
     "text": [
      "[1] 0.007264053\n"
     ]
    },
    {
     "name": "stderr",
     "output_type": "stream",
     "text": [
      "##########################\n",
      "##Iteration 13\n",
      "####solve alpha and beta (E step)\n",
      "####normalize (M step)####\n"
     ]
    },
    {
     "name": "stdout",
     "output_type": "stream",
     "text": [
      "[1] 0.006708268\n"
     ]
    },
    {
     "name": "stderr",
     "output_type": "stream",
     "text": [
      "##########################\n",
      "##Iteration 14\n",
      "####solve alpha and beta (E step)\n",
      "####normalize (M step)####\n"
     ]
    },
    {
     "name": "stdout",
     "output_type": "stream",
     "text": [
      "[1] 0.009173863\n"
     ]
    },
    {
     "name": "stderr",
     "output_type": "stream",
     "text": [
      "##########################\n",
      "##Iteration 15\n",
      "####solve alpha and beta (E step)\n",
      "####normalize (M step)####\n"
     ]
    },
    {
     "name": "stdout",
     "output_type": "stream",
     "text": [
      "[1] 0.007808789\n"
     ]
    },
    {
     "name": "stderr",
     "output_type": "stream",
     "text": [
      "##########################\n",
      "##Iteration 16\n",
      "####solve alpha and beta (E step)\n",
      "####normalize (M step)####\n"
     ]
    },
    {
     "name": "stdout",
     "output_type": "stream",
     "text": [
      "[1] 0.007802179\n"
     ]
    },
    {
     "name": "stderr",
     "output_type": "stream",
     "text": [
      "##########################\n",
      "##Iteration 17\n",
      "####solve alpha and beta (E step)\n",
      "####normalize (M step)####\n"
     ]
    },
    {
     "name": "stdout",
     "output_type": "stream",
     "text": [
      "[1] 0.007815115\n"
     ]
    },
    {
     "name": "stderr",
     "output_type": "stream",
     "text": [
      "##########################\n",
      "##Iteration 18\n",
      "####solve alpha and beta (E step)\n",
      "####normalize (M step)####\n"
     ]
    },
    {
     "name": "stdout",
     "output_type": "stream",
     "text": [
      "[1] 0.007260901\n"
     ]
    },
    {
     "name": "stderr",
     "output_type": "stream",
     "text": [
      "##########################\n",
      "##Iteration 19\n",
      "####solve alpha and beta (E step)\n",
      "####normalize (M step)####\n"
     ]
    },
    {
     "name": "stdout",
     "output_type": "stream",
     "text": [
      "[1] 0.007965901\n"
     ]
    },
    {
     "name": "stderr",
     "output_type": "stream",
     "text": [
      "##########################\n",
      "##Iteration 20\n",
      "####solve alpha and beta (E step)\n",
      "####normalize (M step)####\n"
     ]
    },
    {
     "name": "stdout",
     "output_type": "stream",
     "text": [
      "[1] 0.007506398\n"
     ]
    },
    {
     "name": "stderr",
     "output_type": "stream",
     "text": [
      "##########################\n",
      "##Iteration 21\n",
      "####solve alpha and beta (E step)\n",
      "####normalize (M step)####\n"
     ]
    },
    {
     "name": "stdout",
     "output_type": "stream",
     "text": [
      "[1] 0.007388778\n"
     ]
    },
    {
     "name": "stderr",
     "output_type": "stream",
     "text": [
      "##########################\n",
      "##Iteration 22\n",
      "####solve alpha and beta (E step)\n",
      "####normalize (M step)####\n"
     ]
    },
    {
     "name": "stdout",
     "output_type": "stream",
     "text": [
      "[1] 0.008304783\n"
     ]
    },
    {
     "name": "stderr",
     "output_type": "stream",
     "text": [
      "##########################\n",
      "##Iteration 23\n",
      "####solve alpha and beta (E step)\n",
      "####normalize (M step)####\n"
     ]
    },
    {
     "name": "stdout",
     "output_type": "stream",
     "text": [
      "[1] 0.007283336\n"
     ]
    },
    {
     "name": "stderr",
     "output_type": "stream",
     "text": [
      "##########################\n",
      "##Iteration 24\n",
      "####solve alpha and beta (E step)\n",
      "####normalize (M step)####\n"
     ]
    },
    {
     "name": "stdout",
     "output_type": "stream",
     "text": [
      "[1] 0.00795252\n"
     ]
    },
    {
     "name": "stderr",
     "output_type": "stream",
     "text": [
      "##########################\n",
      "##Iteration 25\n",
      "####solve alpha and beta (E step)\n",
      "####normalize (M step)####\n"
     ]
    },
    {
     "name": "stdout",
     "output_type": "stream",
     "text": [
      "[1] 0.008213029\n"
     ]
    },
    {
     "name": "stderr",
     "output_type": "stream",
     "text": [
      "##########################\n",
      "##Iteration 26\n",
      "####solve alpha and beta (E step)\n",
      "####normalize (M step)####\n"
     ]
    },
    {
     "name": "stdout",
     "output_type": "stream",
     "text": [
      "[1] 0.007720704\n"
     ]
    },
    {
     "name": "stderr",
     "output_type": "stream",
     "text": [
      "##########################\n",
      "##Iteration 27\n",
      "####solve alpha and beta (E step)\n",
      "####normalize (M step)####\n"
     ]
    },
    {
     "name": "stdout",
     "output_type": "stream",
     "text": [
      "[1] 0.007474031\n"
     ]
    },
    {
     "name": "stderr",
     "output_type": "stream",
     "text": [
      "##########################\n",
      "##Iteration 28\n",
      "####solve alpha and beta (E step)\n",
      "####normalize (M step)####\n"
     ]
    },
    {
     "name": "stdout",
     "output_type": "stream",
     "text": [
      "[1] 0.008578982\n"
     ]
    },
    {
     "name": "stderr",
     "output_type": "stream",
     "text": [
      "##########################\n",
      "##Iteration 29\n",
      "####solve alpha and beta (E step)\n",
      "####normalize (M step)####\n"
     ]
    },
    {
     "name": "stdout",
     "output_type": "stream",
     "text": [
      "[1] 0.00615599\n"
     ]
    },
    {
     "name": "stderr",
     "output_type": "stream",
     "text": [
      "##########################\n",
      "##Iteration 30\n",
      "####solve alpha and beta (E step)\n",
      "####normalize (M step)####\n"
     ]
    },
    {
     "name": "stdout",
     "output_type": "stream",
     "text": [
      "[1] 0.007719196\n"
     ]
    },
    {
     "name": "stderr",
     "output_type": "stream",
     "text": [
      "##########################\n",
      "##Iteration 31\n",
      "####solve alpha and beta (E step)\n",
      "####normalize (M step)####\n"
     ]
    },
    {
     "name": "stdout",
     "output_type": "stream",
     "text": [
      "[1] 0.008622205\n"
     ]
    },
    {
     "name": "stderr",
     "output_type": "stream",
     "text": [
      "##########################\n",
      "##Iteration 32\n",
      "####solve alpha and beta (E step)\n",
      "####normalize (M step)####\n"
     ]
    },
    {
     "name": "stdout",
     "output_type": "stream",
     "text": [
      "[1] 0.007385066\n"
     ]
    },
    {
     "name": "stderr",
     "output_type": "stream",
     "text": [
      "##########################\n",
      "##Iteration 33\n",
      "####solve alpha and beta (E step)\n",
      "####normalize (M step)####\n"
     ]
    },
    {
     "name": "stdout",
     "output_type": "stream",
     "text": [
      "[1] 0.007279301\n"
     ]
    },
    {
     "name": "stderr",
     "output_type": "stream",
     "text": [
      "##########################\n",
      "##Iteration 34\n",
      "####solve alpha and beta (E step)\n",
      "####normalize (M step)####\n"
     ]
    },
    {
     "name": "stdout",
     "output_type": "stream",
     "text": [
      "[1] 0.006850913\n"
     ]
    },
    {
     "name": "stderr",
     "output_type": "stream",
     "text": [
      "##########################\n",
      "##Iteration 35\n",
      "####solve alpha and beta (E step)\n",
      "####normalize (M step)####\n"
     ]
    },
    {
     "name": "stdout",
     "output_type": "stream",
     "text": [
      "[1] 0.007915739\n"
     ]
    },
    {
     "name": "stderr",
     "output_type": "stream",
     "text": [
      "##########################\n",
      "##Iteration 36\n",
      "####solve alpha and beta (E step)\n",
      "####normalize (M step)####\n"
     ]
    },
    {
     "name": "stdout",
     "output_type": "stream",
     "text": [
      "[1] 0.008993264\n"
     ]
    },
    {
     "name": "stderr",
     "output_type": "stream",
     "text": [
      "##########################\n",
      "##Iteration 37\n",
      "####solve alpha and beta (E step)\n",
      "####normalize (M step)####\n"
     ]
    },
    {
     "name": "stdout",
     "output_type": "stream",
     "text": [
      "[1] 0.005392869\n"
     ]
    },
    {
     "name": "stderr",
     "output_type": "stream",
     "text": [
      "##########################\n",
      "##Iteration 38\n",
      "####solve alpha and beta (E step)\n",
      "####normalize (M step)####\n"
     ]
    },
    {
     "name": "stdout",
     "output_type": "stream",
     "text": [
      "[1] 0.006680474\n"
     ]
    },
    {
     "name": "stderr",
     "output_type": "stream",
     "text": [
      "##########################\n",
      "##Iteration 39\n",
      "####solve alpha and beta (E step)\n",
      "####normalize (M step)####\n"
     ]
    },
    {
     "name": "stdout",
     "output_type": "stream",
     "text": [
      "[1] 0.01284852\n"
     ]
    },
    {
     "name": "stderr",
     "output_type": "stream",
     "text": [
      "##########################\n",
      "##Iteration 40\n",
      "####solve alpha and beta (E step)\n",
      "####normalize (M step)####\n"
     ]
    },
    {
     "name": "stdout",
     "output_type": "stream",
     "text": [
      "[1] 0.009030502\n"
     ]
    },
    {
     "name": "stderr",
     "output_type": "stream",
     "text": [
      "##########################\n",
      "##Iteration 41\n",
      "####solve alpha and beta (E step)\n",
      "####normalize (M step)####\n"
     ]
    },
    {
     "name": "stdout",
     "output_type": "stream",
     "text": [
      "[1] 0.008384116\n"
     ]
    },
    {
     "name": "stderr",
     "output_type": "stream",
     "text": [
      "##########################\n",
      "##Iteration 42\n",
      "####solve alpha and beta (E step)\n",
      "####normalize (M step)####\n"
     ]
    },
    {
     "name": "stdout",
     "output_type": "stream",
     "text": [
      "[1] 0.006686447\n"
     ]
    },
    {
     "name": "stderr",
     "output_type": "stream",
     "text": [
      "##########################\n",
      "##Iteration 43\n",
      "####solve alpha and beta (E step)\n",
      "####normalize (M step)####\n"
     ]
    },
    {
     "name": "stdout",
     "output_type": "stream",
     "text": [
      "[1] 0.006046435\n"
     ]
    },
    {
     "name": "stderr",
     "output_type": "stream",
     "text": [
      "##########################\n",
      "##Iteration 44\n",
      "####solve alpha and beta (E step)\n",
      "####normalize (M step)####\n"
     ]
    },
    {
     "name": "stdout",
     "output_type": "stream",
     "text": [
      "[1] 0.009262251\n"
     ]
    },
    {
     "name": "stderr",
     "output_type": "stream",
     "text": [
      "##########################\n",
      "##Iteration 45\n",
      "####solve alpha and beta (E step)\n",
      "####normalize (M step)####\n"
     ]
    },
    {
     "name": "stdout",
     "output_type": "stream",
     "text": [
      "[1] 0.008954941\n"
     ]
    },
    {
     "name": "stderr",
     "output_type": "stream",
     "text": [
      "##########################\n",
      "##Iteration 46\n",
      "####solve alpha and beta (E step)\n",
      "####normalize (M step)####\n"
     ]
    },
    {
     "name": "stdout",
     "output_type": "stream",
     "text": [
      "[1] 0.00764331\n"
     ]
    },
    {
     "name": "stderr",
     "output_type": "stream",
     "text": [
      "##########################\n",
      "##Iteration 47\n",
      "####solve alpha and beta (E step)\n",
      "####normalize (M step)####\n"
     ]
    },
    {
     "name": "stdout",
     "output_type": "stream",
     "text": [
      "[1] 0.007239296\n"
     ]
    },
    {
     "name": "stderr",
     "output_type": "stream",
     "text": [
      "##########################\n",
      "##Iteration 48\n",
      "####solve alpha and beta (E step)\n",
      "####normalize (M step)####\n"
     ]
    },
    {
     "name": "stdout",
     "output_type": "stream",
     "text": [
      "[1] 0.008753565\n"
     ]
    },
    {
     "name": "stderr",
     "output_type": "stream",
     "text": [
      "##########################\n",
      "##Iteration 49\n",
      "####solve alpha and beta (E step)\n",
      "####normalize (M step)####\n"
     ]
    },
    {
     "name": "stdout",
     "output_type": "stream",
     "text": [
      "[1] 0.007347132\n"
     ]
    },
    {
     "name": "stderr",
     "output_type": "stream",
     "text": [
      "##########################\n",
      "##Iteration 50\n",
      "####solve alpha and beta (E step)\n",
      "####normalize (M step)####\n"
     ]
    },
    {
     "name": "stdout",
     "output_type": "stream",
     "text": [
      "[1] 0.007609778\n"
     ]
    },
    {
     "name": "stderr",
     "output_type": "stream",
     "text": [
      "##########################\n",
      "##Iteration 51\n",
      "####solve alpha and beta (E step)\n",
      "####normalize (M step)####\n"
     ]
    },
    {
     "name": "stdout",
     "output_type": "stream",
     "text": [
      "[1] 0.008000731\n"
     ]
    },
    {
     "name": "stderr",
     "output_type": "stream",
     "text": [
      "##########################\n",
      "##Iteration 52\n",
      "####solve alpha and beta (E step)\n",
      "####normalize (M step)####\n"
     ]
    },
    {
     "name": "stdout",
     "output_type": "stream",
     "text": [
      "[1] 0.008173222\n"
     ]
    },
    {
     "name": "stderr",
     "output_type": "stream",
     "text": [
      "##########################\n",
      "##Iteration 53\n",
      "####solve alpha and beta (E step)\n"
     ]
    }
   ],
   "source": [
    "counts.db <- input.db[-1,]\n",
    "colnames(counts.db) <- as.character(input.db[1,])\n",
    "res.db <- EM(dat=counts.db,meta=metadata.db, dev=10, refSp = 2,  verbose=TRUE,\n",
    "          min_iter=50, max_iter=100, epsilon = 0.5, \n",
    "          scaling = 10000, ncpu=4, seed=1)"
   ]
  },
  {
   "cell_type": "markdown",
   "metadata": {},
   "source": [
    "### Individual F4"
   ]
  },
  {
   "cell_type": "code",
   "execution_count": 9,
   "metadata": {
    "collapsed": false
   },
   "outputs": [
    {
     "name": "stderr",
     "output_type": "stream",
     "text": [
      "Preprocessing data ...\n",
      "##Iteration 1\n",
      "####solve alpha and beta (E step)\n",
      "####normalize (M step)####\n"
     ]
    },
    {
     "name": "stdout",
     "output_type": "stream",
     "text": [
      "[1] 0.1376122\n"
     ]
    },
    {
     "name": "stderr",
     "output_type": "stream",
     "text": [
      "##########################\n",
      "##Iteration 2\n",
      "####solve alpha and beta (E step)\n",
      "####normalize (M step)####\n"
     ]
    },
    {
     "name": "stdout",
     "output_type": "stream",
     "text": [
      "[1] 0.01556961\n"
     ]
    },
    {
     "name": "stderr",
     "output_type": "stream",
     "text": [
      "##########################\n",
      "##Iteration 3\n",
      "####solve alpha and beta (E step)\n",
      "####normalize (M step)####\n"
     ]
    },
    {
     "name": "stdout",
     "output_type": "stream",
     "text": [
      "[1] 0.0126481\n"
     ]
    },
    {
     "name": "stderr",
     "output_type": "stream",
     "text": [
      "##########################\n",
      "##Iteration 4\n",
      "####solve alpha and beta (E step)\n",
      "####normalize (M step)####\n"
     ]
    },
    {
     "name": "stdout",
     "output_type": "stream",
     "text": [
      "[1] 0.01288485\n"
     ]
    },
    {
     "name": "stderr",
     "output_type": "stream",
     "text": [
      "##########################\n",
      "##Iteration 5\n",
      "####solve alpha and beta (E step)\n",
      "####normalize (M step)####\n"
     ]
    },
    {
     "name": "stdout",
     "output_type": "stream",
     "text": [
      "[1] 0.01299296\n"
     ]
    },
    {
     "name": "stderr",
     "output_type": "stream",
     "text": [
      "##########################\n",
      "##Iteration 6\n",
      "####solve alpha and beta (E step)\n",
      "####normalize (M step)####\n"
     ]
    },
    {
     "name": "stdout",
     "output_type": "stream",
     "text": [
      "[1] 0.01204454\n"
     ]
    },
    {
     "name": "stderr",
     "output_type": "stream",
     "text": [
      "##########################\n",
      "##Iteration 7\n",
      "####solve alpha and beta (E step)\n",
      "####normalize (M step)####\n"
     ]
    },
    {
     "name": "stdout",
     "output_type": "stream",
     "text": [
      "[1] 0.01171821\n"
     ]
    },
    {
     "name": "stderr",
     "output_type": "stream",
     "text": [
      "##########################\n",
      "##Iteration 8\n",
      "####solve alpha and beta (E step)\n",
      "####normalize (M step)####\n"
     ]
    },
    {
     "name": "stdout",
     "output_type": "stream",
     "text": [
      "[1] 0.01146014\n"
     ]
    },
    {
     "name": "stderr",
     "output_type": "stream",
     "text": [
      "##########################\n",
      "##Iteration 9\n",
      "####solve alpha and beta (E step)\n",
      "####normalize (M step)####\n"
     ]
    },
    {
     "name": "stdout",
     "output_type": "stream",
     "text": [
      "[1] 0.01141635\n"
     ]
    },
    {
     "name": "stderr",
     "output_type": "stream",
     "text": [
      "##########################\n",
      "##Iteration 10\n",
      "####solve alpha and beta (E step)\n",
      "####normalize (M step)####\n"
     ]
    },
    {
     "name": "stdout",
     "output_type": "stream",
     "text": [
      "[1] 0.01146726\n"
     ]
    },
    {
     "name": "stderr",
     "output_type": "stream",
     "text": [
      "##########################\n",
      "##Iteration 11\n",
      "####solve alpha and beta (E step)\n",
      "####normalize (M step)####\n"
     ]
    },
    {
     "name": "stdout",
     "output_type": "stream",
     "text": [
      "[1] 0.01171454\n"
     ]
    },
    {
     "name": "stderr",
     "output_type": "stream",
     "text": [
      "##########################\n",
      "##Iteration 12\n",
      "####solve alpha and beta (E step)\n",
      "####normalize (M step)####\n"
     ]
    },
    {
     "name": "stdout",
     "output_type": "stream",
     "text": [
      "[1] 0.0118332\n"
     ]
    },
    {
     "name": "stderr",
     "output_type": "stream",
     "text": [
      "##########################\n",
      "##Iteration 13\n",
      "####solve alpha and beta (E step)\n",
      "####normalize (M step)####\n"
     ]
    },
    {
     "name": "stdout",
     "output_type": "stream",
     "text": [
      "[1] 0.01213712\n"
     ]
    },
    {
     "name": "stderr",
     "output_type": "stream",
     "text": [
      "##########################\n",
      "##Iteration 14\n",
      "####solve alpha and beta (E step)\n",
      "####normalize (M step)####\n"
     ]
    },
    {
     "name": "stdout",
     "output_type": "stream",
     "text": [
      "[1] 0.01206136\n"
     ]
    },
    {
     "name": "stderr",
     "output_type": "stream",
     "text": [
      "##########################\n",
      "##Iteration 15\n",
      "####solve alpha and beta (E step)\n",
      "####normalize (M step)####\n"
     ]
    },
    {
     "name": "stdout",
     "output_type": "stream",
     "text": [
      "[1] 0.01201799\n"
     ]
    },
    {
     "name": "stderr",
     "output_type": "stream",
     "text": [
      "##########################\n",
      "##Iteration 16\n",
      "####solve alpha and beta (E step)\n",
      "####normalize (M step)####\n"
     ]
    },
    {
     "name": "stdout",
     "output_type": "stream",
     "text": [
      "[1] 0.0120823\n"
     ]
    },
    {
     "name": "stderr",
     "output_type": "stream",
     "text": [
      "##########################\n",
      "##Iteration 17\n",
      "####solve alpha and beta (E step)\n",
      "####normalize (M step)####\n"
     ]
    },
    {
     "name": "stdout",
     "output_type": "stream",
     "text": [
      "[1] 0.01215095\n"
     ]
    },
    {
     "name": "stderr",
     "output_type": "stream",
     "text": [
      "##########################\n",
      "##Iteration 18\n",
      "####solve alpha and beta (E step)\n",
      "####normalize (M step)####\n"
     ]
    },
    {
     "name": "stdout",
     "output_type": "stream",
     "text": [
      "[1] 0.01193617\n"
     ]
    },
    {
     "name": "stderr",
     "output_type": "stream",
     "text": [
      "##########################\n",
      "##Iteration 19\n",
      "####solve alpha and beta (E step)\n",
      "####normalize (M step)####\n"
     ]
    },
    {
     "name": "stdout",
     "output_type": "stream",
     "text": [
      "[1] 0.01176487\n"
     ]
    },
    {
     "name": "stderr",
     "output_type": "stream",
     "text": [
      "##########################\n",
      "##Iteration 20\n",
      "####solve alpha and beta (E step)\n",
      "####normalize (M step)####\n"
     ]
    },
    {
     "name": "stdout",
     "output_type": "stream",
     "text": [
      "[1] 0.01196054\n"
     ]
    },
    {
     "name": "stderr",
     "output_type": "stream",
     "text": [
      "##########################\n",
      "##Iteration 21\n",
      "####solve alpha and beta (E step)\n",
      "####normalize (M step)####\n"
     ]
    },
    {
     "name": "stdout",
     "output_type": "stream",
     "text": [
      "[1] 0.01169872\n"
     ]
    },
    {
     "name": "stderr",
     "output_type": "stream",
     "text": [
      "##########################\n",
      "##Iteration 22\n",
      "####solve alpha and beta (E step)\n",
      "####normalize (M step)####\n"
     ]
    },
    {
     "name": "stdout",
     "output_type": "stream",
     "text": [
      "[1] 0.01173096\n"
     ]
    },
    {
     "name": "stderr",
     "output_type": "stream",
     "text": [
      "##########################\n",
      "##Iteration 23\n",
      "####solve alpha and beta (E step)\n",
      "####normalize (M step)####\n"
     ]
    },
    {
     "name": "stdout",
     "output_type": "stream",
     "text": [
      "[1] 0.01205549\n"
     ]
    },
    {
     "name": "stderr",
     "output_type": "stream",
     "text": [
      "##########################\n",
      "##Iteration 24\n",
      "####solve alpha and beta (E step)\n",
      "####normalize (M step)####\n"
     ]
    },
    {
     "name": "stdout",
     "output_type": "stream",
     "text": [
      "[1] 0.01198672\n"
     ]
    },
    {
     "name": "stderr",
     "output_type": "stream",
     "text": [
      "##########################\n",
      "##Iteration 25\n",
      "####solve alpha and beta (E step)\n",
      "####normalize (M step)####\n"
     ]
    },
    {
     "name": "stdout",
     "output_type": "stream",
     "text": [
      "[1] 0.01184822\n"
     ]
    },
    {
     "name": "stderr",
     "output_type": "stream",
     "text": [
      "##########################\n",
      "##Iteration 26\n",
      "####solve alpha and beta (E step)\n",
      "####normalize (M step)####\n"
     ]
    },
    {
     "name": "stdout",
     "output_type": "stream",
     "text": [
      "[1] 0.01218063\n"
     ]
    },
    {
     "name": "stderr",
     "output_type": "stream",
     "text": [
      "##########################\n",
      "##Iteration 27\n",
      "####solve alpha and beta (E step)\n",
      "####normalize (M step)####\n"
     ]
    },
    {
     "name": "stdout",
     "output_type": "stream",
     "text": [
      "[1] 0.01193614\n"
     ]
    },
    {
     "name": "stderr",
     "output_type": "stream",
     "text": [
      "##########################\n",
      "##Iteration 28\n",
      "####solve alpha and beta (E step)\n",
      "####normalize (M step)####\n"
     ]
    },
    {
     "name": "stdout",
     "output_type": "stream",
     "text": [
      "[1] 0.01219512\n"
     ]
    },
    {
     "name": "stderr",
     "output_type": "stream",
     "text": [
      "##########################\n",
      "##Iteration 29\n",
      "####solve alpha and beta (E step)\n",
      "####normalize (M step)####\n"
     ]
    },
    {
     "name": "stdout",
     "output_type": "stream",
     "text": [
      "[1] 0.01188877\n"
     ]
    },
    {
     "name": "stderr",
     "output_type": "stream",
     "text": [
      "##########################\n",
      "##Iteration 30\n",
      "####solve alpha and beta (E step)\n",
      "####normalize (M step)####\n"
     ]
    },
    {
     "name": "stdout",
     "output_type": "stream",
     "text": [
      "[1] 0.01204583\n"
     ]
    },
    {
     "name": "stderr",
     "output_type": "stream",
     "text": [
      "##########################\n",
      "##Iteration 31\n",
      "####solve alpha and beta (E step)\n",
      "####normalize (M step)####\n"
     ]
    },
    {
     "name": "stdout",
     "output_type": "stream",
     "text": [
      "[1] 0.01245281\n"
     ]
    },
    {
     "name": "stderr",
     "output_type": "stream",
     "text": [
      "##########################\n",
      "##Iteration 32\n",
      "####solve alpha and beta (E step)\n",
      "####normalize (M step)####\n"
     ]
    },
    {
     "name": "stdout",
     "output_type": "stream",
     "text": [
      "[1] 0.01197724\n"
     ]
    },
    {
     "name": "stderr",
     "output_type": "stream",
     "text": [
      "##########################\n",
      "##Iteration 33\n",
      "####solve alpha and beta (E step)\n",
      "####normalize (M step)####\n"
     ]
    },
    {
     "name": "stdout",
     "output_type": "stream",
     "text": [
      "[1] 0.01192236\n"
     ]
    },
    {
     "name": "stderr",
     "output_type": "stream",
     "text": [
      "##########################\n",
      "##Iteration 34\n",
      "####solve alpha and beta (E step)\n",
      "####normalize (M step)####\n"
     ]
    },
    {
     "name": "stdout",
     "output_type": "stream",
     "text": [
      "[1] 0.01240542\n"
     ]
    },
    {
     "name": "stderr",
     "output_type": "stream",
     "text": [
      "##########################\n",
      "##Iteration 35\n",
      "####solve alpha and beta (E step)\n",
      "####normalize (M step)####\n"
     ]
    },
    {
     "name": "stdout",
     "output_type": "stream",
     "text": [
      "[1] 0.01193067\n"
     ]
    },
    {
     "name": "stderr",
     "output_type": "stream",
     "text": [
      "##########################\n",
      "##Iteration 36\n",
      "####solve alpha and beta (E step)\n",
      "####normalize (M step)####\n"
     ]
    },
    {
     "name": "stdout",
     "output_type": "stream",
     "text": [
      "[1] 0.01178178\n"
     ]
    },
    {
     "name": "stderr",
     "output_type": "stream",
     "text": [
      "##########################\n",
      "##Iteration 37\n",
      "####solve alpha and beta (E step)\n",
      "####normalize (M step)####\n"
     ]
    },
    {
     "name": "stdout",
     "output_type": "stream",
     "text": [
      "[1] 0.01176072\n"
     ]
    },
    {
     "name": "stderr",
     "output_type": "stream",
     "text": [
      "##########################\n",
      "##Iteration 38\n",
      "####solve alpha and beta (E step)\n",
      "####normalize (M step)####\n"
     ]
    },
    {
     "name": "stdout",
     "output_type": "stream",
     "text": [
      "[1] 0.01214043\n"
     ]
    },
    {
     "name": "stderr",
     "output_type": "stream",
     "text": [
      "##########################\n",
      "##Iteration 39\n",
      "####solve alpha and beta (E step)\n",
      "####normalize (M step)####\n"
     ]
    },
    {
     "name": "stdout",
     "output_type": "stream",
     "text": [
      "[1] 0.01162035\n"
     ]
    },
    {
     "name": "stderr",
     "output_type": "stream",
     "text": [
      "##########################\n",
      "##Iteration 40\n",
      "####solve alpha and beta (E step)\n",
      "####normalize (M step)####\n"
     ]
    },
    {
     "name": "stdout",
     "output_type": "stream",
     "text": [
      "[1] 0.01170483\n"
     ]
    },
    {
     "name": "stderr",
     "output_type": "stream",
     "text": [
      "##########################\n",
      "##Iteration 41\n",
      "####solve alpha and beta (E step)\n",
      "####normalize (M step)####\n"
     ]
    },
    {
     "name": "stdout",
     "output_type": "stream",
     "text": [
      "[1] 0.01149995\n"
     ]
    },
    {
     "name": "stderr",
     "output_type": "stream",
     "text": [
      "##########################\n",
      "##Iteration 42\n",
      "####solve alpha and beta (E step)\n",
      "####normalize (M step)####\n"
     ]
    },
    {
     "name": "stdout",
     "output_type": "stream",
     "text": [
      "[1] 0.01146992\n"
     ]
    },
    {
     "name": "stderr",
     "output_type": "stream",
     "text": [
      "##########################\n",
      "##Iteration 43\n",
      "####solve alpha and beta (E step)\n",
      "####normalize (M step)####\n"
     ]
    },
    {
     "name": "stdout",
     "output_type": "stream",
     "text": [
      "[1] 0.01149258\n"
     ]
    },
    {
     "name": "stderr",
     "output_type": "stream",
     "text": [
      "##########################\n",
      "##Iteration 44\n",
      "####solve alpha and beta (E step)\n",
      "####normalize (M step)####\n"
     ]
    },
    {
     "name": "stdout",
     "output_type": "stream",
     "text": [
      "[1] 0.01141966\n"
     ]
    },
    {
     "name": "stderr",
     "output_type": "stream",
     "text": [
      "##########################\n",
      "##Iteration 45\n",
      "####solve alpha and beta (E step)\n",
      "####normalize (M step)####\n"
     ]
    },
    {
     "name": "stdout",
     "output_type": "stream",
     "text": [
      "[1] 0.01137072\n"
     ]
    },
    {
     "name": "stderr",
     "output_type": "stream",
     "text": [
      "##########################\n",
      "##Iteration 46\n",
      "####solve alpha and beta (E step)\n",
      "####normalize (M step)####\n"
     ]
    },
    {
     "name": "stdout",
     "output_type": "stream",
     "text": [
      "[1] 0.01130526\n"
     ]
    },
    {
     "name": "stderr",
     "output_type": "stream",
     "text": [
      "##########################\n",
      "##Iteration 47\n",
      "####solve alpha and beta (E step)\n",
      "####normalize (M step)####\n"
     ]
    },
    {
     "name": "stdout",
     "output_type": "stream",
     "text": [
      "[1] 0.01127034\n"
     ]
    },
    {
     "name": "stderr",
     "output_type": "stream",
     "text": [
      "##########################\n",
      "##Iteration 48\n",
      "####solve alpha and beta (E step)\n",
      "####normalize (M step)####\n"
     ]
    },
    {
     "name": "stdout",
     "output_type": "stream",
     "text": [
      "[1] 0.01131562\n"
     ]
    },
    {
     "name": "stderr",
     "output_type": "stream",
     "text": [
      "##########################\n",
      "##Iteration 49\n",
      "####solve alpha and beta (E step)\n",
      "####normalize (M step)####\n"
     ]
    },
    {
     "name": "stdout",
     "output_type": "stream",
     "text": [
      "[1] 0.01126362\n"
     ]
    },
    {
     "name": "stderr",
     "output_type": "stream",
     "text": [
      "##########################\n",
      "##Iteration 50\n",
      "####solve alpha and beta (E step)\n",
      "####normalize (M step)####\n"
     ]
    },
    {
     "name": "stdout",
     "output_type": "stream",
     "text": [
      "[1] 0.01124733\n"
     ]
    },
    {
     "name": "stderr",
     "output_type": "stream",
     "text": [
      "##########################\n",
      "##Iteration 51\n",
      "####solve alpha and beta (E step)\n",
      "####normalize (M step)####\n"
     ]
    },
    {
     "name": "stdout",
     "output_type": "stream",
     "text": [
      "[1] 0.01123662\n"
     ]
    },
    {
     "name": "stderr",
     "output_type": "stream",
     "text": [
      "##########################\n",
      "##Iteration 52\n",
      "####solve alpha and beta (E step)\n",
      "####normalize (M step)####\n"
     ]
    },
    {
     "name": "stdout",
     "output_type": "stream",
     "text": [
      "[1] 0.0111208\n"
     ]
    },
    {
     "name": "stderr",
     "output_type": "stream",
     "text": [
      "##########################\n",
      "##Iteration 53\n",
      "####solve alpha and beta (E step)\n",
      "####normalize (M step)####\n"
     ]
    },
    {
     "name": "stdout",
     "output_type": "stream",
     "text": [
      "[1] 0.01112147\n"
     ]
    },
    {
     "name": "stderr",
     "output_type": "stream",
     "text": [
      "##########################\n",
      "##Iteration 54\n",
      "####solve alpha and beta (E step)\n",
      "####normalize (M step)####\n"
     ]
    },
    {
     "name": "stdout",
     "output_type": "stream",
     "text": [
      "[1] 0.01102471\n"
     ]
    },
    {
     "name": "stderr",
     "output_type": "stream",
     "text": [
      "##########################\n",
      "##Iteration 55\n",
      "####solve alpha and beta (E step)\n",
      "####normalize (M step)####\n"
     ]
    },
    {
     "name": "stdout",
     "output_type": "stream",
     "text": [
      "[1] 0.01098079\n"
     ]
    },
    {
     "name": "stderr",
     "output_type": "stream",
     "text": [
      "##########################\n",
      "##Iteration 56\n",
      "####solve alpha and beta (E step)\n",
      "####normalize (M step)####\n"
     ]
    },
    {
     "name": "stdout",
     "output_type": "stream",
     "text": [
      "[1] 0.01097094\n"
     ]
    },
    {
     "name": "stderr",
     "output_type": "stream",
     "text": [
      "##########################\n",
      "##Iteration 57\n",
      "####solve alpha and beta (E step)\n",
      "####normalize (M step)####\n"
     ]
    },
    {
     "name": "stdout",
     "output_type": "stream",
     "text": [
      "[1] 0.01095469\n"
     ]
    },
    {
     "name": "stderr",
     "output_type": "stream",
     "text": [
      "##########################\n",
      "##Iteration 58\n",
      "####solve alpha and beta (E step)\n",
      "####normalize (M step)####\n"
     ]
    },
    {
     "name": "stdout",
     "output_type": "stream",
     "text": [
      "[1] 0.01110312\n"
     ]
    },
    {
     "name": "stderr",
     "output_type": "stream",
     "text": [
      "##########################\n",
      "##Iteration 59\n",
      "####solve alpha and beta (E step)\n",
      "####normalize (M step)####\n"
     ]
    },
    {
     "name": "stdout",
     "output_type": "stream",
     "text": [
      "[1] 0.01113262\n"
     ]
    },
    {
     "name": "stderr",
     "output_type": "stream",
     "text": [
      "##########################\n",
      "##Iteration 60\n",
      "####solve alpha and beta (E step)\n",
      "####normalize (M step)####\n"
     ]
    },
    {
     "name": "stdout",
     "output_type": "stream",
     "text": [
      "[1] 0.01128181\n"
     ]
    },
    {
     "name": "stderr",
     "output_type": "stream",
     "text": [
      "##########################\n",
      "##Iteration 61\n",
      "####solve alpha and beta (E step)\n",
      "####normalize (M step)####\n"
     ]
    },
    {
     "name": "stdout",
     "output_type": "stream",
     "text": [
      "[1] 0.01111662\n"
     ]
    },
    {
     "name": "stderr",
     "output_type": "stream",
     "text": [
      "##########################\n",
      "##Iteration 62\n",
      "####solve alpha and beta (E step)\n",
      "####normalize (M step)####\n"
     ]
    },
    {
     "name": "stdout",
     "output_type": "stream",
     "text": [
      "[1] 0.01120686\n"
     ]
    },
    {
     "name": "stderr",
     "output_type": "stream",
     "text": [
      "##########################\n",
      "##Iteration 63\n",
      "####solve alpha and beta (E step)\n",
      "####normalize (M step)####\n"
     ]
    },
    {
     "name": "stdout",
     "output_type": "stream",
     "text": [
      "[1] 0.01113166\n"
     ]
    },
    {
     "name": "stderr",
     "output_type": "stream",
     "text": [
      "##########################\n",
      "##Iteration 64\n",
      "####solve alpha and beta (E step)\n",
      "####normalize (M step)####\n"
     ]
    },
    {
     "name": "stdout",
     "output_type": "stream",
     "text": [
      "[1] 0.01123244\n"
     ]
    },
    {
     "name": "stderr",
     "output_type": "stream",
     "text": [
      "##########################\n",
      "##Iteration 65\n",
      "####solve alpha and beta (E step)\n",
      "####normalize (M step)####\n"
     ]
    },
    {
     "name": "stdout",
     "output_type": "stream",
     "text": [
      "[1] 0.01139045\n"
     ]
    },
    {
     "name": "stderr",
     "output_type": "stream",
     "text": [
      "##########################\n",
      "##Iteration 66\n",
      "####solve alpha and beta (E step)\n",
      "####normalize (M step)####\n"
     ]
    },
    {
     "name": "stdout",
     "output_type": "stream",
     "text": [
      "[1] 0.01133311\n"
     ]
    },
    {
     "name": "stderr",
     "output_type": "stream",
     "text": [
      "##########################\n",
      "##Iteration 67\n",
      "####solve alpha and beta (E step)\n",
      "####normalize (M step)####\n"
     ]
    },
    {
     "name": "stdout",
     "output_type": "stream",
     "text": [
      "[1] 0.0115837\n"
     ]
    },
    {
     "name": "stderr",
     "output_type": "stream",
     "text": [
      "##########################\n",
      "##Iteration 68\n",
      "####solve alpha and beta (E step)\n",
      "####normalize (M step)####\n"
     ]
    },
    {
     "name": "stdout",
     "output_type": "stream",
     "text": [
      "[1] 0.01139333\n"
     ]
    },
    {
     "name": "stderr",
     "output_type": "stream",
     "text": [
      "##########################\n",
      "##Iteration 69\n",
      "####solve alpha and beta (E step)\n",
      "####normalize (M step)####\n"
     ]
    },
    {
     "name": "stdout",
     "output_type": "stream",
     "text": [
      "[1] 0.01140367\n"
     ]
    },
    {
     "name": "stderr",
     "output_type": "stream",
     "text": [
      "##########################\n",
      "##Iteration 70\n",
      "####solve alpha and beta (E step)\n",
      "####normalize (M step)####\n"
     ]
    },
    {
     "name": "stdout",
     "output_type": "stream",
     "text": [
      "[1] 0.01151958\n"
     ]
    },
    {
     "name": "stderr",
     "output_type": "stream",
     "text": [
      "##########################\n",
      "##Iteration 71\n",
      "####solve alpha and beta (E step)\n",
      "####normalize (M step)####\n"
     ]
    },
    {
     "name": "stdout",
     "output_type": "stream",
     "text": [
      "[1] 0.01146306\n"
     ]
    },
    {
     "name": "stderr",
     "output_type": "stream",
     "text": [
      "##########################\n",
      "##Iteration 72\n",
      "####solve alpha and beta (E step)\n",
      "####normalize (M step)####\n"
     ]
    },
    {
     "name": "stdout",
     "output_type": "stream",
     "text": [
      "[1] 0.01154812\n"
     ]
    },
    {
     "name": "stderr",
     "output_type": "stream",
     "text": [
      "##########################\n",
      "##Iteration 73\n",
      "####solve alpha and beta (E step)\n",
      "####normalize (M step)####\n"
     ]
    },
    {
     "name": "stdout",
     "output_type": "stream",
     "text": [
      "[1] 0.01149925\n"
     ]
    },
    {
     "name": "stderr",
     "output_type": "stream",
     "text": [
      "##########################\n",
      "##Iteration 74\n",
      "####solve alpha and beta (E step)\n",
      "####normalize (M step)####\n"
     ]
    },
    {
     "name": "stdout",
     "output_type": "stream",
     "text": [
      "[1] 0.01155714\n"
     ]
    },
    {
     "name": "stderr",
     "output_type": "stream",
     "text": [
      "##########################\n",
      "##Iteration 75\n",
      "####solve alpha and beta (E step)\n",
      "####normalize (M step)####\n"
     ]
    },
    {
     "name": "stdout",
     "output_type": "stream",
     "text": [
      "[1] 0.01167428\n"
     ]
    },
    {
     "name": "stderr",
     "output_type": "stream",
     "text": [
      "##########################\n",
      "##Iteration 76\n",
      "####solve alpha and beta (E step)\n",
      "####normalize (M step)####\n"
     ]
    },
    {
     "name": "stdout",
     "output_type": "stream",
     "text": [
      "[1] 0.01159385\n"
     ]
    },
    {
     "name": "stderr",
     "output_type": "stream",
     "text": [
      "##########################\n",
      "##Iteration 77\n",
      "####solve alpha and beta (E step)\n",
      "####normalize (M step)####\n"
     ]
    },
    {
     "name": "stdout",
     "output_type": "stream",
     "text": [
      "[1] 0.0115829\n"
     ]
    },
    {
     "name": "stderr",
     "output_type": "stream",
     "text": [
      "##########################\n",
      "##Iteration 78\n",
      "####solve alpha and beta (E step)\n",
      "####normalize (M step)####\n"
     ]
    },
    {
     "name": "stdout",
     "output_type": "stream",
     "text": [
      "[1] 0.01155917\n"
     ]
    },
    {
     "name": "stderr",
     "output_type": "stream",
     "text": [
      "##########################\n",
      "##Iteration 79\n",
      "####solve alpha and beta (E step)\n",
      "####normalize (M step)####\n"
     ]
    },
    {
     "name": "stdout",
     "output_type": "stream",
     "text": [
      "[1] 0.01160941\n"
     ]
    },
    {
     "name": "stderr",
     "output_type": "stream",
     "text": [
      "##########################\n",
      "##Iteration 80\n",
      "####solve alpha and beta (E step)\n",
      "####normalize (M step)####\n"
     ]
    },
    {
     "name": "stdout",
     "output_type": "stream",
     "text": [
      "[1] 0.01172378\n"
     ]
    },
    {
     "name": "stderr",
     "output_type": "stream",
     "text": [
      "##########################\n",
      "##Iteration 81\n",
      "####solve alpha and beta (E step)\n",
      "####normalize (M step)####\n"
     ]
    },
    {
     "name": "stdout",
     "output_type": "stream",
     "text": [
      "[1] 0.01170788\n"
     ]
    },
    {
     "name": "stderr",
     "output_type": "stream",
     "text": [
      "##########################\n",
      "##Iteration 82\n",
      "####solve alpha and beta (E step)\n",
      "####normalize (M step)####\n"
     ]
    },
    {
     "name": "stdout",
     "output_type": "stream",
     "text": [
      "[1] 0.01164291\n"
     ]
    },
    {
     "name": "stderr",
     "output_type": "stream",
     "text": [
      "##########################\n",
      "##Iteration 83\n",
      "####solve alpha and beta (E step)\n",
      "####normalize (M step)####\n"
     ]
    },
    {
     "name": "stdout",
     "output_type": "stream",
     "text": [
      "[1] 0.01172037\n"
     ]
    },
    {
     "name": "stderr",
     "output_type": "stream",
     "text": [
      "##########################\n",
      "##Iteration 84\n",
      "####solve alpha and beta (E step)\n",
      "####normalize (M step)####\n"
     ]
    },
    {
     "name": "stdout",
     "output_type": "stream",
     "text": [
      "[1] 0.01159152\n"
     ]
    },
    {
     "name": "stderr",
     "output_type": "stream",
     "text": [
      "##########################\n",
      "##Iteration 85\n",
      "####solve alpha and beta (E step)\n",
      "####normalize (M step)####\n"
     ]
    },
    {
     "name": "stdout",
     "output_type": "stream",
     "text": [
      "[1] 0.01169232\n"
     ]
    },
    {
     "name": "stderr",
     "output_type": "stream",
     "text": [
      "##########################\n",
      "##Iteration 86\n",
      "####solve alpha and beta (E step)\n",
      "####normalize (M step)####\n"
     ]
    },
    {
     "name": "stdout",
     "output_type": "stream",
     "text": [
      "[1] 0.01179834\n"
     ]
    },
    {
     "name": "stderr",
     "output_type": "stream",
     "text": [
      "##########################\n",
      "##Iteration 87\n",
      "####solve alpha and beta (E step)\n",
      "####normalize (M step)####\n"
     ]
    },
    {
     "name": "stdout",
     "output_type": "stream",
     "text": [
      "[1] 0.01161047\n"
     ]
    },
    {
     "name": "stderr",
     "output_type": "stream",
     "text": [
      "##########################\n",
      "##Iteration 88\n",
      "####solve alpha and beta (E step)\n",
      "####normalize (M step)####\n"
     ]
    },
    {
     "name": "stdout",
     "output_type": "stream",
     "text": [
      "[1] 0.01168348\n"
     ]
    },
    {
     "name": "stderr",
     "output_type": "stream",
     "text": [
      "##########################\n",
      "##Iteration 89\n",
      "####solve alpha and beta (E step)\n",
      "####normalize (M step)####\n"
     ]
    },
    {
     "name": "stdout",
     "output_type": "stream",
     "text": [
      "[1] 0.01164834\n"
     ]
    },
    {
     "name": "stderr",
     "output_type": "stream",
     "text": [
      "##########################\n",
      "##Iteration 90\n",
      "####solve alpha and beta (E step)\n",
      "####normalize (M step)####\n"
     ]
    },
    {
     "name": "stdout",
     "output_type": "stream",
     "text": [
      "[1] 0.01163011\n"
     ]
    },
    {
     "name": "stderr",
     "output_type": "stream",
     "text": [
      "##########################\n",
      "##Iteration 91\n",
      "####solve alpha and beta (E step)\n",
      "####normalize (M step)####\n"
     ]
    },
    {
     "name": "stdout",
     "output_type": "stream",
     "text": [
      "[1] 0.01169523\n"
     ]
    },
    {
     "name": "stderr",
     "output_type": "stream",
     "text": [
      "##########################\n",
      "##Iteration 92\n",
      "####solve alpha and beta (E step)\n",
      "####normalize (M step)####\n"
     ]
    },
    {
     "name": "stdout",
     "output_type": "stream",
     "text": [
      "[1] 0.01170076\n"
     ]
    },
    {
     "name": "stderr",
     "output_type": "stream",
     "text": [
      "##########################\n",
      "##Iteration 93\n",
      "####solve alpha and beta (E step)\n",
      "####normalize (M step)####\n"
     ]
    },
    {
     "name": "stdout",
     "output_type": "stream",
     "text": [
      "[1] 0.01168339\n"
     ]
    },
    {
     "name": "stderr",
     "output_type": "stream",
     "text": [
      "##########################\n",
      "##Iteration 94\n",
      "####solve alpha and beta (E step)\n",
      "####normalize (M step)####\n"
     ]
    },
    {
     "name": "stdout",
     "output_type": "stream",
     "text": [
      "[1] 0.01168396\n"
     ]
    },
    {
     "name": "stderr",
     "output_type": "stream",
     "text": [
      "##########################\n",
      "##Iteration 95\n",
      "####solve alpha and beta (E step)\n",
      "####normalize (M step)####\n"
     ]
    },
    {
     "name": "stdout",
     "output_type": "stream",
     "text": [
      "[1] 0.01165864\n"
     ]
    },
    {
     "name": "stderr",
     "output_type": "stream",
     "text": [
      "##########################\n",
      "##Iteration 96\n",
      "####solve alpha and beta (E step)\n",
      "####normalize (M step)####\n"
     ]
    },
    {
     "name": "stdout",
     "output_type": "stream",
     "text": [
      "[1] 0.01164539\n"
     ]
    },
    {
     "name": "stderr",
     "output_type": "stream",
     "text": [
      "##########################\n",
      "##Iteration 97\n",
      "####solve alpha and beta (E step)\n",
      "####normalize (M step)####\n"
     ]
    },
    {
     "name": "stdout",
     "output_type": "stream",
     "text": [
      "[1] 0.01165501\n"
     ]
    },
    {
     "name": "stderr",
     "output_type": "stream",
     "text": [
      "##########################\n",
      "##Iteration 98\n",
      "####solve alpha and beta (E step)\n",
      "####normalize (M step)####\n"
     ]
    },
    {
     "name": "stdout",
     "output_type": "stream",
     "text": [
      "[1] 0.01170514\n"
     ]
    },
    {
     "name": "stderr",
     "output_type": "stream",
     "text": [
      "##########################\n",
      "##Iteration 99\n",
      "####solve alpha and beta (E step)\n",
      "####normalize (M step)####\n"
     ]
    },
    {
     "name": "stdout",
     "output_type": "stream",
     "text": [
      "[1] 0.0117261\n"
     ]
    },
    {
     "name": "stderr",
     "output_type": "stream",
     "text": [
      "##########################\n",
      "##Iteration 100\n",
      "####solve alpha and beta (E step)\n",
      "####normalize (M step)####\n"
     ]
    },
    {
     "name": "stdout",
     "output_type": "stream",
     "text": [
      "[1] 0.01177517\n"
     ]
    },
    {
     "name": "stderr",
     "output_type": "stream",
     "text": [
      "##########################\n"
     ]
    }
   ],
   "source": [
    "counts.f4 <- input.f4[-1,]\n",
    "colnames(counts.f4) <- as.character(input.f4[1,])\n",
    "res.f4 <- EM(dat=counts.f4,meta=metadata.f4, dev=10, refSp = 8,  verbose=TRUE,\n",
    "          min_iter=50, max_iter=100, epsilon = 0.5, \n",
    "          scaling = 10000, ncpu=4, seed=1)"
   ]
  },
  {
   "cell_type": "markdown",
   "metadata": {},
   "source": [
    "## Infer parameters"
   ]
  },
  {
   "cell_type": "code",
   "execution_count": 10,
   "metadata": {
    "collapsed": false
   },
   "outputs": [],
   "source": [
    "params.da <- paramFromEM(res.da, counts.da, metadata.da, ncpu=4)\n",
    "params.m3 <- paramFromEM(res.m3, counts.m3, metadata.m3, ncpu=4)\n",
    "params.db <- paramFromEM(res.db, counts.db, metadata.db, ncpu=4)\n",
    "params.f4 <- paramFromEM(res.f4, counts.f4, metadata.f4, ncpu=4)"
   ]
  },
  {
   "cell_type": "markdown",
   "metadata": {},
   "source": [
    "## Functions for analysis"
   ]
  },
  {
   "cell_type": "code",
   "execution_count": 17,
   "metadata": {
    "collapsed": false
   },
   "outputs": [],
   "source": [
    "getbiomass <- function(res){\n",
    "    trace.mse <- res$trace.mse\n",
    "    min.mse <- min(trace.mse)\n",
    "    em.idx <- which((trace.mse-min.mse) < res$epsilon*min.mse)\n",
    "    biomass <- apply(res$trace.biomass[,em.idx],1,median)\n",
    "    biomass\n",
    "}\n",
    "int.net <- function(counts, parms, sig=1, title){\n",
    "    ## plot interaction network\n",
    "    minmax <- function(x) (x-min(x))/(max(x)-min(x))\n",
    "    annote <- read.table('~/beem/time_series_analysis/all_out_mapping.txt',head=F, row.names=1)\n",
    "    counts.mean <- rowMeans(counts)\n",
    "    int <- parms[parms$parameter_type=='interaction' & parms$source_taxon!=parms$target_taxon,]\n",
    "    int.f <- int[int$significance>sig,2:4]\n",
    "    g <- graph.data.frame(int.f[,1:2])\n",
    "    V(g)$color <- annote[V(g)$name,]$V4\n",
    "    V(g)$size <- log(counts.mean[V(g)$name]) +4\n",
    "    E(g)$color <- ifelse(int.f$value>0,fill_cols[12],fill_cols[13])\n",
    "    E(g)$lty <- ifelse(int.f$value>0,1,2)\n",
    "    E(g)$width <- minmax(abs(int.f$value) ) * 2 + 0.5\n",
    "    plot(g, main=title,asp=0,edge.arrow.size=0.5,edge.curved=.15)\n",
    "    return(g)\n",
    "}\n",
    "fit_power_law = function(graph) {\n",
    "    # calculate degree\n",
    "    d = degree(graph, mode = \"all\")\n",
    "    dd = degree.distribution(graph, mode = \"all\", cumulative = FALSE)\n",
    "    degree = 1:max(d)\n",
    "    probability = dd[-1]\n",
    "    # delete blank values\n",
    "    nonzero.position = which(probability != 0)\n",
    "    probability = probability[nonzero.position]\n",
    "    degree = degree[nonzero.position]\n",
    "    reg = lm(log(probability) ~ log(degree))\n",
    "    cozf = coef(reg)\n",
    "    power.law.fit = function(x) exp(cozf[[1]] + cozf[[2]] * log(x))\n",
    "    alpha = -cozf[[2]]\n",
    "    R.square = summary(reg)$r.squared\n",
    "    # plot\n",
    "    plot(probability ~ degree, log = \"xy\", xlab = \"Degree (log)\", ylab = \"Probability (log)\", \n",
    "         col = 1, main = \"Degree Distribution\")\n",
    "    text(x=2, y=0.2, labels=paste0(\"alpha=\",round(alpha,3),\"; R^2=\",round(R.square,3)))\n",
    "    curve(power.law.fit, col = \"red\", add = T, n = length(d), lwd=2)\n",
    "}"
   ]
  },
  {
   "cell_type": "markdown",
   "metadata": {},
   "source": [
    "## Biomass trajectory of individual DA\n",
    "Note the periodic behaviour of the biomass -- the period is around 90 days (i.e. 3 months)."
   ]
  },
  {
   "cell_type": "code",
   "execution_count": 13,
   "metadata": {
    "collapsed": false
   },
   "outputs": [
    {
     "data": {
      "image/png": "[encoded data removed]",
      "text/plain": [
       "plot without title"
      ]
     },
     "metadata": {},
     "output_type": "display_data"
    }
   ],
   "source": [
    "par(mfrow = c(4,1))\n",
    "plot(x=metadata.da$measurementID,y=getbiomass(res.da), xlim=c(0, 450), type='b', pch=19, xlab='Date', ylab='Estimated biomass', log='y')\n",
    "plot(x=metadata.m3$measurementID,y=getbiomass(res.m3), xlim=c(0, 450), type='b', pch=19, xlab='Date', ylab='Estimated biomass', log='y')\n",
    "plot(x=metadata.db$measurementID,y=getbiomass(res.db), xlim=c(0, 450), type='b', pch=19, xlab='Date', ylab='Estimated biomass', log='y')\n",
    "plot(x=metadata.f4$measurementID,y=getbiomass(res.f4), xlim=c(0, 450), type='b', pch=19, xlab='Date', ylab='Estimated biomass', log='y')"
   ]
  },
  {
   "cell_type": "markdown",
   "metadata": {},
   "source": [
    "## Plot interaction network"
   ]
  },
  {
   "cell_type": "code",
   "execution_count": 19,
   "metadata": {
    "collapsed": false
   },
   "outputs": [
    {
     "data": {
      "image/png": "[encoded data removed]",
      "text/plain": [
       "Plot with title “DA”"
      ]
     },
     "metadata": {},
     "output_type": "display_data"
    }
   ],
   "source": [
    "fill_cols <- pal_simpsons(c(\"springfield\"))(16)\n",
    "ga <- int.net(counts.da, params.da, 1.5, 'DA')"
   ]
  },
  {
   "cell_type": "code",
   "execution_count": 20,
   "metadata": {
    "collapsed": false
   },
   "outputs": [
    {
     "data": {
      "image/png": "[encoded data removed]",
      "text/plain": [
       "Plot with title “M3”"
      ]
     },
     "metadata": {},
     "output_type": "display_data"
    }
   ],
   "source": [
    "gm <- int.net(counts.m3, params.m3, 1.5, 'M3')"
   ]
  },
  {
   "cell_type": "code",
   "execution_count": 21,
   "metadata": {
    "collapsed": false
   },
   "outputs": [
    {
     "data": {
      "image/png": "[encoded data removed]",
      "text/plain": [
       "Plot with title “DB”"
      ]
     },
     "metadata": {},
     "output_type": "display_data"
    }
   ],
   "source": [
    "gb <- int.net(counts.db, params.db, 1.5, 'DB')"
   ]
  },
  {
   "cell_type": "code",
   "execution_count": 22,
   "metadata": {
    "collapsed": false
   },
   "outputs": [
    {
     "data": {
      "image/png": "[encoded data removed]",
      "text/plain": [
       "Plot with title “F4”"
      ]
     },
     "metadata": {},
     "output_type": "display_data"
    }
   ],
   "source": [
    "f4 <- int.net(counts.f4, params.f4, 1.5, 'F4')"
   ]
  },
  {
   "cell_type": "code",
   "execution_count": 24,
   "metadata": {
    "collapsed": false
   },
   "outputs": [],
   "source": [
    "res.da$counts <- counts.da\n",
    "res.da$metadata <- metadata.da\n",
    "saveRDS(res.da, '~/beem/time_series_analysis/DA.EM.rds')\n",
    "write.table(params.da, '~/beem/time_series_analysis/DA.params.txt', col.names=TRUE, row.names=FALSE, sep='\\t', quote=FALSE)\n",
    "\n",
    "res.m3$counts <- counts.m3\n",
    "res.m3$metadata <- metadata.m3\n",
    "saveRDS(res.m3, '~/beem/time_series_analysis/M3.EM.rds')\n",
    "write.table(params.m3, '~/beem/time_series_analysis/M3.params.txt', col.names=TRUE, row.names=FALSE, sep='\\t', quote=FALSE)\n",
    "\n",
    "res.db$counts <- counts.db\n",
    "res.db$metadata <- metadata.db\n",
    "saveRDS(res.db, '~/beem/time_series_analysis/DB.EM.rds')\n",
    "write.table(params.db, '~/beem/time_series_analysis/DB.params.txt', col.names=TRUE, row.names=FALSE, sep='\\t', quote=FALSE)\n",
    "\n",
    "res.f4$counts <- counts.f4\n",
    "res.f4$metadata <- metadata.f4\n",
    "saveRDS(res.f4, '~/beem/time_series_analysis/F4.EM.rds')\n",
    "write.table(params.f4, '~/beem/time_series_analysis/F4.params.txt', col.names=TRUE, row.names=FALSE, sep='\\t', quote=FALSE)"
   ]
  }
 ],
 "metadata": {
  "kernelspec": {
   "display_name": "R",
   "language": "R",
   "name": "ir"
  },
  "language_info": {
   "codemirror_mode": "r",
   "file_extension": ".r",
   "mimetype": "text/x-r-source",
   "name": "R",
   "pygments_lexer": "r",
   "version": "3.4.0"
  }
 },
 "nbformat": 4,
 "nbformat_minor": 2
}
