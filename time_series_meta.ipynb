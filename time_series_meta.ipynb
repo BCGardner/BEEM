{
 "cells": [
  {
   "cell_type": "markdown",
   "metadata": {},
   "source": [
    "# Analysis of one-year trace of gut microbiome\n",
    "This notebook records the code used for analyzing data from [Gibbons _et. al._ (2017)](http://journals.plos.org/ploscompbiol/article?id=10.1371/journal.pcbi.1005364). "
   ]
  },
  {
   "cell_type": "markdown",
   "metadata": {},
   "source": [
    "## Load required packages"
   ]
  },
  {
   "cell_type": "code",
   "execution_count": 1,
   "metadata": {
    "collapsed": false
   },
   "outputs": [
    {
     "name": "stderr",
     "output_type": "stream",
     "text": [
      "Loading required package: ggplot2\n",
      "Loading required package: foreach\n",
      "Loading required package: doMC\n",
      "Loading required package: iterators\n",
      "Loading required package: parallel\n",
      "Loading required package: lokern\n",
      "Loading required package: pspline\n",
      "Loading required package: monomvn\n",
      "Loading required package: pls\n",
      "\n",
      "Attaching package: ‘pls’\n",
      "\n",
      "The following object is masked from ‘package:stats’:\n",
      "\n",
      "    loadings\n",
      "\n",
      "Loading required package: lars\n",
      "Loaded lars 1.2\n",
      "\n",
      "Loading required package: MASS\n",
      "Loading required package: reshape2\n",
      "Loading required package: RColorBrewer\n",
      "Loading required package: grid\n",
      "Loading required package: RCurl\n",
      "Loading required package: bitops\n",
      "Loading required package: igraph\n",
      "Warning message:\n",
      "“package ‘igraph’ was built under R version 3.4.1”\n",
      "Attaching package: ‘igraph’\n",
      "\n",
      "The following objects are masked from ‘package:stats’:\n",
      "\n",
      "    decompose, spectrum\n",
      "\n",
      "The following object is masked from ‘package:base’:\n",
      "\n",
      "    union\n",
      "\n",
      "Loading required package: ggsci\n",
      "Warning message:\n",
      "“package ‘ggsci’ was built under R version 3.4.2”"
     ]
    },
    {
     "data": {
      "text/html": [
       "<dl class=dl-horizontal>\n",
       "\t<dt>ggplot2</dt>\n",
       "\t\t<dd>TRUE</dd>\n",
       "\t<dt>foreach</dt>\n",
       "\t\t<dd>TRUE</dd>\n",
       "\t<dt>doMC</dt>\n",
       "\t\t<dd>TRUE</dd>\n",
       "\t<dt>lokern</dt>\n",
       "\t\t<dd>TRUE</dd>\n",
       "\t<dt>pspline</dt>\n",
       "\t\t<dd>TRUE</dd>\n",
       "\t<dt>monomvn</dt>\n",
       "\t\t<dd>TRUE</dd>\n",
       "\t<dt>reshape2</dt>\n",
       "\t\t<dd>TRUE</dd>\n",
       "\t<dt>RColorBrewer</dt>\n",
       "\t\t<dd>TRUE</dd>\n",
       "\t<dt>grid</dt>\n",
       "\t\t<dd>TRUE</dd>\n",
       "\t<dt>RCurl</dt>\n",
       "\t\t<dd>TRUE</dd>\n",
       "\t<dt>igraph</dt>\n",
       "\t\t<dd>TRUE</dd>\n",
       "\t<dt>ggsci</dt>\n",
       "\t\t<dd>TRUE</dd>\n",
       "</dl>\n"
      ],
      "text/latex": [
       "\\begin{description*}\n",
       "\\item[ggplot2] TRUE\n",
       "\\item[foreach] TRUE\n",
       "\\item[doMC] TRUE\n",
       "\\item[lokern] TRUE\n",
       "\\item[pspline] TRUE\n",
       "\\item[monomvn] TRUE\n",
       "\\item[reshape2] TRUE\n",
       "\\item[RColorBrewer] TRUE\n",
       "\\item[grid] TRUE\n",
       "\\item[RCurl] TRUE\n",
       "\\item[igraph] TRUE\n",
       "\\item[ggsci] TRUE\n",
       "\\end{description*}\n"
      ],
      "text/markdown": [
       "ggplot2\n",
       ":   TRUEforeach\n",
       ":   TRUEdoMC\n",
       ":   TRUElokern\n",
       ":   TRUEpspline\n",
       ":   TRUEmonomvn\n",
       ":   TRUEreshape2\n",
       ":   TRUERColorBrewer\n",
       ":   TRUEgrid\n",
       ":   TRUERCurl\n",
       ":   TRUEigraph\n",
       ":   TRUEggsci\n",
       ":   TRUE\n",
       "\n"
      ],
      "text/plain": [
       "     ggplot2      foreach         doMC       lokern      pspline      monomvn \n",
       "        TRUE         TRUE         TRUE         TRUE         TRUE         TRUE \n",
       "    reshape2 RColorBrewer         grid        RCurl       igraph        ggsci \n",
       "        TRUE         TRUE         TRUE         TRUE         TRUE         TRUE "
      ]
     },
     "metadata": {},
     "output_type": "display_data"
    }
   ],
   "source": [
    "## https://gist.github.com/stevenworthington/3178163\n",
    "ipak <- function(pkg){\n",
    "    new.pkg <- pkg[!(pkg %in% installed.packages()[, \"Package\"])]\n",
    "    if (length(new.pkg)) \n",
    "        install.packages(new.pkg, dependencies = TRUE)\n",
    "    sapply(pkg, require, character.only = TRUE)\n",
    "}\n",
    "\n",
    "# usage\n",
    "packages <- c(\"ggplot2\", \"foreach\",'doMC','lokern', 'pspline', 'monomvn', \n",
    "              \"reshape2\", \"RColorBrewer\", \"grid\", \"RCurl\", \"igraph\", \"ggsci\")\n",
    "ipak(packages)"
   ]
  },
  {
   "cell_type": "markdown",
   "metadata": {},
   "source": [
    "## Access Dropbox files"
   ]
  },
  {
   "cell_type": "code",
   "execution_count": 2,
   "metadata": {
    "collapsed": true
   },
   "outputs": [],
   "source": [
    "source.dropbox = function(dropbox.url, targetFile) {\n",
    "    ### Adapted from http://rstudio-pubs-static.s3.amazonaws.com/10162_c939e11b01c54cc9afda69b4dd0c62fe.html\n",
    "    library(RCurl)\n",
    "    setwd(tempdir())\n",
    "    destfile = targetFile\n",
    "    # use regex to get the piece of the Dropbox URL we need\n",
    "    matches <- regexpr(\"(/s/.*)\", dropbox.url, perl = TRUE, ignore.case = TRUE)\n",
    "    result <- attr(matches, \"capture.start\")[, 1]\n",
    "    attr(result, \"match.length\") <- attr(matches, \"capture.length\")[, 1]\n",
    "    dropbox.tail = regmatches(dropbox.url, result)\n",
    "    dburl = paste(\"https://dl.dropbox.com\", dropbox.tail, sep = \"\")\n",
    "    x = getBinaryURL(dburl, followlocation = TRUE, ssl.verifypeer = FALSE)\n",
    "    writeBin(x, destfile, useBytes = TRUE)\n",
    "}"
   ]
  },
  {
   "cell_type": "markdown",
   "metadata": {},
   "source": [
    "## Download data (optional)\n",
    "If you have downloaded the entire git repository, you can skip this step."
   ]
  },
  {
   "cell_type": "code",
   "execution_count": 3,
   "metadata": {
    "collapsed": false
   },
   "outputs": [],
   "source": [
    "## DA\n",
    "source.dropbox(\"https://www.dropbox.com/s/oa47p5ru9846ss7/DA.counts.txt\", \"~/beem/time_series_analysis/DA.counts.txt\")\n",
    "source.dropbox(\"https://www.dropbox.com/s/kq0nd849osoyavh/DA.metadata.txt\", \"~/beem/time_series_analysis/DA.metadata.txt\")\n",
    "## M3\n",
    "source.dropbox(\"https://www.dropbox.com/s/34p46fs2wli3okh/M3.counts.txt\", \"~/beem/time_series_analysis/M3.counts.txt\")\n",
    "source.dropbox(\"https://www.dropbox.com/s/02gkmlbsrhjtb14/M3.metadata.txt\", \"~/beem/time_series_analysis/M3.metadata.txt\")\n",
    "## DB\n",
    "source.dropbox(\"https://www.dropbox.com/s/mw9igdeq1qk68ru/DB.counts.txt\", \"~/beem/time_series_analysis/DB.counts.txt\")\n",
    "source.dropbox(\"https://www.dropbox.com/s/k46lx4n6shtfmfz/DB.metadata.txt\", \"~/beem/time_series_analysis/DB.metadata.txt\")\n",
    "## F4\n",
    "source.dropbox(\"https://www.dropbox.com/s/ssgzghscrfu2bjh/F4.counts.txt\", \"~/beem/time_series_analysis/F4.counts.txt\")\n",
    "source.dropbox(\"https://www.dropbox.com/s/9wa0vn6e1sfm01d/F4.metadata.txt\", \"~/beem/time_series_analysis/F4.metadata.txt\")\n",
    "\n",
    "## otu annotation\n",
    "source.dropbox(\"https://www.dropbox.com/s/iub977z7u3z86wg/all_otu_mapping.txt\", \"~/beem/time_series_analysis/all_out_mapping.txt\")"
   ]
  },
  {
   "cell_type": "markdown",
   "metadata": {},
   "source": [
    "## Load functions and data"
   ]
  },
  {
   "cell_type": "code",
   "execution_count": 3,
   "metadata": {
    "collapsed": false
   },
   "outputs": [],
   "source": [
    "source(\"~/beem/emFunctions.r\")\n",
    "input.da <- read.table('~/beem/time_series_analysis/DA.counts.txt', head=F, row.names=1)\n",
    "metadata.da <- read.table('~/beem/time_series_analysis/DA.metadata.txt', head=T)\n",
    "\n",
    "## For DB, point #74 has extremely high of one species and #180 is sampled too far from the previous time point\n",
    "input.db <- read.table('~/beem/time_series_analysis/DB.counts.txt', head=F, row.names=1)[,-c(74,180)]\n",
    "metadata.db <- read.table('~/beem/time_series_analysis/DB.metadata.txt', head=T)[-c(74,180),]\n",
    "\n",
    "## For M3, data from 330:332 are too far from previous time point\n",
    "input.m3 <- read.table('~/beem/time_series_analysis/M3.counts.txt', head=F, row.names=1)[,1:329] \n",
    "metadata.m3 <- read.table('~/beem/time_series_analysis/M3.metadata.txt', head=T)[1:329,]\n",
    "\n",
    "input.f4 <- read.table('~/beem/time_series_analysis/F4.counts.txt', head=F, row.names=1) \n",
    "metadata.f4 <- read.table('~/beem/time_series_analysis/F4.metadata.txt', head=T)"
   ]
  },
  {
   "cell_type": "markdown",
   "metadata": {},
   "source": [
    "## Run BEEM"
   ]
  },
  {
   "cell_type": "markdown",
   "metadata": {},
   "source": [
    "### Individual DA"
   ]
  },
  {
   "cell_type": "code",
   "execution_count": 4,
   "metadata": {
    "collapsed": false,
    "scrolled": true
   },
   "outputs": [
    {
     "name": "stderr",
     "output_type": "stream",
     "text": [
      "Preprocessing data ...\n",
      "##Iteration 1\n",
      "####solve alpha and beta (E step)\n",
      "####normalize (M step)####\n"
     ]
    },
    {
     "name": "stdout",
     "output_type": "stream",
     "text": [
      "[1] 1.576376\n"
     ]
    },
    {
     "name": "stderr",
     "output_type": "stream",
     "text": [
      "##########################\n",
      "##Iteration 2\n",
      "####solve alpha and beta (E step)\n",
      "####normalize (M step)####\n"
     ]
    },
    {
     "name": "stdout",
     "output_type": "stream",
     "text": [
      "[1] 0.00155961\n"
     ]
    },
    {
     "name": "stderr",
     "output_type": "stream",
     "text": [
      "##########################\n",
      "##Iteration 3\n",
      "####solve alpha and beta (E step)\n",
      "####normalize (M step)####\n"
     ]
    },
    {
     "name": "stdout",
     "output_type": "stream",
     "text": [
      "[1] 0.001258853\n"
     ]
    },
    {
     "name": "stderr",
     "output_type": "stream",
     "text": [
      "##########################\n",
      "##Iteration 4\n",
      "####solve alpha and beta (E step)\n",
      "####normalize (M step)####\n"
     ]
    },
    {
     "name": "stdout",
     "output_type": "stream",
     "text": [
      "[1] 0.001005867\n"
     ]
    },
    {
     "name": "stderr",
     "output_type": "stream",
     "text": [
      "##########################\n",
      "##Iteration 5\n",
      "####solve alpha and beta (E step)\n",
      "####normalize (M step)####\n"
     ]
    },
    {
     "name": "stdout",
     "output_type": "stream",
     "text": [
      "[1] 0.0004566781\n"
     ]
    },
    {
     "name": "stderr",
     "output_type": "stream",
     "text": [
      "##########################\n",
      "##Iteration 6\n",
      "####solve alpha and beta (E step)\n",
      "####normalize (M step)####\n"
     ]
    },
    {
     "name": "stdout",
     "output_type": "stream",
     "text": [
      "[1] 0.0003904092\n"
     ]
    },
    {
     "name": "stderr",
     "output_type": "stream",
     "text": [
      "##########################\n",
      "##Iteration 7\n",
      "####solve alpha and beta (E step)\n",
      "####normalize (M step)####\n"
     ]
    },
    {
     "name": "stdout",
     "output_type": "stream",
     "text": [
      "[1] 0.0003552452\n"
     ]
    },
    {
     "name": "stderr",
     "output_type": "stream",
     "text": [
      "##########################\n",
      "##Iteration 8\n",
      "####solve alpha and beta (E step)\n",
      "####normalize (M step)####\n"
     ]
    },
    {
     "name": "stdout",
     "output_type": "stream",
     "text": [
      "[1] 0.0003340172\n"
     ]
    },
    {
     "name": "stderr",
     "output_type": "stream",
     "text": [
      "##########################\n",
      "##Iteration 9\n",
      "####solve alpha and beta (E step)\n",
      "####normalize (M step)####\n"
     ]
    },
    {
     "name": "stdout",
     "output_type": "stream",
     "text": [
      "[1] 0.0003239667\n"
     ]
    },
    {
     "name": "stderr",
     "output_type": "stream",
     "text": [
      "##########################\n",
      "##Iteration 10\n",
      "####solve alpha and beta (E step)\n",
      "####normalize (M step)####\n"
     ]
    },
    {
     "name": "stdout",
     "output_type": "stream",
     "text": [
      "[1] 0.0003228932\n"
     ]
    },
    {
     "name": "stderr",
     "output_type": "stream",
     "text": [
      "##########################\n",
      "##Iteration 11\n",
      "####solve alpha and beta (E step)\n",
      "####normalize (M step)####\n"
     ]
    },
    {
     "name": "stdout",
     "output_type": "stream",
     "text": [
      "[1] 0.0003240881\n"
     ]
    },
    {
     "name": "stderr",
     "output_type": "stream",
     "text": [
      "##########################\n",
      "##Iteration 12\n",
      "####solve alpha and beta (E step)\n",
      "####normalize (M step)####\n"
     ]
    },
    {
     "name": "stdout",
     "output_type": "stream",
     "text": [
      "[1] 0.0003257495\n"
     ]
    },
    {
     "name": "stderr",
     "output_type": "stream",
     "text": [
      "##########################\n",
      "##Iteration 13\n",
      "####solve alpha and beta (E step)\n",
      "####normalize (M step)####\n"
     ]
    },
    {
     "name": "stdout",
     "output_type": "stream",
     "text": [
      "[1] 0.0003258076\n"
     ]
    },
    {
     "name": "stderr",
     "output_type": "stream",
     "text": [
      "##########################\n",
      "##Iteration 14\n",
      "####solve alpha and beta (E step)\n",
      "####normalize (M step)####\n"
     ]
    },
    {
     "name": "stdout",
     "output_type": "stream",
     "text": [
      "[1] 0.0003272437\n"
     ]
    },
    {
     "name": "stderr",
     "output_type": "stream",
     "text": [
      "##########################\n",
      "##Iteration 15\n",
      "####solve alpha and beta (E step)\n",
      "####normalize (M step)####\n"
     ]
    },
    {
     "name": "stdout",
     "output_type": "stream",
     "text": [
      "[1] 0.0003285598\n"
     ]
    },
    {
     "name": "stderr",
     "output_type": "stream",
     "text": [
      "##########################\n",
      "##Iteration 16\n",
      "####solve alpha and beta (E step)\n",
      "####normalize (M step)####\n"
     ]
    },
    {
     "name": "stdout",
     "output_type": "stream",
     "text": [
      "[1] 0.0003284254\n"
     ]
    },
    {
     "name": "stderr",
     "output_type": "stream",
     "text": [
      "##########################\n",
      "##Iteration 17\n",
      "####solve alpha and beta (E step)\n",
      "####normalize (M step)####\n"
     ]
    },
    {
     "name": "stdout",
     "output_type": "stream",
     "text": [
      "[1] 0.0003289471\n"
     ]
    },
    {
     "name": "stderr",
     "output_type": "stream",
     "text": [
      "##########################\n",
      "##Iteration 18\n",
      "####solve alpha and beta (E step)\n",
      "####normalize (M step)####\n"
     ]
    },
    {
     "name": "stdout",
     "output_type": "stream",
     "text": [
      "[1] 0.0003286466\n"
     ]
    },
    {
     "name": "stderr",
     "output_type": "stream",
     "text": [
      "##########################\n",
      "##Iteration 19\n",
      "####solve alpha and beta (E step)\n",
      "####normalize (M step)####\n"
     ]
    },
    {
     "name": "stdout",
     "output_type": "stream",
     "text": [
      "[1] 0.0003284428\n"
     ]
    },
    {
     "name": "stderr",
     "output_type": "stream",
     "text": [
      "##########################\n",
      "##Iteration 20\n",
      "####solve alpha and beta (E step)\n",
      "####normalize (M step)####\n"
     ]
    },
    {
     "name": "stdout",
     "output_type": "stream",
     "text": [
      "[1] 0.0003290796\n"
     ]
    },
    {
     "name": "stderr",
     "output_type": "stream",
     "text": [
      "##########################\n",
      "##Iteration 21\n",
      "####solve alpha and beta (E step)\n",
      "####normalize (M step)####\n"
     ]
    },
    {
     "name": "stdout",
     "output_type": "stream",
     "text": [
      "[1] 0.0003303497\n"
     ]
    },
    {
     "name": "stderr",
     "output_type": "stream",
     "text": [
      "##########################\n",
      "##Iteration 22\n",
      "####solve alpha and beta (E step)\n",
      "####normalize (M step)####\n"
     ]
    },
    {
     "name": "stdout",
     "output_type": "stream",
     "text": [
      "[1] 0.0003315526\n"
     ]
    },
    {
     "name": "stderr",
     "output_type": "stream",
     "text": [
      "##########################\n",
      "##Iteration 23\n",
      "####solve alpha and beta (E step)\n",
      "####normalize (M step)####\n"
     ]
    },
    {
     "name": "stdout",
     "output_type": "stream",
     "text": [
      "[1] 0.0003319208\n"
     ]
    },
    {
     "name": "stderr",
     "output_type": "stream",
     "text": [
      "##########################\n",
      "##Iteration 24\n",
      "####solve alpha and beta (E step)\n",
      "####normalize (M step)####\n"
     ]
    },
    {
     "name": "stdout",
     "output_type": "stream",
     "text": [
      "[1] 0.0003321578\n"
     ]
    },
    {
     "name": "stderr",
     "output_type": "stream",
     "text": [
      "##########################\n",
      "##Iteration 25\n",
      "####solve alpha and beta (E step)\n",
      "####normalize (M step)####\n"
     ]
    },
    {
     "name": "stdout",
     "output_type": "stream",
     "text": [
      "[1] 0.0003316979\n"
     ]
    },
    {
     "name": "stderr",
     "output_type": "stream",
     "text": [
      "##########################\n",
      "##Iteration 26\n",
      "####solve alpha and beta (E step)\n",
      "####normalize (M step)####\n"
     ]
    },
    {
     "name": "stdout",
     "output_type": "stream",
     "text": [
      "[1] 0.0003310548\n"
     ]
    },
    {
     "name": "stderr",
     "output_type": "stream",
     "text": [
      "##########################\n",
      "##Iteration 27\n",
      "####solve alpha and beta (E step)\n",
      "####normalize (M step)####\n"
     ]
    },
    {
     "name": "stdout",
     "output_type": "stream",
     "text": [
      "[1] 0.0003304926\n"
     ]
    },
    {
     "name": "stderr",
     "output_type": "stream",
     "text": [
      "##########################\n",
      "##Iteration 28\n",
      "####solve alpha and beta (E step)\n",
      "####normalize (M step)####\n"
     ]
    },
    {
     "name": "stdout",
     "output_type": "stream",
     "text": [
      "[1] 0.0003295063\n"
     ]
    },
    {
     "name": "stderr",
     "output_type": "stream",
     "text": [
      "##########################\n",
      "##Iteration 29\n",
      "####solve alpha and beta (E step)\n",
      "####normalize (M step)####\n"
     ]
    },
    {
     "name": "stdout",
     "output_type": "stream",
     "text": [
      "[1] 0.0003303842\n"
     ]
    },
    {
     "name": "stderr",
     "output_type": "stream",
     "text": [
      "##########################\n",
      "##Iteration 30\n",
      "####solve alpha and beta (E step)\n",
      "####normalize (M step)####\n"
     ]
    },
    {
     "name": "stdout",
     "output_type": "stream",
     "text": [
      "[1] 0.0003298102\n"
     ]
    },
    {
     "name": "stderr",
     "output_type": "stream",
     "text": [
      "##########################\n",
      "##Iteration 31\n",
      "####solve alpha and beta (E step)\n",
      "####normalize (M step)####\n"
     ]
    },
    {
     "name": "stdout",
     "output_type": "stream",
     "text": [
      "[1] 0.0003291099\n"
     ]
    },
    {
     "name": "stderr",
     "output_type": "stream",
     "text": [
      "##########################\n",
      "##Iteration 32\n",
      "####solve alpha and beta (E step)\n",
      "####normalize (M step)####\n"
     ]
    },
    {
     "name": "stdout",
     "output_type": "stream",
     "text": [
      "[1] 0.000328559\n"
     ]
    },
    {
     "name": "stderr",
     "output_type": "stream",
     "text": [
      "##########################\n",
      "##Iteration 33\n",
      "####solve alpha and beta (E step)\n",
      "####normalize (M step)####\n"
     ]
    },
    {
     "name": "stdout",
     "output_type": "stream",
     "text": [
      "[1] 0.0003293699\n"
     ]
    },
    {
     "name": "stderr",
     "output_type": "stream",
     "text": [
      "##########################\n",
      "##Iteration 34\n",
      "####solve alpha and beta (E step)\n",
      "####normalize (M step)####\n"
     ]
    },
    {
     "name": "stdout",
     "output_type": "stream",
     "text": [
      "[1] 0.0003258259\n"
     ]
    },
    {
     "name": "stderr",
     "output_type": "stream",
     "text": [
      "##########################\n",
      "##Iteration 35\n",
      "####solve alpha and beta (E step)\n",
      "####normalize (M step)####\n"
     ]
    },
    {
     "name": "stdout",
     "output_type": "stream",
     "text": [
      "[1] 0.0003252407\n"
     ]
    },
    {
     "name": "stderr",
     "output_type": "stream",
     "text": [
      "##########################\n",
      "##Iteration 36\n",
      "####solve alpha and beta (E step)\n",
      "####normalize (M step)####\n"
     ]
    },
    {
     "name": "stdout",
     "output_type": "stream",
     "text": [
      "[1] 0.000333274\n"
     ]
    },
    {
     "name": "stderr",
     "output_type": "stream",
     "text": [
      "##########################\n",
      "##Iteration 37\n",
      "####solve alpha and beta (E step)\n",
      "####normalize (M step)####\n"
     ]
    },
    {
     "name": "stdout",
     "output_type": "stream",
     "text": [
      "[1] 0.0003276137\n"
     ]
    },
    {
     "name": "stderr",
     "output_type": "stream",
     "text": [
      "##########################\n",
      "##Iteration 38\n",
      "####solve alpha and beta (E step)\n",
      "####normalize (M step)####\n"
     ]
    },
    {
     "name": "stdout",
     "output_type": "stream",
     "text": [
      "[1] 0.0003253296\n"
     ]
    },
    {
     "name": "stderr",
     "output_type": "stream",
     "text": [
      "##########################\n",
      "##Iteration 39\n",
      "####solve alpha and beta (E step)\n",
      "####normalize (M step)####\n"
     ]
    },
    {
     "name": "stdout",
     "output_type": "stream",
     "text": [
      "[1] 0.0003455523\n"
     ]
    },
    {
     "name": "stderr",
     "output_type": "stream",
     "text": [
      "##########################\n",
      "##Iteration 40\n",
      "####solve alpha and beta (E step)\n",
      "####normalize (M step)####\n"
     ]
    },
    {
     "name": "stdout",
     "output_type": "stream",
     "text": [
      "[1] 0.0003287297\n"
     ]
    },
    {
     "name": "stderr",
     "output_type": "stream",
     "text": [
      "##########################\n",
      "##Iteration 41\n",
      "####solve alpha and beta (E step)\n",
      "####normalize (M step)####\n"
     ]
    },
    {
     "name": "stdout",
     "output_type": "stream",
     "text": [
      "[1] 0.0003467681\n"
     ]
    },
    {
     "name": "stderr",
     "output_type": "stream",
     "text": [
      "##########################\n",
      "##Iteration 42\n",
      "####solve alpha and beta (E step)\n",
      "####normalize (M step)####\n"
     ]
    },
    {
     "name": "stdout",
     "output_type": "stream",
     "text": [
      "[1] 0.0003418874\n"
     ]
    },
    {
     "name": "stderr",
     "output_type": "stream",
     "text": [
      "##########################\n",
      "##Iteration 43\n",
      "####solve alpha and beta (E step)\n",
      "####normalize (M step)####\n"
     ]
    },
    {
     "name": "stdout",
     "output_type": "stream",
     "text": [
      "[1] 0.0003276804\n"
     ]
    },
    {
     "name": "stderr",
     "output_type": "stream",
     "text": [
      "##########################\n",
      "##Iteration 44\n",
      "####solve alpha and beta (E step)\n",
      "####normalize (M step)####\n"
     ]
    },
    {
     "name": "stdout",
     "output_type": "stream",
     "text": [
      "[1] 0.0003301861\n"
     ]
    },
    {
     "name": "stderr",
     "output_type": "stream",
     "text": [
      "##########################\n",
      "##Iteration 45\n",
      "####solve alpha and beta (E step)\n",
      "####normalize (M step)####\n"
     ]
    },
    {
     "name": "stdout",
     "output_type": "stream",
     "text": [
      "[1] 0.0003233906\n"
     ]
    },
    {
     "name": "stderr",
     "output_type": "stream",
     "text": [
      "##########################\n",
      "##Iteration 46\n",
      "####solve alpha and beta (E step)\n",
      "####normalize (M step)####\n"
     ]
    },
    {
     "name": "stdout",
     "output_type": "stream",
     "text": [
      "[1] 0.0003266451\n"
     ]
    },
    {
     "name": "stderr",
     "output_type": "stream",
     "text": [
      "##########################\n",
      "##Iteration 47\n",
      "####solve alpha and beta (E step)\n",
      "####normalize (M step)####\n"
     ]
    },
    {
     "name": "stdout",
     "output_type": "stream",
     "text": [
      "[1] 0.0003317827\n"
     ]
    },
    {
     "name": "stderr",
     "output_type": "stream",
     "text": [
      "##########################\n",
      "##Iteration 48\n",
      "####solve alpha and beta (E step)\n",
      "####normalize (M step)####\n"
     ]
    },
    {
     "name": "stdout",
     "output_type": "stream",
     "text": [
      "[1] 0.0003555847\n"
     ]
    },
    {
     "name": "stderr",
     "output_type": "stream",
     "text": [
      "##########################\n",
      "##Iteration 49\n",
      "####solve alpha and beta (E step)\n",
      "####normalize (M step)####\n"
     ]
    },
    {
     "name": "stdout",
     "output_type": "stream",
     "text": [
      "[1] 0.0003326588\n"
     ]
    },
    {
     "name": "stderr",
     "output_type": "stream",
     "text": [
      "##########################\n",
      "##Iteration 50\n",
      "####solve alpha and beta (E step)\n",
      "####normalize (M step)####\n"
     ]
    },
    {
     "name": "stdout",
     "output_type": "stream",
     "text": [
      "[1] 0.0004178564\n"
     ]
    },
    {
     "name": "stderr",
     "output_type": "stream",
     "text": [
      "##########################\n",
      "##Iteration 51\n",
      "####solve alpha and beta (E step)\n",
      "####normalize (M step)####\n"
     ]
    },
    {
     "name": "stdout",
     "output_type": "stream",
     "text": [
      "[1] 0.0003436784\n"
     ]
    },
    {
     "name": "stderr",
     "output_type": "stream",
     "text": [
      "##########################\n",
      "##Iteration 52\n",
      "####solve alpha and beta (E step)\n",
      "####normalize (M step)####\n"
     ]
    },
    {
     "name": "stdout",
     "output_type": "stream",
     "text": [
      "[1] 0.000555618\n"
     ]
    },
    {
     "name": "stderr",
     "output_type": "stream",
     "text": [
      "##########################\n",
      "##Iteration 53\n",
      "####solve alpha and beta (E step)\n"
     ]
    }
   ],
   "source": [
    "counts.da <- input.da[-1,]\n",
    "colnames(counts.da) <- as.character(input.da[1,])\n",
    "res.da <- EM(dat=counts.da,meta=metadata.da, dev=10, refSp = 4,  verbose=TRUE,\n",
    "          min_iter=50, max_iter=100, epsilon = 0.5, \n",
    "          scaling = 10000, ncpu=4, seed=0)"
   ]
  },
  {
   "cell_type": "markdown",
   "metadata": {},
   "source": [
    "### Individual M3"
   ]
  },
  {
   "cell_type": "code",
   "execution_count": 5,
   "metadata": {
    "collapsed": false,
    "scrolled": true
   },
   "outputs": [
    {
     "name": "stderr",
     "output_type": "stream",
     "text": [
      "Preprocessing data ...\n",
      "##Iteration 1\n",
      "####solve alpha and beta (E step)\n",
      "####normalize (M step)####\n"
     ]
    },
    {
     "name": "stdout",
     "output_type": "stream",
     "text": [
      "[1] 0.03665556\n"
     ]
    },
    {
     "name": "stderr",
     "output_type": "stream",
     "text": [
      "##########################\n",
      "##Iteration 2\n",
      "####solve alpha and beta (E step)\n",
      "####normalize (M step)####\n"
     ]
    },
    {
     "name": "stdout",
     "output_type": "stream",
     "text": [
      "[1] 0.0282835\n"
     ]
    },
    {
     "name": "stderr",
     "output_type": "stream",
     "text": [
      "##########################\n",
      "##Iteration 3\n",
      "####solve alpha and beta (E step)\n",
      "####normalize (M step)####\n"
     ]
    },
    {
     "name": "stdout",
     "output_type": "stream",
     "text": [
      "[1] 0.02610599\n"
     ]
    },
    {
     "name": "stderr",
     "output_type": "stream",
     "text": [
      "##########################\n",
      "##Iteration 4\n",
      "####solve alpha and beta (E step)\n",
      "####normalize (M step)####\n"
     ]
    },
    {
     "name": "stdout",
     "output_type": "stream",
     "text": [
      "[1] 0.02559728\n"
     ]
    },
    {
     "name": "stderr",
     "output_type": "stream",
     "text": [
      "##########################\n",
      "##Iteration 5\n",
      "####solve alpha and beta (E step)\n",
      "####normalize (M step)####\n"
     ]
    },
    {
     "name": "stdout",
     "output_type": "stream",
     "text": [
      "[1] 0.0254319\n"
     ]
    },
    {
     "name": "stderr",
     "output_type": "stream",
     "text": [
      "##########################\n",
      "##Iteration 6\n",
      "####solve alpha and beta (E step)\n",
      "####normalize (M step)####\n"
     ]
    },
    {
     "name": "stdout",
     "output_type": "stream",
     "text": [
      "[1] 0.02525233\n"
     ]
    },
    {
     "name": "stderr",
     "output_type": "stream",
     "text": [
      "##########################\n",
      "##Iteration 7\n",
      "####solve alpha and beta (E step)\n",
      "####normalize (M step)####\n"
     ]
    },
    {
     "name": "stdout",
     "output_type": "stream",
     "text": [
      "[1] 0.02518454\n"
     ]
    },
    {
     "name": "stderr",
     "output_type": "stream",
     "text": [
      "##########################\n",
      "##Iteration 8\n",
      "####solve alpha and beta (E step)\n",
      "####normalize (M step)####\n"
     ]
    },
    {
     "name": "stdout",
     "output_type": "stream",
     "text": [
      "[1] 0.02520555\n"
     ]
    },
    {
     "name": "stderr",
     "output_type": "stream",
     "text": [
      "##########################\n",
      "##Iteration 9\n",
      "####solve alpha and beta (E step)\n",
      "####normalize (M step)####\n"
     ]
    },
    {
     "name": "stdout",
     "output_type": "stream",
     "text": [
      "[1] 0.02537396\n"
     ]
    },
    {
     "name": "stderr",
     "output_type": "stream",
     "text": [
      "##########################\n",
      "##Iteration 10\n",
      "####solve alpha and beta (E step)\n",
      "####normalize (M step)####\n"
     ]
    },
    {
     "name": "stdout",
     "output_type": "stream",
     "text": [
      "[1] 0.02541129\n"
     ]
    },
    {
     "name": "stderr",
     "output_type": "stream",
     "text": [
      "##########################\n",
      "##Iteration 11\n",
      "####solve alpha and beta (E step)\n",
      "####normalize (M step)####\n"
     ]
    },
    {
     "name": "stdout",
     "output_type": "stream",
     "text": [
      "[1] 0.02547658\n"
     ]
    },
    {
     "name": "stderr",
     "output_type": "stream",
     "text": [
      "##########################\n",
      "##Iteration 12\n",
      "####solve alpha and beta (E step)\n",
      "####normalize (M step)####\n"
     ]
    },
    {
     "name": "stdout",
     "output_type": "stream",
     "text": [
      "[1] 0.02545824\n"
     ]
    },
    {
     "name": "stderr",
     "output_type": "stream",
     "text": [
      "##########################\n",
      "##Iteration 13\n",
      "####solve alpha and beta (E step)\n",
      "####normalize (M step)####\n"
     ]
    },
    {
     "name": "stdout",
     "output_type": "stream",
     "text": [
      "[1] 0.02562904\n"
     ]
    },
    {
     "name": "stderr",
     "output_type": "stream",
     "text": [
      "##########################\n",
      "##Iteration 14\n",
      "####solve alpha and beta (E step)\n",
      "####normalize (M step)####\n"
     ]
    },
    {
     "name": "stdout",
     "output_type": "stream",
     "text": [
      "[1] 0.02560262\n"
     ]
    },
    {
     "name": "stderr",
     "output_type": "stream",
     "text": [
      "##########################\n",
      "##Iteration 15\n",
      "####solve alpha and beta (E step)\n",
      "####normalize (M step)####\n"
     ]
    },
    {
     "name": "stdout",
     "output_type": "stream",
     "text": [
      "[1] 0.02555286\n"
     ]
    },
    {
     "name": "stderr",
     "output_type": "stream",
     "text": [
      "##########################\n",
      "##Iteration 16\n",
      "####solve alpha and beta (E step)\n",
      "####normalize (M step)####\n"
     ]
    },
    {
     "name": "stdout",
     "output_type": "stream",
     "text": [
      "[1] 0.02561372\n"
     ]
    },
    {
     "name": "stderr",
     "output_type": "stream",
     "text": [
      "##########################\n",
      "##Iteration 17\n",
      "####solve alpha and beta (E step)\n",
      "####normalize (M step)####\n"
     ]
    },
    {
     "name": "stdout",
     "output_type": "stream",
     "text": [
      "[1] 0.02547616\n"
     ]
    },
    {
     "name": "stderr",
     "output_type": "stream",
     "text": [
      "##########################\n",
      "##Iteration 18\n",
      "####solve alpha and beta (E step)\n",
      "####normalize (M step)####\n"
     ]
    },
    {
     "name": "stdout",
     "output_type": "stream",
     "text": [
      "[1] 0.02552609\n"
     ]
    },
    {
     "name": "stderr",
     "output_type": "stream",
     "text": [
      "##########################\n",
      "##Iteration 19\n",
      "####solve alpha and beta (E step)\n",
      "####normalize (M step)####\n"
     ]
    },
    {
     "name": "stdout",
     "output_type": "stream",
     "text": [
      "[1] 0.02562336\n"
     ]
    },
    {
     "name": "stderr",
     "output_type": "stream",
     "text": [
      "##########################\n",
      "##Iteration 20\n",
      "####solve alpha and beta (E step)\n",
      "####normalize (M step)####\n"
     ]
    },
    {
     "name": "stdout",
     "output_type": "stream",
     "text": [
      "[1] 0.02549924\n"
     ]
    },
    {
     "name": "stderr",
     "output_type": "stream",
     "text": [
      "##########################\n",
      "##Iteration 21\n",
      "####solve alpha and beta (E step)\n",
      "####normalize (M step)####\n"
     ]
    },
    {
     "name": "stdout",
     "output_type": "stream",
     "text": [
      "[1] 0.02562267\n"
     ]
    },
    {
     "name": "stderr",
     "output_type": "stream",
     "text": [
      "##########################\n",
      "##Iteration 22\n",
      "####solve alpha and beta (E step)\n",
      "####normalize (M step)####\n"
     ]
    },
    {
     "name": "stdout",
     "output_type": "stream",
     "text": [
      "[1] 0.02547803\n"
     ]
    },
    {
     "name": "stderr",
     "output_type": "stream",
     "text": [
      "##########################\n",
      "##Iteration 23\n",
      "####solve alpha and beta (E step)\n",
      "####normalize (M step)####\n"
     ]
    },
    {
     "name": "stdout",
     "output_type": "stream",
     "text": [
      "[1] 0.02562861\n"
     ]
    },
    {
     "name": "stderr",
     "output_type": "stream",
     "text": [
      "##########################\n",
      "##Iteration 24\n",
      "####solve alpha and beta (E step)\n",
      "####normalize (M step)####\n"
     ]
    },
    {
     "name": "stdout",
     "output_type": "stream",
     "text": [
      "[1] 0.02567195\n"
     ]
    },
    {
     "name": "stderr",
     "output_type": "stream",
     "text": [
      "##########################\n",
      "##Iteration 25\n",
      "####solve alpha and beta (E step)\n",
      "####normalize (M step)####\n"
     ]
    },
    {
     "name": "stdout",
     "output_type": "stream",
     "text": [
      "[1] 0.02556955\n"
     ]
    },
    {
     "name": "stderr",
     "output_type": "stream",
     "text": [
      "##########################\n",
      "##Iteration 26\n",
      "####solve alpha and beta (E step)\n",
      "####normalize (M step)####\n"
     ]
    },
    {
     "name": "stdout",
     "output_type": "stream",
     "text": [
      "[1] 0.02562703\n"
     ]
    },
    {
     "name": "stderr",
     "output_type": "stream",
     "text": [
      "##########################\n",
      "##Iteration 27\n",
      "####solve alpha and beta (E step)\n",
      "####normalize (M step)####\n"
     ]
    },
    {
     "name": "stdout",
     "output_type": "stream",
     "text": [
      "[1] 0.02559838\n"
     ]
    },
    {
     "name": "stderr",
     "output_type": "stream",
     "text": [
      "##########################\n",
      "##Iteration 28\n",
      "####solve alpha and beta (E step)\n",
      "####normalize (M step)####\n"
     ]
    },
    {
     "name": "stdout",
     "output_type": "stream",
     "text": [
      "[1] 0.02568537\n"
     ]
    },
    {
     "name": "stderr",
     "output_type": "stream",
     "text": [
      "##########################\n",
      "##Iteration 29\n",
      "####solve alpha and beta (E step)\n",
      "####normalize (M step)####\n"
     ]
    },
    {
     "name": "stdout",
     "output_type": "stream",
     "text": [
      "[1] 0.02545869\n"
     ]
    },
    {
     "name": "stderr",
     "output_type": "stream",
     "text": [
      "##########################\n",
      "##Iteration 30\n",
      "####solve alpha and beta (E step)\n",
      "####normalize (M step)####\n"
     ]
    },
    {
     "name": "stdout",
     "output_type": "stream",
     "text": [
      "[1] 0.02577491\n"
     ]
    },
    {
     "name": "stderr",
     "output_type": "stream",
     "text": [
      "##########################\n",
      "##Iteration 31\n",
      "####solve alpha and beta (E step)\n",
      "####normalize (M step)####\n"
     ]
    },
    {
     "name": "stdout",
     "output_type": "stream",
     "text": [
      "[1] 0.02580279\n"
     ]
    },
    {
     "name": "stderr",
     "output_type": "stream",
     "text": [
      "##########################\n",
      "##Iteration 32\n",
      "####solve alpha and beta (E step)\n",
      "####normalize (M step)####\n"
     ]
    },
    {
     "name": "stdout",
     "output_type": "stream",
     "text": [
      "[1] 0.02572742\n"
     ]
    },
    {
     "name": "stderr",
     "output_type": "stream",
     "text": [
      "##########################\n",
      "##Iteration 33\n",
      "####solve alpha and beta (E step)\n",
      "####normalize (M step)####\n"
     ]
    },
    {
     "name": "stdout",
     "output_type": "stream",
     "text": [
      "[1] 0.02589275\n"
     ]
    },
    {
     "name": "stderr",
     "output_type": "stream",
     "text": [
      "##########################\n",
      "##Iteration 34\n",
      "####solve alpha and beta (E step)\n",
      "####normalize (M step)####\n"
     ]
    },
    {
     "name": "stdout",
     "output_type": "stream",
     "text": [
      "[1] 0.0257428\n"
     ]
    },
    {
     "name": "stderr",
     "output_type": "stream",
     "text": [
      "##########################\n",
      "##Iteration 35\n",
      "####solve alpha and beta (E step)\n",
      "####normalize (M step)####\n"
     ]
    },
    {
     "name": "stdout",
     "output_type": "stream",
     "text": [
      "[1] 0.02585262\n"
     ]
    },
    {
     "name": "stderr",
     "output_type": "stream",
     "text": [
      "##########################\n",
      "##Iteration 36\n",
      "####solve alpha and beta (E step)\n",
      "####normalize (M step)####\n"
     ]
    },
    {
     "name": "stdout",
     "output_type": "stream",
     "text": [
      "[1] 0.02590693\n"
     ]
    },
    {
     "name": "stderr",
     "output_type": "stream",
     "text": [
      "##########################\n",
      "##Iteration 37\n",
      "####solve alpha and beta (E step)\n",
      "####normalize (M step)####\n"
     ]
    },
    {
     "name": "stdout",
     "output_type": "stream",
     "text": [
      "[1] 0.02602459\n"
     ]
    },
    {
     "name": "stderr",
     "output_type": "stream",
     "text": [
      "##########################\n",
      "##Iteration 38\n",
      "####solve alpha and beta (E step)\n",
      "####normalize (M step)####\n"
     ]
    },
    {
     "name": "stdout",
     "output_type": "stream",
     "text": [
      "[1] 0.02604743\n"
     ]
    },
    {
     "name": "stderr",
     "output_type": "stream",
     "text": [
      "##########################\n",
      "##Iteration 39\n",
      "####solve alpha and beta (E step)\n",
      "####normalize (M step)####\n"
     ]
    },
    {
     "name": "stdout",
     "output_type": "stream",
     "text": [
      "[1] 0.02609833\n"
     ]
    },
    {
     "name": "stderr",
     "output_type": "stream",
     "text": [
      "##########################\n",
      "##Iteration 40\n",
      "####solve alpha and beta (E step)\n",
      "####normalize (M step)####\n"
     ]
    },
    {
     "name": "stdout",
     "output_type": "stream",
     "text": [
      "[1] 0.02607699\n"
     ]
    },
    {
     "name": "stderr",
     "output_type": "stream",
     "text": [
      "##########################\n",
      "##Iteration 41\n",
      "####solve alpha and beta (E step)\n",
      "####normalize (M step)####\n"
     ]
    },
    {
     "name": "stdout",
     "output_type": "stream",
     "text": [
      "[1] 0.02630651\n"
     ]
    },
    {
     "name": "stderr",
     "output_type": "stream",
     "text": [
      "##########################\n",
      "##Iteration 42\n",
      "####solve alpha and beta (E step)\n",
      "####normalize (M step)####\n"
     ]
    },
    {
     "name": "stdout",
     "output_type": "stream",
     "text": [
      "[1] 0.0262922\n"
     ]
    },
    {
     "name": "stderr",
     "output_type": "stream",
     "text": [
      "##########################\n",
      "##Iteration 43\n",
      "####solve alpha and beta (E step)\n",
      "####normalize (M step)####\n"
     ]
    },
    {
     "name": "stdout",
     "output_type": "stream",
     "text": [
      "[1] 0.02588745\n"
     ]
    },
    {
     "name": "stderr",
     "output_type": "stream",
     "text": [
      "##########################\n",
      "##Iteration 44\n",
      "####solve alpha and beta (E step)\n",
      "####normalize (M step)####\n"
     ]
    },
    {
     "name": "stdout",
     "output_type": "stream",
     "text": [
      "[1] 0.02620218\n"
     ]
    },
    {
     "name": "stderr",
     "output_type": "stream",
     "text": [
      "##########################\n",
      "##Iteration 45\n",
      "####solve alpha and beta (E step)\n",
      "####normalize (M step)####\n"
     ]
    },
    {
     "name": "stdout",
     "output_type": "stream",
     "text": [
      "[1] 0.02601742\n"
     ]
    },
    {
     "name": "stderr",
     "output_type": "stream",
     "text": [
      "##########################\n",
      "##Iteration 46\n",
      "####solve alpha and beta (E step)\n",
      "####normalize (M step)####\n"
     ]
    },
    {
     "name": "stdout",
     "output_type": "stream",
     "text": [
      "[1] 0.02602834\n"
     ]
    },
    {
     "name": "stderr",
     "output_type": "stream",
     "text": [
      "##########################\n",
      "##Iteration 47\n",
      "####solve alpha and beta (E step)\n",
      "####normalize (M step)####\n"
     ]
    },
    {
     "name": "stdout",
     "output_type": "stream",
     "text": [
      "[1] 0.0259593\n"
     ]
    },
    {
     "name": "stderr",
     "output_type": "stream",
     "text": [
      "##########################\n",
      "##Iteration 48\n",
      "####solve alpha and beta (E step)\n",
      "####normalize (M step)####\n"
     ]
    },
    {
     "name": "stdout",
     "output_type": "stream",
     "text": [
      "[1] 0.02597359\n"
     ]
    },
    {
     "name": "stderr",
     "output_type": "stream",
     "text": [
      "##########################\n",
      "##Iteration 49\n",
      "####solve alpha and beta (E step)\n",
      "####normalize (M step)####\n"
     ]
    },
    {
     "name": "stdout",
     "output_type": "stream",
     "text": [
      "[1] 0.02592227\n"
     ]
    },
    {
     "name": "stderr",
     "output_type": "stream",
     "text": [
      "##########################\n",
      "##Iteration 50\n",
      "####solve alpha and beta (E step)\n",
      "####normalize (M step)####\n"
     ]
    },
    {
     "name": "stdout",
     "output_type": "stream",
     "text": [
      "[1] 0.02630135\n"
     ]
    },
    {
     "name": "stderr",
     "output_type": "stream",
     "text": [
      "##########################\n",
      "##Iteration 51\n",
      "####solve alpha and beta (E step)\n",
      "####normalize (M step)####\n"
     ]
    },
    {
     "name": "stdout",
     "output_type": "stream",
     "text": [
      "[1] 0.02606705\n"
     ]
    },
    {
     "name": "stderr",
     "output_type": "stream",
     "text": [
      "##########################\n",
      "##Iteration 52\n",
      "####solve alpha and beta (E step)\n",
      "####normalize (M step)####\n"
     ]
    },
    {
     "name": "stdout",
     "output_type": "stream",
     "text": [
      "[1] 0.02636153\n"
     ]
    },
    {
     "name": "stderr",
     "output_type": "stream",
     "text": [
      "##########################\n",
      "##Iteration 53\n",
      "####solve alpha and beta (E step)\n",
      "####normalize (M step)####\n"
     ]
    },
    {
     "name": "stdout",
     "output_type": "stream",
     "text": [
      "[1] 0.02620276\n"
     ]
    },
    {
     "name": "stderr",
     "output_type": "stream",
     "text": [
      "##########################\n",
      "##Iteration 54\n",
      "####solve alpha and beta (E step)\n",
      "####normalize (M step)####\n"
     ]
    },
    {
     "name": "stdout",
     "output_type": "stream",
     "text": [
      "[1] 0.02629819\n"
     ]
    },
    {
     "name": "stderr",
     "output_type": "stream",
     "text": [
      "##########################\n",
      "##Iteration 55\n",
      "####solve alpha and beta (E step)\n",
      "####normalize (M step)####\n"
     ]
    },
    {
     "name": "stdout",
     "output_type": "stream",
     "text": [
      "[1] 0.02629145\n"
     ]
    },
    {
     "name": "stderr",
     "output_type": "stream",
     "text": [
      "##########################\n",
      "##Iteration 56\n",
      "####solve alpha and beta (E step)\n",
      "####normalize (M step)####\n"
     ]
    },
    {
     "name": "stdout",
     "output_type": "stream",
     "text": [
      "[1] 0.02623017\n"
     ]
    },
    {
     "name": "stderr",
     "output_type": "stream",
     "text": [
      "##########################\n",
      "##Iteration 57\n",
      "####solve alpha and beta (E step)\n",
      "####normalize (M step)####\n"
     ]
    },
    {
     "name": "stdout",
     "output_type": "stream",
     "text": [
      "[1] 0.02641411\n"
     ]
    },
    {
     "name": "stderr",
     "output_type": "stream",
     "text": [
      "##########################\n",
      "##Iteration 58\n",
      "####solve alpha and beta (E step)\n",
      "####normalize (M step)####\n"
     ]
    },
    {
     "name": "stdout",
     "output_type": "stream",
     "text": [
      "[1] 0.02623246\n"
     ]
    },
    {
     "name": "stderr",
     "output_type": "stream",
     "text": [
      "##########################\n",
      "##Iteration 59\n",
      "####solve alpha and beta (E step)\n",
      "####normalize (M step)####\n"
     ]
    },
    {
     "name": "stdout",
     "output_type": "stream",
     "text": [
      "[1] 0.02641207\n"
     ]
    },
    {
     "name": "stderr",
     "output_type": "stream",
     "text": [
      "##########################\n",
      "##Iteration 60\n",
      "####solve alpha and beta (E step)\n",
      "####normalize (M step)####\n"
     ]
    },
    {
     "name": "stdout",
     "output_type": "stream",
     "text": [
      "[1] 0.02637427\n"
     ]
    },
    {
     "name": "stderr",
     "output_type": "stream",
     "text": [
      "##########################\n",
      "##Iteration 61\n",
      "####solve alpha and beta (E step)\n",
      "####normalize (M step)####\n"
     ]
    },
    {
     "name": "stdout",
     "output_type": "stream",
     "text": [
      "[1] 0.0264018\n"
     ]
    },
    {
     "name": "stderr",
     "output_type": "stream",
     "text": [
      "##########################\n",
      "##Iteration 62\n",
      "####solve alpha and beta (E step)\n",
      "####normalize (M step)####\n"
     ]
    },
    {
     "name": "stdout",
     "output_type": "stream",
     "text": [
      "[1] 0.02637606\n"
     ]
    },
    {
     "name": "stderr",
     "output_type": "stream",
     "text": [
      "##########################\n",
      "##Iteration 63\n",
      "####solve alpha and beta (E step)\n",
      "####normalize (M step)####\n"
     ]
    },
    {
     "name": "stdout",
     "output_type": "stream",
     "text": [
      "[1] 0.02630564\n"
     ]
    },
    {
     "name": "stderr",
     "output_type": "stream",
     "text": [
      "##########################\n",
      "##Iteration 64\n",
      "####solve alpha and beta (E step)\n",
      "####normalize (M step)####\n"
     ]
    },
    {
     "name": "stdout",
     "output_type": "stream",
     "text": [
      "[1] 0.02648817\n"
     ]
    },
    {
     "name": "stderr",
     "output_type": "stream",
     "text": [
      "##########################\n",
      "##Iteration 65\n",
      "####solve alpha and beta (E step)\n",
      "####normalize (M step)####\n"
     ]
    },
    {
     "name": "stdout",
     "output_type": "stream",
     "text": [
      "[1] 0.02632204\n"
     ]
    },
    {
     "name": "stderr",
     "output_type": "stream",
     "text": [
      "##########################\n",
      "##Iteration 66\n",
      "####solve alpha and beta (E step)\n",
      "####normalize (M step)####\n"
     ]
    },
    {
     "name": "stdout",
     "output_type": "stream",
     "text": [
      "[1] 0.02654019\n"
     ]
    },
    {
     "name": "stderr",
     "output_type": "stream",
     "text": [
      "##########################\n",
      "##Iteration 67\n",
      "####solve alpha and beta (E step)\n",
      "####normalize (M step)####\n"
     ]
    },
    {
     "name": "stdout",
     "output_type": "stream",
     "text": [
      "[1] 0.02628329\n"
     ]
    },
    {
     "name": "stderr",
     "output_type": "stream",
     "text": [
      "##########################\n",
      "##Iteration 68\n",
      "####solve alpha and beta (E step)\n",
      "####normalize (M step)####\n"
     ]
    },
    {
     "name": "stdout",
     "output_type": "stream",
     "text": [
      "[1] 0.02676351\n"
     ]
    },
    {
     "name": "stderr",
     "output_type": "stream",
     "text": [
      "##########################\n",
      "##Iteration 69\n",
      "####solve alpha and beta (E step)\n",
      "####normalize (M step)####\n"
     ]
    },
    {
     "name": "stdout",
     "output_type": "stream",
     "text": [
      "[1] 0.0264934\n"
     ]
    },
    {
     "name": "stderr",
     "output_type": "stream",
     "text": [
      "##########################\n",
      "##Iteration 70\n",
      "####solve alpha and beta (E step)\n",
      "####normalize (M step)####\n"
     ]
    },
    {
     "name": "stdout",
     "output_type": "stream",
     "text": [
      "[1] 0.02659531\n"
     ]
    },
    {
     "name": "stderr",
     "output_type": "stream",
     "text": [
      "##########################\n",
      "##Iteration 71\n",
      "####solve alpha and beta (E step)\n",
      "####normalize (M step)####\n"
     ]
    },
    {
     "name": "stdout",
     "output_type": "stream",
     "text": [
      "[1] 0.02674362\n"
     ]
    },
    {
     "name": "stderr",
     "output_type": "stream",
     "text": [
      "##########################\n",
      "##Iteration 72\n",
      "####solve alpha and beta (E step)\n",
      "####normalize (M step)####\n"
     ]
    },
    {
     "name": "stdout",
     "output_type": "stream",
     "text": [
      "[1] 0.026507\n"
     ]
    },
    {
     "name": "stderr",
     "output_type": "stream",
     "text": [
      "##########################\n",
      "##Iteration 73\n",
      "####solve alpha and beta (E step)\n",
      "####normalize (M step)####\n"
     ]
    },
    {
     "name": "stdout",
     "output_type": "stream",
     "text": [
      "[1] 0.02643293\n"
     ]
    },
    {
     "name": "stderr",
     "output_type": "stream",
     "text": [
      "##########################\n",
      "##Iteration 74\n",
      "####solve alpha and beta (E step)\n",
      "####normalize (M step)####\n"
     ]
    },
    {
     "name": "stdout",
     "output_type": "stream",
     "text": [
      "[1] 0.02682899\n"
     ]
    },
    {
     "name": "stderr",
     "output_type": "stream",
     "text": [
      "##########################\n",
      "##Iteration 75\n",
      "####solve alpha and beta (E step)\n",
      "####normalize (M step)####\n"
     ]
    },
    {
     "name": "stdout",
     "output_type": "stream",
     "text": [
      "[1] 0.02652398\n"
     ]
    },
    {
     "name": "stderr",
     "output_type": "stream",
     "text": [
      "##########################\n",
      "##Iteration 76\n",
      "####solve alpha and beta (E step)\n",
      "####normalize (M step)####\n"
     ]
    },
    {
     "name": "stdout",
     "output_type": "stream",
     "text": [
      "[1] 0.02656367\n"
     ]
    },
    {
     "name": "stderr",
     "output_type": "stream",
     "text": [
      "##########################\n",
      "##Iteration 77\n",
      "####solve alpha and beta (E step)\n",
      "####normalize (M step)####\n"
     ]
    },
    {
     "name": "stdout",
     "output_type": "stream",
     "text": [
      "[1] 0.02695958\n"
     ]
    },
    {
     "name": "stderr",
     "output_type": "stream",
     "text": [
      "##########################\n",
      "##Iteration 78\n",
      "####solve alpha and beta (E step)\n",
      "####normalize (M step)####\n"
     ]
    },
    {
     "name": "stdout",
     "output_type": "stream",
     "text": [
      "[1] 0.02652067\n"
     ]
    },
    {
     "name": "stderr",
     "output_type": "stream",
     "text": [
      "##########################\n",
      "##Iteration 79\n",
      "####solve alpha and beta (E step)\n",
      "####normalize (M step)####\n"
     ]
    },
    {
     "name": "stdout",
     "output_type": "stream",
     "text": [
      "[1] 0.02685021\n"
     ]
    },
    {
     "name": "stderr",
     "output_type": "stream",
     "text": [
      "##########################\n",
      "##Iteration 80\n",
      "####solve alpha and beta (E step)\n",
      "####normalize (M step)####\n"
     ]
    },
    {
     "name": "stdout",
     "output_type": "stream",
     "text": [
      "[1] 0.02658004\n"
     ]
    },
    {
     "name": "stderr",
     "output_type": "stream",
     "text": [
      "##########################\n",
      "##Iteration 81\n",
      "####solve alpha and beta (E step)\n",
      "####normalize (M step)####\n"
     ]
    },
    {
     "name": "stdout",
     "output_type": "stream",
     "text": [
      "[1] 0.02698242\n"
     ]
    },
    {
     "name": "stderr",
     "output_type": "stream",
     "text": [
      "##########################\n",
      "##Iteration 82\n",
      "####solve alpha and beta (E step)\n",
      "####normalize (M step)####\n"
     ]
    },
    {
     "name": "stdout",
     "output_type": "stream",
     "text": [
      "[1] 0.02682092\n"
     ]
    },
    {
     "name": "stderr",
     "output_type": "stream",
     "text": [
      "##########################\n",
      "##Iteration 83\n",
      "####solve alpha and beta (E step)\n",
      "####normalize (M step)####\n"
     ]
    },
    {
     "name": "stdout",
     "output_type": "stream",
     "text": [
      "[1] 0.02699825\n"
     ]
    },
    {
     "name": "stderr",
     "output_type": "stream",
     "text": [
      "##########################\n",
      "##Iteration 84\n",
      "####solve alpha and beta (E step)\n",
      "####normalize (M step)####\n"
     ]
    },
    {
     "name": "stdout",
     "output_type": "stream",
     "text": [
      "[1] 0.02683815\n"
     ]
    },
    {
     "name": "stderr",
     "output_type": "stream",
     "text": [
      "##########################\n",
      "##Iteration 85\n",
      "####solve alpha and beta (E step)\n",
      "####normalize (M step)####\n"
     ]
    },
    {
     "name": "stdout",
     "output_type": "stream",
     "text": [
      "[1] 0.02706064\n"
     ]
    },
    {
     "name": "stderr",
     "output_type": "stream",
     "text": [
      "##########################\n",
      "##Iteration 86\n",
      "####solve alpha and beta (E step)\n",
      "####normalize (M step)####\n"
     ]
    },
    {
     "name": "stdout",
     "output_type": "stream",
     "text": [
      "[1] 0.0270508\n"
     ]
    },
    {
     "name": "stderr",
     "output_type": "stream",
     "text": [
      "##########################\n",
      "##Iteration 87\n",
      "####solve alpha and beta (E step)\n",
      "####normalize (M step)####\n"
     ]
    },
    {
     "name": "stdout",
     "output_type": "stream",
     "text": [
      "[1] 0.0270326\n"
     ]
    },
    {
     "name": "stderr",
     "output_type": "stream",
     "text": [
      "##########################\n",
      "##Iteration 88\n",
      "####solve alpha and beta (E step)\n",
      "####normalize (M step)####\n"
     ]
    },
    {
     "name": "stdout",
     "output_type": "stream",
     "text": [
      "[1] 0.02708118\n"
     ]
    },
    {
     "name": "stderr",
     "output_type": "stream",
     "text": [
      "##########################\n",
      "##Iteration 89\n",
      "####solve alpha and beta (E step)\n",
      "####normalize (M step)####\n"
     ]
    },
    {
     "name": "stdout",
     "output_type": "stream",
     "text": [
      "[1] 0.02713022\n"
     ]
    },
    {
     "name": "stderr",
     "output_type": "stream",
     "text": [
      "##########################\n",
      "##Iteration 90\n",
      "####solve alpha and beta (E step)\n",
      "####normalize (M step)####\n"
     ]
    },
    {
     "name": "stdout",
     "output_type": "stream",
     "text": [
      "[1] 0.0271718\n"
     ]
    },
    {
     "name": "stderr",
     "output_type": "stream",
     "text": [
      "##########################\n",
      "##Iteration 91\n",
      "####solve alpha and beta (E step)\n",
      "####normalize (M step)####\n"
     ]
    },
    {
     "name": "stdout",
     "output_type": "stream",
     "text": [
      "[1] 0.02730089\n"
     ]
    },
    {
     "name": "stderr",
     "output_type": "stream",
     "text": [
      "##########################\n",
      "##Iteration 92\n",
      "####solve alpha and beta (E step)\n",
      "####normalize (M step)####\n"
     ]
    },
    {
     "name": "stdout",
     "output_type": "stream",
     "text": [
      "[1] 0.02717991\n"
     ]
    },
    {
     "name": "stderr",
     "output_type": "stream",
     "text": [
      "##########################\n",
      "##Iteration 93\n",
      "####solve alpha and beta (E step)\n",
      "####normalize (M step)####\n"
     ]
    },
    {
     "name": "stdout",
     "output_type": "stream",
     "text": [
      "[1] 0.02728071\n"
     ]
    },
    {
     "name": "stderr",
     "output_type": "stream",
     "text": [
      "##########################\n",
      "##Iteration 94\n",
      "####solve alpha and beta (E step)\n",
      "####normalize (M step)####\n"
     ]
    },
    {
     "name": "stdout",
     "output_type": "stream",
     "text": [
      "[1] 0.02724712\n"
     ]
    },
    {
     "name": "stderr",
     "output_type": "stream",
     "text": [
      "##########################\n",
      "##Iteration 95\n",
      "####solve alpha and beta (E step)\n",
      "####normalize (M step)####\n"
     ]
    },
    {
     "name": "stdout",
     "output_type": "stream",
     "text": [
      "[1] 0.0276082\n"
     ]
    },
    {
     "name": "stderr",
     "output_type": "stream",
     "text": [
      "##########################\n",
      "##Iteration 96\n",
      "####solve alpha and beta (E step)\n",
      "####normalize (M step)####\n"
     ]
    },
    {
     "name": "stdout",
     "output_type": "stream",
     "text": [
      "[1] 0.02738184\n"
     ]
    },
    {
     "name": "stderr",
     "output_type": "stream",
     "text": [
      "##########################\n",
      "##Iteration 97\n",
      "####solve alpha and beta (E step)\n",
      "####normalize (M step)####\n"
     ]
    },
    {
     "name": "stdout",
     "output_type": "stream",
     "text": [
      "[1] 0.02763655\n"
     ]
    },
    {
     "name": "stderr",
     "output_type": "stream",
     "text": [
      "##########################\n",
      "##Iteration 98\n",
      "####solve alpha and beta (E step)\n",
      "####normalize (M step)####\n"
     ]
    },
    {
     "name": "stdout",
     "output_type": "stream",
     "text": [
      "[1] 0.0275652\n"
     ]
    },
    {
     "name": "stderr",
     "output_type": "stream",
     "text": [
      "##########################\n",
      "##Iteration 99\n",
      "####solve alpha and beta (E step)\n",
      "####normalize (M step)####\n"
     ]
    },
    {
     "name": "stdout",
     "output_type": "stream",
     "text": [
      "[1] 0.02755019\n"
     ]
    },
    {
     "name": "stderr",
     "output_type": "stream",
     "text": [
      "##########################\n",
      "##Iteration 100\n",
      "####solve alpha and beta (E step)\n",
      "####normalize (M step)####\n"
     ]
    },
    {
     "name": "stdout",
     "output_type": "stream",
     "text": [
      "[1] 0.02759455\n"
     ]
    },
    {
     "name": "stderr",
     "output_type": "stream",
     "text": [
      "##########################\n"
     ]
    }
   ],
   "source": [
    "counts.m3 <- input.m3[-1,]\n",
    "colnames(counts.m3) <- as.character(input.m3[1,])\n",
    "res.m3 <- EM(dat=counts.m3,meta=metadata.m3, refSp = 21,  verbose=TRUE,\n",
    "          min_iter=50, max_iter=100, epsilon = 0.5, \n",
    "          scaling = 10000, ncpu=4, seed=0)"
   ]
  },
  {
   "cell_type": "markdown",
   "metadata": {},
   "source": [
    "### Individual DB"
   ]
  },
  {
   "cell_type": "code",
   "execution_count": 6,
   "metadata": {
    "collapsed": false
   },
   "outputs": [
    {
     "name": "stderr",
     "output_type": "stream",
     "text": [
      "Preprocessing data ...\n",
      "##Iteration 1\n",
      "####solve alpha and beta (E step)\n",
      "####normalize (M step)####\n"
     ]
    },
    {
     "name": "stdout",
     "output_type": "stream",
     "text": [
      "[1] 275401343\n"
     ]
    },
    {
     "name": "stderr",
     "output_type": "stream",
     "text": [
      "##########################\n",
      "##Iteration 2\n",
      "####solve alpha and beta (E step)\n",
      "####normalize (M step)####\n"
     ]
    },
    {
     "name": "stdout",
     "output_type": "stream",
     "text": [
      "[1] 0.01210394\n"
     ]
    },
    {
     "name": "stderr",
     "output_type": "stream",
     "text": [
      "##########################\n",
      "##Iteration 3\n",
      "####solve alpha and beta (E step)\n",
      "####normalize (M step)####\n"
     ]
    },
    {
     "name": "stdout",
     "output_type": "stream",
     "text": [
      "[1] 0.005905737\n"
     ]
    },
    {
     "name": "stderr",
     "output_type": "stream",
     "text": [
      "##########################\n",
      "##Iteration 4\n",
      "####solve alpha and beta (E step)\n",
      "####normalize (M step)####\n"
     ]
    },
    {
     "name": "stdout",
     "output_type": "stream",
     "text": [
      "[1] 0.01030362\n"
     ]
    },
    {
     "name": "stderr",
     "output_type": "stream",
     "text": [
      "##########################\n",
      "##Iteration 5\n",
      "####solve alpha and beta (E step)\n",
      "####normalize (M step)####\n"
     ]
    },
    {
     "name": "stdout",
     "output_type": "stream",
     "text": [
      "[1] 0.005307191\n"
     ]
    },
    {
     "name": "stderr",
     "output_type": "stream",
     "text": [
      "##########################\n",
      "##Iteration 6\n",
      "####solve alpha and beta (E step)\n",
      "####normalize (M step)####\n"
     ]
    },
    {
     "name": "stdout",
     "output_type": "stream",
     "text": [
      "[1] 0.0076601\n"
     ]
    },
    {
     "name": "stderr",
     "output_type": "stream",
     "text": [
      "##########################\n",
      "##Iteration 7\n",
      "####solve alpha and beta (E step)\n",
      "####normalize (M step)####\n"
     ]
    },
    {
     "name": "stdout",
     "output_type": "stream",
     "text": [
      "[1] 0.0433381\n"
     ]
    },
    {
     "name": "stderr",
     "output_type": "stream",
     "text": [
      "##########################\n",
      "##Iteration 8\n",
      "####solve alpha and beta (E step)\n",
      "####normalize (M step)####\n"
     ]
    },
    {
     "name": "stdout",
     "output_type": "stream",
     "text": [
      "[1] 0.008140826\n"
     ]
    },
    {
     "name": "stderr",
     "output_type": "stream",
     "text": [
      "##########################\n",
      "##Iteration 9\n",
      "####solve alpha and beta (E step)\n",
      "####normalize (M step)####\n"
     ]
    },
    {
     "name": "stdout",
     "output_type": "stream",
     "text": [
      "[1] 0.007656435\n"
     ]
    },
    {
     "name": "stderr",
     "output_type": "stream",
     "text": [
      "##########################\n",
      "##Iteration 10\n",
      "####solve alpha and beta (E step)\n",
      "####normalize (M step)####\n"
     ]
    },
    {
     "name": "stdout",
     "output_type": "stream",
     "text": [
      "[1] 0.008741997\n"
     ]
    },
    {
     "name": "stderr",
     "output_type": "stream",
     "text": [
      "##########################\n",
      "##Iteration 11\n",
      "####solve alpha and beta (E step)\n",
      "####normalize (M step)####\n"
     ]
    },
    {
     "name": "stdout",
     "output_type": "stream",
     "text": [
      "[1] 0.00567597\n"
     ]
    },
    {
     "name": "stderr",
     "output_type": "stream",
     "text": [
      "##########################\n",
      "##Iteration 12\n",
      "####solve alpha and beta (E step)\n",
      "####normalize (M step)####\n"
     ]
    },
    {
     "name": "stdout",
     "output_type": "stream",
     "text": [
      "[1] 0.007436143\n"
     ]
    },
    {
     "name": "stderr",
     "output_type": "stream",
     "text": [
      "##########################\n",
      "##Iteration 13\n",
      "####solve alpha and beta (E step)\n",
      "####normalize (M step)####\n"
     ]
    },
    {
     "name": "stdout",
     "output_type": "stream",
     "text": [
      "[1] 0.007151821\n"
     ]
    },
    {
     "name": "stderr",
     "output_type": "stream",
     "text": [
      "##########################\n",
      "##Iteration 14\n",
      "####solve alpha and beta (E step)\n",
      "####normalize (M step)####\n"
     ]
    },
    {
     "name": "stdout",
     "output_type": "stream",
     "text": [
      "[1] 0.007377575\n"
     ]
    },
    {
     "name": "stderr",
     "output_type": "stream",
     "text": [
      "##########################\n",
      "##Iteration 15\n",
      "####solve alpha and beta (E step)\n",
      "####normalize (M step)####\n"
     ]
    },
    {
     "name": "stdout",
     "output_type": "stream",
     "text": [
      "[1] 0.008219234\n"
     ]
    },
    {
     "name": "stderr",
     "output_type": "stream",
     "text": [
      "##########################\n",
      "##Iteration 16\n",
      "####solve alpha and beta (E step)\n",
      "####normalize (M step)####\n"
     ]
    },
    {
     "name": "stdout",
     "output_type": "stream",
     "text": [
      "[1] 0.007895954\n"
     ]
    },
    {
     "name": "stderr",
     "output_type": "stream",
     "text": [
      "##########################\n",
      "##Iteration 17\n",
      "####solve alpha and beta (E step)\n",
      "####normalize (M step)####\n"
     ]
    },
    {
     "name": "stdout",
     "output_type": "stream",
     "text": [
      "[1] 0.008112222\n"
     ]
    },
    {
     "name": "stderr",
     "output_type": "stream",
     "text": [
      "##########################\n",
      "##Iteration 18\n",
      "####solve alpha and beta (E step)\n",
      "####normalize (M step)####\n"
     ]
    },
    {
     "name": "stdout",
     "output_type": "stream",
     "text": [
      "[1] 0.007944385\n"
     ]
    },
    {
     "name": "stderr",
     "output_type": "stream",
     "text": [
      "##########################\n",
      "##Iteration 19\n",
      "####solve alpha and beta (E step)\n",
      "####normalize (M step)####\n"
     ]
    },
    {
     "name": "stdout",
     "output_type": "stream",
     "text": [
      "[1] 0.007806714\n"
     ]
    },
    {
     "name": "stderr",
     "output_type": "stream",
     "text": [
      "##########################\n",
      "##Iteration 20\n",
      "####solve alpha and beta (E step)\n",
      "####normalize (M step)####\n"
     ]
    },
    {
     "name": "stdout",
     "output_type": "stream",
     "text": [
      "[1] 0.007796648\n"
     ]
    },
    {
     "name": "stderr",
     "output_type": "stream",
     "text": [
      "##########################\n",
      "##Iteration 21\n",
      "####solve alpha and beta (E step)\n",
      "####normalize (M step)####\n"
     ]
    },
    {
     "name": "stdout",
     "output_type": "stream",
     "text": [
      "[1] 0.00778815\n"
     ]
    },
    {
     "name": "stderr",
     "output_type": "stream",
     "text": [
      "##########################\n",
      "##Iteration 22\n",
      "####solve alpha and beta (E step)\n",
      "####normalize (M step)####\n"
     ]
    },
    {
     "name": "stdout",
     "output_type": "stream",
     "text": [
      "[1] 0.007976239\n"
     ]
    },
    {
     "name": "stderr",
     "output_type": "stream",
     "text": [
      "##########################\n",
      "##Iteration 23\n",
      "####solve alpha and beta (E step)\n",
      "####normalize (M step)####\n"
     ]
    },
    {
     "name": "stdout",
     "output_type": "stream",
     "text": [
      "[1] 0.007325176\n"
     ]
    },
    {
     "name": "stderr",
     "output_type": "stream",
     "text": [
      "##########################\n",
      "##Iteration 24\n",
      "####solve alpha and beta (E step)\n",
      "####normalize (M step)####\n"
     ]
    },
    {
     "name": "stdout",
     "output_type": "stream",
     "text": [
      "[1] 0.008069576\n"
     ]
    },
    {
     "name": "stderr",
     "output_type": "stream",
     "text": [
      "##########################\n",
      "##Iteration 25\n",
      "####solve alpha and beta (E step)\n",
      "####normalize (M step)####\n"
     ]
    },
    {
     "name": "stdout",
     "output_type": "stream",
     "text": [
      "[1] 0.007573592\n"
     ]
    },
    {
     "name": "stderr",
     "output_type": "stream",
     "text": [
      "##########################\n",
      "##Iteration 26\n",
      "####solve alpha and beta (E step)\n",
      "####normalize (M step)####\n"
     ]
    },
    {
     "name": "stdout",
     "output_type": "stream",
     "text": [
      "[1] 0.007581239\n"
     ]
    },
    {
     "name": "stderr",
     "output_type": "stream",
     "text": [
      "##########################\n",
      "##Iteration 27\n",
      "####solve alpha and beta (E step)\n",
      "####normalize (M step)####\n"
     ]
    },
    {
     "name": "stdout",
     "output_type": "stream",
     "text": [
      "[1] 0.008479144\n"
     ]
    },
    {
     "name": "stderr",
     "output_type": "stream",
     "text": [
      "##########################\n",
      "##Iteration 28\n",
      "####solve alpha and beta (E step)\n",
      "####normalize (M step)####\n"
     ]
    },
    {
     "name": "stdout",
     "output_type": "stream",
     "text": [
      "[1] 0.007550566\n"
     ]
    },
    {
     "name": "stderr",
     "output_type": "stream",
     "text": [
      "##########################\n",
      "##Iteration 29\n",
      "####solve alpha and beta (E step)\n",
      "####normalize (M step)####\n"
     ]
    },
    {
     "name": "stdout",
     "output_type": "stream",
     "text": [
      "[1] 0.007603151\n"
     ]
    },
    {
     "name": "stderr",
     "output_type": "stream",
     "text": [
      "##########################\n",
      "##Iteration 30\n",
      "####solve alpha and beta (E step)\n",
      "####normalize (M step)####\n"
     ]
    },
    {
     "name": "stdout",
     "output_type": "stream",
     "text": [
      "[1] 0.008743927\n"
     ]
    },
    {
     "name": "stderr",
     "output_type": "stream",
     "text": [
      "##########################\n",
      "##Iteration 31\n",
      "####solve alpha and beta (E step)\n",
      "####normalize (M step)####\n"
     ]
    },
    {
     "name": "stdout",
     "output_type": "stream",
     "text": [
      "[1] 0.008394034\n"
     ]
    },
    {
     "name": "stderr",
     "output_type": "stream",
     "text": [
      "##########################\n",
      "##Iteration 32\n",
      "####solve alpha and beta (E step)\n",
      "####normalize (M step)####\n"
     ]
    },
    {
     "name": "stdout",
     "output_type": "stream",
     "text": [
      "[1] 0.006789908\n"
     ]
    },
    {
     "name": "stderr",
     "output_type": "stream",
     "text": [
      "##########################\n",
      "##Iteration 33\n",
      "####solve alpha and beta (E step)\n",
      "####normalize (M step)####\n"
     ]
    },
    {
     "name": "stdout",
     "output_type": "stream",
     "text": [
      "[1] 0.00800655\n"
     ]
    },
    {
     "name": "stderr",
     "output_type": "stream",
     "text": [
      "##########################\n",
      "##Iteration 34\n",
      "####solve alpha and beta (E step)\n",
      "####normalize (M step)####\n"
     ]
    },
    {
     "name": "stdout",
     "output_type": "stream",
     "text": [
      "[1] 0.009113648\n"
     ]
    },
    {
     "name": "stderr",
     "output_type": "stream",
     "text": [
      "##########################\n",
      "##Iteration 35\n",
      "####solve alpha and beta (E step)\n",
      "####normalize (M step)####\n"
     ]
    },
    {
     "name": "stdout",
     "output_type": "stream",
     "text": [
      "[1] 0.006337106\n"
     ]
    },
    {
     "name": "stderr",
     "output_type": "stream",
     "text": [
      "##########################\n",
      "##Iteration 36\n",
      "####solve alpha and beta (E step)\n",
      "####normalize (M step)####\n"
     ]
    },
    {
     "name": "stdout",
     "output_type": "stream",
     "text": [
      "[1] 0.006711507\n"
     ]
    },
    {
     "name": "stderr",
     "output_type": "stream",
     "text": [
      "##########################\n",
      "##Iteration 37\n",
      "####solve alpha and beta (E step)\n",
      "####normalize (M step)####\n"
     ]
    },
    {
     "name": "stdout",
     "output_type": "stream",
     "text": [
      "[1] 0.008154993\n"
     ]
    },
    {
     "name": "stderr",
     "output_type": "stream",
     "text": [
      "##########################\n",
      "##Iteration 38\n",
      "####solve alpha and beta (E step)\n",
      "####normalize (M step)####\n"
     ]
    },
    {
     "name": "stdout",
     "output_type": "stream",
     "text": [
      "[1] 0.007740049\n"
     ]
    },
    {
     "name": "stderr",
     "output_type": "stream",
     "text": [
      "##########################\n",
      "##Iteration 39\n",
      "####solve alpha and beta (E step)\n",
      "####normalize (M step)####\n"
     ]
    },
    {
     "name": "stdout",
     "output_type": "stream",
     "text": [
      "[1] 0.008016872\n"
     ]
    },
    {
     "name": "stderr",
     "output_type": "stream",
     "text": [
      "##########################\n",
      "##Iteration 40\n",
      "####solve alpha and beta (E step)\n",
      "####normalize (M step)####\n"
     ]
    },
    {
     "name": "stdout",
     "output_type": "stream",
     "text": [
      "[1] 0.007848153\n"
     ]
    },
    {
     "name": "stderr",
     "output_type": "stream",
     "text": [
      "##########################\n",
      "##Iteration 41\n",
      "####solve alpha and beta (E step)\n",
      "####normalize (M step)####\n"
     ]
    },
    {
     "name": "stdout",
     "output_type": "stream",
     "text": [
      "[1] 0.008422912\n"
     ]
    },
    {
     "name": "stderr",
     "output_type": "stream",
     "text": [
      "##########################\n",
      "##Iteration 42\n",
      "####solve alpha and beta (E step)\n",
      "####normalize (M step)####\n"
     ]
    },
    {
     "name": "stdout",
     "output_type": "stream",
     "text": [
      "[1] 0.008242952\n"
     ]
    },
    {
     "name": "stderr",
     "output_type": "stream",
     "text": [
      "##########################\n",
      "##Iteration 43\n",
      "####solve alpha and beta (E step)\n",
      "####normalize (M step)####\n"
     ]
    },
    {
     "name": "stdout",
     "output_type": "stream",
     "text": [
      "[1] 0.006723505\n"
     ]
    },
    {
     "name": "stderr",
     "output_type": "stream",
     "text": [
      "##########################\n",
      "##Iteration 44\n",
      "####solve alpha and beta (E step)\n",
      "####normalize (M step)####\n"
     ]
    },
    {
     "name": "stdout",
     "output_type": "stream",
     "text": [
      "[1] 0.008384659\n"
     ]
    },
    {
     "name": "stderr",
     "output_type": "stream",
     "text": [
      "##########################\n",
      "##Iteration 45\n",
      "####solve alpha and beta (E step)\n",
      "####normalize (M step)####\n"
     ]
    },
    {
     "name": "stdout",
     "output_type": "stream",
     "text": [
      "[1] 0.007290867\n"
     ]
    },
    {
     "name": "stderr",
     "output_type": "stream",
     "text": [
      "##########################\n",
      "##Iteration 46\n",
      "####solve alpha and beta (E step)\n",
      "####normalize (M step)####\n"
     ]
    },
    {
     "name": "stdout",
     "output_type": "stream",
     "text": [
      "[1] 0.007317139\n"
     ]
    },
    {
     "name": "stderr",
     "output_type": "stream",
     "text": [
      "##########################\n",
      "##Iteration 47\n",
      "####solve alpha and beta (E step)\n",
      "####normalize (M step)####\n"
     ]
    },
    {
     "name": "stdout",
     "output_type": "stream",
     "text": [
      "[1] 0.008510333\n"
     ]
    },
    {
     "name": "stderr",
     "output_type": "stream",
     "text": [
      "##########################\n",
      "##Iteration 48\n",
      "####solve alpha and beta (E step)\n",
      "####normalize (M step)####\n"
     ]
    },
    {
     "name": "stdout",
     "output_type": "stream",
     "text": [
      "[1] 0.007540618\n"
     ]
    },
    {
     "name": "stderr",
     "output_type": "stream",
     "text": [
      "##########################\n",
      "##Iteration 49\n",
      "####solve alpha and beta (E step)\n",
      "####normalize (M step)####\n"
     ]
    },
    {
     "name": "stdout",
     "output_type": "stream",
     "text": [
      "[1] 0.008436338\n"
     ]
    },
    {
     "name": "stderr",
     "output_type": "stream",
     "text": [
      "##########################\n",
      "##Iteration 50\n",
      "####solve alpha and beta (E step)\n",
      "####normalize (M step)####\n"
     ]
    },
    {
     "name": "stdout",
     "output_type": "stream",
     "text": [
      "[1] 0.007062896\n"
     ]
    },
    {
     "name": "stderr",
     "output_type": "stream",
     "text": [
      "##########################\n",
      "##Iteration 51\n",
      "####solve alpha and beta (E step)\n",
      "####normalize (M step)####\n"
     ]
    },
    {
     "name": "stdout",
     "output_type": "stream",
     "text": [
      "[1] 0.008841268\n"
     ]
    },
    {
     "name": "stderr",
     "output_type": "stream",
     "text": [
      "##########################\n",
      "##Iteration 52\n",
      "####solve alpha and beta (E step)\n"
     ]
    }
   ],
   "source": [
    "counts.db <- input.db[-1,]\n",
    "colnames(counts.db) <- as.character(input.db[1,])\n",
    "res.db <- EM(dat=counts.db,meta=metadata.db, refSp = 2,  verbose=TRUE,\n",
    "          min_iter=50, max_iter=100, epsilon = 0.5, \n",
    "          scaling = 10000, ncpu=4, seed=0)"
   ]
  },
  {
   "cell_type": "markdown",
   "metadata": {},
   "source": [
    "### Individual F4"
   ]
  },
  {
   "cell_type": "code",
   "execution_count": 7,
   "metadata": {
    "collapsed": false
   },
   "outputs": [
    {
     "name": "stderr",
     "output_type": "stream",
     "text": [
      "Preprocessing data ...\n",
      "##Iteration 1\n",
      "####solve alpha and beta (E step)\n",
      "####normalize (M step)####\n"
     ]
    },
    {
     "name": "stdout",
     "output_type": "stream",
     "text": [
      "[1] 0.1457895\n"
     ]
    },
    {
     "name": "stderr",
     "output_type": "stream",
     "text": [
      "##########################\n",
      "##Iteration 2\n",
      "####solve alpha and beta (E step)\n",
      "####normalize (M step)####\n"
     ]
    },
    {
     "name": "stdout",
     "output_type": "stream",
     "text": [
      "[1] 0.01543588\n"
     ]
    },
    {
     "name": "stderr",
     "output_type": "stream",
     "text": [
      "##########################\n",
      "##Iteration 3\n",
      "####solve alpha and beta (E step)\n",
      "####normalize (M step)####\n"
     ]
    },
    {
     "name": "stdout",
     "output_type": "stream",
     "text": [
      "[1] 0.01282583\n"
     ]
    },
    {
     "name": "stderr",
     "output_type": "stream",
     "text": [
      "##########################\n",
      "##Iteration 4\n",
      "####solve alpha and beta (E step)\n",
      "####normalize (M step)####\n"
     ]
    },
    {
     "name": "stdout",
     "output_type": "stream",
     "text": [
      "[1] 0.01263809\n"
     ]
    },
    {
     "name": "stderr",
     "output_type": "stream",
     "text": [
      "##########################\n",
      "##Iteration 5\n",
      "####solve alpha and beta (E step)\n",
      "####normalize (M step)####\n"
     ]
    },
    {
     "name": "stdout",
     "output_type": "stream",
     "text": [
      "[1] 0.01251512\n"
     ]
    },
    {
     "name": "stderr",
     "output_type": "stream",
     "text": [
      "##########################\n",
      "##Iteration 6\n",
      "####solve alpha and beta (E step)\n",
      "####normalize (M step)####\n"
     ]
    },
    {
     "name": "stdout",
     "output_type": "stream",
     "text": [
      "[1] 0.01271023\n"
     ]
    },
    {
     "name": "stderr",
     "output_type": "stream",
     "text": [
      "##########################\n",
      "##Iteration 7\n",
      "####solve alpha and beta (E step)\n",
      "####normalize (M step)####\n"
     ]
    },
    {
     "name": "stdout",
     "output_type": "stream",
     "text": [
      "[1] 0.01240916\n"
     ]
    },
    {
     "name": "stderr",
     "output_type": "stream",
     "text": [
      "##########################\n",
      "##Iteration 8\n",
      "####solve alpha and beta (E step)\n",
      "####normalize (M step)####\n"
     ]
    },
    {
     "name": "stdout",
     "output_type": "stream",
     "text": [
      "[1] 0.01266045\n"
     ]
    },
    {
     "name": "stderr",
     "output_type": "stream",
     "text": [
      "##########################\n",
      "##Iteration 9\n",
      "####solve alpha and beta (E step)\n",
      "####normalize (M step)####\n"
     ]
    },
    {
     "name": "stdout",
     "output_type": "stream",
     "text": [
      "[1] 0.01209538\n"
     ]
    },
    {
     "name": "stderr",
     "output_type": "stream",
     "text": [
      "##########################\n",
      "##Iteration 10\n",
      "####solve alpha and beta (E step)\n",
      "####normalize (M step)####\n"
     ]
    },
    {
     "name": "stdout",
     "output_type": "stream",
     "text": [
      "[1] 0.01221476\n"
     ]
    },
    {
     "name": "stderr",
     "output_type": "stream",
     "text": [
      "##########################\n",
      "##Iteration 11\n",
      "####solve alpha and beta (E step)\n",
      "####normalize (M step)####\n"
     ]
    },
    {
     "name": "stdout",
     "output_type": "stream",
     "text": [
      "[1] 0.01272994\n"
     ]
    },
    {
     "name": "stderr",
     "output_type": "stream",
     "text": [
      "##########################\n",
      "##Iteration 12\n",
      "####solve alpha and beta (E step)\n",
      "####normalize (M step)####\n"
     ]
    },
    {
     "name": "stdout",
     "output_type": "stream",
     "text": [
      "[1] 0.01219408\n"
     ]
    },
    {
     "name": "stderr",
     "output_type": "stream",
     "text": [
      "##########################\n",
      "##Iteration 13\n",
      "####solve alpha and beta (E step)\n",
      "####normalize (M step)####\n"
     ]
    },
    {
     "name": "stdout",
     "output_type": "stream",
     "text": [
      "[1] 0.01222955\n"
     ]
    },
    {
     "name": "stderr",
     "output_type": "stream",
     "text": [
      "##########################\n",
      "##Iteration 14\n",
      "####solve alpha and beta (E step)\n",
      "####normalize (M step)####\n"
     ]
    },
    {
     "name": "stdout",
     "output_type": "stream",
     "text": [
      "[1] 0.01225251\n"
     ]
    },
    {
     "name": "stderr",
     "output_type": "stream",
     "text": [
      "##########################\n",
      "##Iteration 15\n",
      "####solve alpha and beta (E step)\n",
      "####normalize (M step)####\n"
     ]
    },
    {
     "name": "stdout",
     "output_type": "stream",
     "text": [
      "[1] 0.01238528\n"
     ]
    },
    {
     "name": "stderr",
     "output_type": "stream",
     "text": [
      "##########################\n",
      "##Iteration 16\n",
      "####solve alpha and beta (E step)\n",
      "####normalize (M step)####\n"
     ]
    },
    {
     "name": "stdout",
     "output_type": "stream",
     "text": [
      "[1] 0.01233072\n"
     ]
    },
    {
     "name": "stderr",
     "output_type": "stream",
     "text": [
      "##########################\n",
      "##Iteration 17\n",
      "####solve alpha and beta (E step)\n",
      "####normalize (M step)####\n"
     ]
    },
    {
     "name": "stdout",
     "output_type": "stream",
     "text": [
      "[1] 0.01283555\n"
     ]
    },
    {
     "name": "stderr",
     "output_type": "stream",
     "text": [
      "##########################\n",
      "##Iteration 18\n",
      "####solve alpha and beta (E step)\n",
      "####normalize (M step)####\n"
     ]
    },
    {
     "name": "stdout",
     "output_type": "stream",
     "text": [
      "[1] 0.01241311\n"
     ]
    },
    {
     "name": "stderr",
     "output_type": "stream",
     "text": [
      "##########################\n",
      "##Iteration 19\n",
      "####solve alpha and beta (E step)\n",
      "####normalize (M step)####\n"
     ]
    },
    {
     "name": "stdout",
     "output_type": "stream",
     "text": [
      "[1] 0.01233678\n"
     ]
    },
    {
     "name": "stderr",
     "output_type": "stream",
     "text": [
      "##########################\n",
      "##Iteration 20\n",
      "####solve alpha and beta (E step)\n",
      "####normalize (M step)####\n"
     ]
    },
    {
     "name": "stdout",
     "output_type": "stream",
     "text": [
      "[1] 0.01296467\n"
     ]
    },
    {
     "name": "stderr",
     "output_type": "stream",
     "text": [
      "##########################\n",
      "##Iteration 21\n",
      "####solve alpha and beta (E step)\n",
      "####normalize (M step)####\n"
     ]
    },
    {
     "name": "stdout",
     "output_type": "stream",
     "text": [
      "[1] 0.01241471\n"
     ]
    },
    {
     "name": "stderr",
     "output_type": "stream",
     "text": [
      "##########################\n",
      "##Iteration 22\n",
      "####solve alpha and beta (E step)\n",
      "####normalize (M step)####\n"
     ]
    },
    {
     "name": "stdout",
     "output_type": "stream",
     "text": [
      "[1] 0.01294214\n"
     ]
    },
    {
     "name": "stderr",
     "output_type": "stream",
     "text": [
      "##########################\n",
      "##Iteration 23\n",
      "####solve alpha and beta (E step)\n",
      "####normalize (M step)####\n"
     ]
    },
    {
     "name": "stdout",
     "output_type": "stream",
     "text": [
      "[1] 0.01249102\n"
     ]
    },
    {
     "name": "stderr",
     "output_type": "stream",
     "text": [
      "##########################\n",
      "##Iteration 24\n",
      "####solve alpha and beta (E step)\n",
      "####normalize (M step)####\n"
     ]
    },
    {
     "name": "stdout",
     "output_type": "stream",
     "text": [
      "[1] 0.0124588\n"
     ]
    },
    {
     "name": "stderr",
     "output_type": "stream",
     "text": [
      "##########################\n",
      "##Iteration 25\n",
      "####solve alpha and beta (E step)\n",
      "####normalize (M step)####\n"
     ]
    },
    {
     "name": "stdout",
     "output_type": "stream",
     "text": [
      "[1] 0.01306167\n"
     ]
    },
    {
     "name": "stderr",
     "output_type": "stream",
     "text": [
      "##########################\n",
      "##Iteration 26\n",
      "####solve alpha and beta (E step)\n",
      "####normalize (M step)####\n"
     ]
    },
    {
     "name": "stdout",
     "output_type": "stream",
     "text": [
      "[1] 0.01266983\n"
     ]
    },
    {
     "name": "stderr",
     "output_type": "stream",
     "text": [
      "##########################\n",
      "##Iteration 27\n",
      "####solve alpha and beta (E step)\n",
      "####normalize (M step)####\n"
     ]
    },
    {
     "name": "stdout",
     "output_type": "stream",
     "text": [
      "[1] 0.01258474\n"
     ]
    },
    {
     "name": "stderr",
     "output_type": "stream",
     "text": [
      "##########################\n",
      "##Iteration 28\n",
      "####solve alpha and beta (E step)\n",
      "####normalize (M step)####\n"
     ]
    },
    {
     "name": "stdout",
     "output_type": "stream",
     "text": [
      "[1] 0.01249729\n"
     ]
    },
    {
     "name": "stderr",
     "output_type": "stream",
     "text": [
      "##########################\n",
      "##Iteration 29\n",
      "####solve alpha and beta (E step)\n",
      "####normalize (M step)####\n"
     ]
    },
    {
     "name": "stdout",
     "output_type": "stream",
     "text": [
      "[1] 0.01287127\n"
     ]
    },
    {
     "name": "stderr",
     "output_type": "stream",
     "text": [
      "##########################\n",
      "##Iteration 30\n",
      "####solve alpha and beta (E step)\n",
      "####normalize (M step)####\n"
     ]
    },
    {
     "name": "stdout",
     "output_type": "stream",
     "text": [
      "[1] 0.01250753\n"
     ]
    },
    {
     "name": "stderr",
     "output_type": "stream",
     "text": [
      "##########################\n",
      "##Iteration 31\n",
      "####solve alpha and beta (E step)\n",
      "####normalize (M step)####\n"
     ]
    },
    {
     "name": "stdout",
     "output_type": "stream",
     "text": [
      "[1] 0.01249071\n"
     ]
    },
    {
     "name": "stderr",
     "output_type": "stream",
     "text": [
      "##########################\n",
      "##Iteration 32\n",
      "####solve alpha and beta (E step)\n",
      "####normalize (M step)####\n"
     ]
    },
    {
     "name": "stdout",
     "output_type": "stream",
     "text": [
      "[1] 0.01284544\n"
     ]
    },
    {
     "name": "stderr",
     "output_type": "stream",
     "text": [
      "##########################\n",
      "##Iteration 33\n",
      "####solve alpha and beta (E step)\n",
      "####normalize (M step)####\n"
     ]
    },
    {
     "name": "stdout",
     "output_type": "stream",
     "text": [
      "[1] 0.01245384\n"
     ]
    },
    {
     "name": "stderr",
     "output_type": "stream",
     "text": [
      "##########################\n",
      "##Iteration 34\n",
      "####solve alpha and beta (E step)\n",
      "####normalize (M step)####\n"
     ]
    },
    {
     "name": "stdout",
     "output_type": "stream",
     "text": [
      "[1] 0.01244459\n"
     ]
    },
    {
     "name": "stderr",
     "output_type": "stream",
     "text": [
      "##########################\n",
      "##Iteration 35\n",
      "####solve alpha and beta (E step)\n",
      "####normalize (M step)####\n"
     ]
    },
    {
     "name": "stdout",
     "output_type": "stream",
     "text": [
      "[1] 0.01285082\n"
     ]
    },
    {
     "name": "stderr",
     "output_type": "stream",
     "text": [
      "##########################\n",
      "##Iteration 36\n",
      "####solve alpha and beta (E step)\n",
      "####normalize (M step)####\n"
     ]
    },
    {
     "name": "stdout",
     "output_type": "stream",
     "text": [
      "[1] 0.01237329\n"
     ]
    },
    {
     "name": "stderr",
     "output_type": "stream",
     "text": [
      "##########################\n",
      "##Iteration 37\n",
      "####solve alpha and beta (E step)\n",
      "####normalize (M step)####\n"
     ]
    },
    {
     "name": "stdout",
     "output_type": "stream",
     "text": [
      "[1] 0.01286892\n"
     ]
    },
    {
     "name": "stderr",
     "output_type": "stream",
     "text": [
      "##########################\n",
      "##Iteration 38\n",
      "####solve alpha and beta (E step)\n",
      "####normalize (M step)####\n"
     ]
    },
    {
     "name": "stdout",
     "output_type": "stream",
     "text": [
      "[1] 0.01241101\n"
     ]
    },
    {
     "name": "stderr",
     "output_type": "stream",
     "text": [
      "##########################\n",
      "##Iteration 39\n",
      "####solve alpha and beta (E step)\n",
      "####normalize (M step)####\n"
     ]
    },
    {
     "name": "stdout",
     "output_type": "stream",
     "text": [
      "[1] 0.01242624\n"
     ]
    },
    {
     "name": "stderr",
     "output_type": "stream",
     "text": [
      "##########################\n",
      "##Iteration 40\n",
      "####solve alpha and beta (E step)\n",
      "####normalize (M step)####\n"
     ]
    },
    {
     "name": "stdout",
     "output_type": "stream",
     "text": [
      "[1] 0.01232343\n"
     ]
    },
    {
     "name": "stderr",
     "output_type": "stream",
     "text": [
      "##########################\n",
      "##Iteration 41\n",
      "####solve alpha and beta (E step)\n",
      "####normalize (M step)####\n"
     ]
    },
    {
     "name": "stdout",
     "output_type": "stream",
     "text": [
      "[1] 0.0123265\n"
     ]
    },
    {
     "name": "stderr",
     "output_type": "stream",
     "text": [
      "##########################\n",
      "##Iteration 42\n",
      "####solve alpha and beta (E step)\n",
      "####normalize (M step)####\n"
     ]
    },
    {
     "name": "stdout",
     "output_type": "stream",
     "text": [
      "[1] 0.01234328\n"
     ]
    },
    {
     "name": "stderr",
     "output_type": "stream",
     "text": [
      "##########################\n",
      "##Iteration 43\n",
      "####solve alpha and beta (E step)\n",
      "####normalize (M step)####\n"
     ]
    },
    {
     "name": "stdout",
     "output_type": "stream",
     "text": [
      "[1] 0.01225278\n"
     ]
    },
    {
     "name": "stderr",
     "output_type": "stream",
     "text": [
      "##########################\n",
      "##Iteration 44\n",
      "####solve alpha and beta (E step)\n",
      "####normalize (M step)####\n"
     ]
    },
    {
     "name": "stdout",
     "output_type": "stream",
     "text": [
      "[1] 0.01275915\n"
     ]
    },
    {
     "name": "stderr",
     "output_type": "stream",
     "text": [
      "##########################\n",
      "##Iteration 45\n",
      "####solve alpha and beta (E step)\n",
      "####normalize (M step)####\n"
     ]
    },
    {
     "name": "stdout",
     "output_type": "stream",
     "text": [
      "[1] 0.01229537\n"
     ]
    },
    {
     "name": "stderr",
     "output_type": "stream",
     "text": [
      "##########################\n",
      "##Iteration 46\n",
      "####solve alpha and beta (E step)\n",
      "####normalize (M step)####\n"
     ]
    },
    {
     "name": "stdout",
     "output_type": "stream",
     "text": [
      "[1] 0.01225697\n"
     ]
    },
    {
     "name": "stderr",
     "output_type": "stream",
     "text": [
      "##########################\n",
      "##Iteration 47\n",
      "####solve alpha and beta (E step)\n",
      "####normalize (M step)####\n"
     ]
    },
    {
     "name": "stdout",
     "output_type": "stream",
     "text": [
      "[1] 0.01234473\n"
     ]
    },
    {
     "name": "stderr",
     "output_type": "stream",
     "text": [
      "##########################\n",
      "##Iteration 48\n",
      "####solve alpha and beta (E step)\n",
      "####normalize (M step)####\n"
     ]
    },
    {
     "name": "stdout",
     "output_type": "stream",
     "text": [
      "[1] 0.01235951\n"
     ]
    },
    {
     "name": "stderr",
     "output_type": "stream",
     "text": [
      "##########################\n",
      "##Iteration 49\n",
      "####solve alpha and beta (E step)\n",
      "####normalize (M step)####\n"
     ]
    },
    {
     "name": "stdout",
     "output_type": "stream",
     "text": [
      "[1] 0.01254281\n"
     ]
    },
    {
     "name": "stderr",
     "output_type": "stream",
     "text": [
      "##########################\n",
      "##Iteration 50\n",
      "####solve alpha and beta (E step)\n",
      "####normalize (M step)####\n"
     ]
    },
    {
     "name": "stdout",
     "output_type": "stream",
     "text": [
      "[1] 0.01236331\n"
     ]
    },
    {
     "name": "stderr",
     "output_type": "stream",
     "text": [
      "##########################\n",
      "##Iteration 51\n",
      "####solve alpha and beta (E step)\n",
      "####normalize (M step)####\n"
     ]
    },
    {
     "name": "stdout",
     "output_type": "stream",
     "text": [
      "[1] 0.0123628\n"
     ]
    },
    {
     "name": "stderr",
     "output_type": "stream",
     "text": [
      "##########################\n",
      "##Iteration 52\n",
      "####solve alpha and beta (E step)\n",
      "####normalize (M step)####\n"
     ]
    },
    {
     "name": "stdout",
     "output_type": "stream",
     "text": [
      "[1] 0.01280712\n"
     ]
    },
    {
     "name": "stderr",
     "output_type": "stream",
     "text": [
      "##########################\n",
      "##Iteration 53\n",
      "####solve alpha and beta (E step)\n",
      "####normalize (M step)####\n"
     ]
    },
    {
     "name": "stdout",
     "output_type": "stream",
     "text": [
      "[1] 0.01244914\n"
     ]
    },
    {
     "name": "stderr",
     "output_type": "stream",
     "text": [
      "##########################\n",
      "##Iteration 54\n",
      "####solve alpha and beta (E step)\n",
      "####normalize (M step)####\n"
     ]
    },
    {
     "name": "stdout",
     "output_type": "stream",
     "text": [
      "[1] 0.01241146\n"
     ]
    },
    {
     "name": "stderr",
     "output_type": "stream",
     "text": [
      "##########################\n",
      "##Iteration 55\n",
      "####solve alpha and beta (E step)\n",
      "####normalize (M step)####\n"
     ]
    },
    {
     "name": "stdout",
     "output_type": "stream",
     "text": [
      "[1] 0.01236985\n"
     ]
    },
    {
     "name": "stderr",
     "output_type": "stream",
     "text": [
      "##########################\n",
      "##Iteration 56\n",
      "####solve alpha and beta (E step)\n",
      "####normalize (M step)####\n"
     ]
    },
    {
     "name": "stdout",
     "output_type": "stream",
     "text": [
      "[1] 0.01238306\n"
     ]
    },
    {
     "name": "stderr",
     "output_type": "stream",
     "text": [
      "##########################\n",
      "##Iteration 57\n",
      "####solve alpha and beta (E step)\n",
      "####normalize (M step)####\n"
     ]
    },
    {
     "name": "stdout",
     "output_type": "stream",
     "text": [
      "[1] 0.01239872\n"
     ]
    },
    {
     "name": "stderr",
     "output_type": "stream",
     "text": [
      "##########################\n",
      "##Iteration 58\n",
      "####solve alpha and beta (E step)\n",
      "####normalize (M step)####\n"
     ]
    },
    {
     "name": "stdout",
     "output_type": "stream",
     "text": [
      "[1] 0.01232317\n"
     ]
    },
    {
     "name": "stderr",
     "output_type": "stream",
     "text": [
      "##########################\n",
      "##Iteration 59\n",
      "####solve alpha and beta (E step)\n",
      "####normalize (M step)####\n"
     ]
    },
    {
     "name": "stdout",
     "output_type": "stream",
     "text": [
      "[1] 0.0127692\n"
     ]
    },
    {
     "name": "stderr",
     "output_type": "stream",
     "text": [
      "##########################\n",
      "##Iteration 60\n",
      "####solve alpha and beta (E step)\n",
      "####normalize (M step)####\n"
     ]
    },
    {
     "name": "stdout",
     "output_type": "stream",
     "text": [
      "[1] 0.01247512\n"
     ]
    },
    {
     "name": "stderr",
     "output_type": "stream",
     "text": [
      "##########################\n",
      "##Iteration 61\n",
      "####solve alpha and beta (E step)\n",
      "####normalize (M step)####\n"
     ]
    },
    {
     "name": "stdout",
     "output_type": "stream",
     "text": [
      "[1] 0.01236799\n"
     ]
    },
    {
     "name": "stderr",
     "output_type": "stream",
     "text": [
      "##########################\n",
      "##Iteration 62\n",
      "####solve alpha and beta (E step)\n",
      "####normalize (M step)####\n"
     ]
    },
    {
     "name": "stdout",
     "output_type": "stream",
     "text": [
      "[1] 0.01228137\n"
     ]
    },
    {
     "name": "stderr",
     "output_type": "stream",
     "text": [
      "##########################\n",
      "##Iteration 63\n",
      "####solve alpha and beta (E step)\n",
      "####normalize (M step)####\n"
     ]
    },
    {
     "name": "stdout",
     "output_type": "stream",
     "text": [
      "[1] 0.01229616\n"
     ]
    },
    {
     "name": "stderr",
     "output_type": "stream",
     "text": [
      "##########################\n",
      "##Iteration 64\n",
      "####solve alpha and beta (E step)\n",
      "####normalize (M step)####\n"
     ]
    },
    {
     "name": "stdout",
     "output_type": "stream",
     "text": [
      "[1] 0.0122304\n"
     ]
    },
    {
     "name": "stderr",
     "output_type": "stream",
     "text": [
      "##########################\n",
      "##Iteration 65\n",
      "####solve alpha and beta (E step)\n",
      "####normalize (M step)####\n"
     ]
    },
    {
     "name": "stdout",
     "output_type": "stream",
     "text": [
      "[1] 0.01217853\n"
     ]
    },
    {
     "name": "stderr",
     "output_type": "stream",
     "text": [
      "##########################\n",
      "##Iteration 66\n",
      "####solve alpha and beta (E step)\n",
      "####normalize (M step)####\n"
     ]
    },
    {
     "name": "stdout",
     "output_type": "stream",
     "text": [
      "[1] 0.0121921\n"
     ]
    },
    {
     "name": "stderr",
     "output_type": "stream",
     "text": [
      "##########################\n",
      "##Iteration 67\n",
      "####solve alpha and beta (E step)\n",
      "####normalize (M step)####\n"
     ]
    },
    {
     "name": "stdout",
     "output_type": "stream",
     "text": [
      "[1] 0.01213863\n"
     ]
    },
    {
     "name": "stderr",
     "output_type": "stream",
     "text": [
      "##########################\n",
      "##Iteration 68\n",
      "####solve alpha and beta (E step)\n",
      "####normalize (M step)####\n"
     ]
    },
    {
     "name": "stdout",
     "output_type": "stream",
     "text": [
      "[1] 0.01214704\n"
     ]
    },
    {
     "name": "stderr",
     "output_type": "stream",
     "text": [
      "##########################\n",
      "##Iteration 69\n",
      "####solve alpha and beta (E step)\n",
      "####normalize (M step)####\n"
     ]
    },
    {
     "name": "stdout",
     "output_type": "stream",
     "text": [
      "[1] 0.01214236\n"
     ]
    },
    {
     "name": "stderr",
     "output_type": "stream",
     "text": [
      "##########################\n",
      "##Iteration 70\n",
      "####solve alpha and beta (E step)\n",
      "####normalize (M step)####\n"
     ]
    },
    {
     "name": "stdout",
     "output_type": "stream",
     "text": [
      "[1] 0.01211641\n"
     ]
    },
    {
     "name": "stderr",
     "output_type": "stream",
     "text": [
      "##########################\n",
      "##Iteration 71\n",
      "####solve alpha and beta (E step)\n",
      "####normalize (M step)####\n"
     ]
    },
    {
     "name": "stdout",
     "output_type": "stream",
     "text": [
      "[1] 0.0120913\n"
     ]
    },
    {
     "name": "stderr",
     "output_type": "stream",
     "text": [
      "##########################\n",
      "##Iteration 72\n",
      "####solve alpha and beta (E step)\n",
      "####normalize (M step)####\n"
     ]
    },
    {
     "name": "stdout",
     "output_type": "stream",
     "text": [
      "[1] 0.01206399\n"
     ]
    },
    {
     "name": "stderr",
     "output_type": "stream",
     "text": [
      "##########################\n",
      "##Iteration 73\n",
      "####solve alpha and beta (E step)\n",
      "####normalize (M step)####\n"
     ]
    },
    {
     "name": "stdout",
     "output_type": "stream",
     "text": [
      "[1] 0.01208258\n"
     ]
    },
    {
     "name": "stderr",
     "output_type": "stream",
     "text": [
      "##########################\n",
      "##Iteration 74\n",
      "####solve alpha and beta (E step)\n",
      "####normalize (M step)####\n"
     ]
    },
    {
     "name": "stdout",
     "output_type": "stream",
     "text": [
      "[1] 0.0119366\n"
     ]
    },
    {
     "name": "stderr",
     "output_type": "stream",
     "text": [
      "##########################\n",
      "##Iteration 75\n",
      "####solve alpha and beta (E step)\n",
      "####normalize (M step)####\n"
     ]
    },
    {
     "name": "stdout",
     "output_type": "stream",
     "text": [
      "[1] 0.01201585\n"
     ]
    },
    {
     "name": "stderr",
     "output_type": "stream",
     "text": [
      "##########################\n",
      "##Iteration 76\n",
      "####solve alpha and beta (E step)\n",
      "####normalize (M step)####\n"
     ]
    },
    {
     "name": "stdout",
     "output_type": "stream",
     "text": [
      "[1] 0.01210718\n"
     ]
    },
    {
     "name": "stderr",
     "output_type": "stream",
     "text": [
      "##########################\n",
      "##Iteration 77\n",
      "####solve alpha and beta (E step)\n",
      "####normalize (M step)####\n"
     ]
    },
    {
     "name": "stdout",
     "output_type": "stream",
     "text": [
      "[1] 0.01201758\n"
     ]
    },
    {
     "name": "stderr",
     "output_type": "stream",
     "text": [
      "##########################\n",
      "##Iteration 78\n",
      "####solve alpha and beta (E step)\n",
      "####normalize (M step)####\n"
     ]
    },
    {
     "name": "stdout",
     "output_type": "stream",
     "text": [
      "[1] 0.01202495\n"
     ]
    },
    {
     "name": "stderr",
     "output_type": "stream",
     "text": [
      "##########################\n",
      "##Iteration 79\n",
      "####solve alpha and beta (E step)\n",
      "####normalize (M step)####\n"
     ]
    },
    {
     "name": "stdout",
     "output_type": "stream",
     "text": [
      "[1] 0.01197517\n"
     ]
    },
    {
     "name": "stderr",
     "output_type": "stream",
     "text": [
      "##########################\n",
      "##Iteration 80\n",
      "####solve alpha and beta (E step)\n",
      "####normalize (M step)####\n"
     ]
    },
    {
     "name": "stdout",
     "output_type": "stream",
     "text": [
      "[1] 0.01196128\n"
     ]
    },
    {
     "name": "stderr",
     "output_type": "stream",
     "text": [
      "##########################\n",
      "##Iteration 81\n",
      "####solve alpha and beta (E step)\n",
      "####normalize (M step)####\n"
     ]
    },
    {
     "name": "stdout",
     "output_type": "stream",
     "text": [
      "[1] 0.01193445\n"
     ]
    },
    {
     "name": "stderr",
     "output_type": "stream",
     "text": [
      "##########################\n",
      "##Iteration 82\n",
      "####solve alpha and beta (E step)\n",
      "####normalize (M step)####\n"
     ]
    },
    {
     "name": "stdout",
     "output_type": "stream",
     "text": [
      "[1] 0.01200423\n"
     ]
    },
    {
     "name": "stderr",
     "output_type": "stream",
     "text": [
      "##########################\n",
      "##Iteration 83\n",
      "####solve alpha and beta (E step)\n",
      "####normalize (M step)####\n"
     ]
    },
    {
     "name": "stdout",
     "output_type": "stream",
     "text": [
      "[1] 0.01203349\n"
     ]
    },
    {
     "name": "stderr",
     "output_type": "stream",
     "text": [
      "##########################\n",
      "##Iteration 84\n",
      "####solve alpha and beta (E step)\n",
      "####normalize (M step)####\n"
     ]
    },
    {
     "name": "stdout",
     "output_type": "stream",
     "text": [
      "[1] 0.01194562\n"
     ]
    },
    {
     "name": "stderr",
     "output_type": "stream",
     "text": [
      "##########################\n",
      "##Iteration 85\n",
      "####solve alpha and beta (E step)\n",
      "####normalize (M step)####\n"
     ]
    },
    {
     "name": "stdout",
     "output_type": "stream",
     "text": [
      "[1] 0.01193121\n"
     ]
    },
    {
     "name": "stderr",
     "output_type": "stream",
     "text": [
      "##########################\n",
      "##Iteration 86\n",
      "####solve alpha and beta (E step)\n",
      "####normalize (M step)####\n"
     ]
    },
    {
     "name": "stdout",
     "output_type": "stream",
     "text": [
      "[1] 0.01192502\n"
     ]
    },
    {
     "name": "stderr",
     "output_type": "stream",
     "text": [
      "##########################\n",
      "##Iteration 87\n",
      "####solve alpha and beta (E step)\n",
      "####normalize (M step)####\n"
     ]
    },
    {
     "name": "stdout",
     "output_type": "stream",
     "text": [
      "[1] 0.01216914\n"
     ]
    },
    {
     "name": "stderr",
     "output_type": "stream",
     "text": [
      "##########################\n",
      "##Iteration 88\n",
      "####solve alpha and beta (E step)\n",
      "####normalize (M step)####\n"
     ]
    },
    {
     "name": "stdout",
     "output_type": "stream",
     "text": [
      "[1] 0.01204727\n"
     ]
    },
    {
     "name": "stderr",
     "output_type": "stream",
     "text": [
      "##########################\n",
      "##Iteration 89\n",
      "####solve alpha and beta (E step)\n",
      "####normalize (M step)####\n"
     ]
    },
    {
     "name": "stdout",
     "output_type": "stream",
     "text": [
      "[1] 0.01197922\n"
     ]
    },
    {
     "name": "stderr",
     "output_type": "stream",
     "text": [
      "##########################\n",
      "##Iteration 90\n",
      "####solve alpha and beta (E step)\n",
      "####normalize (M step)####\n"
     ]
    },
    {
     "name": "stdout",
     "output_type": "stream",
     "text": [
      "[1] 0.01193998\n"
     ]
    },
    {
     "name": "stderr",
     "output_type": "stream",
     "text": [
      "##########################\n",
      "##Iteration 91\n",
      "####solve alpha and beta (E step)\n",
      "####normalize (M step)####\n"
     ]
    },
    {
     "name": "stdout",
     "output_type": "stream",
     "text": [
      "[1] 0.01197398\n"
     ]
    },
    {
     "name": "stderr",
     "output_type": "stream",
     "text": [
      "##########################\n",
      "##Iteration 92\n",
      "####solve alpha and beta (E step)\n",
      "####normalize (M step)####\n"
     ]
    },
    {
     "name": "stdout",
     "output_type": "stream",
     "text": [
      "[1] 0.01193566\n"
     ]
    },
    {
     "name": "stderr",
     "output_type": "stream",
     "text": [
      "##########################\n",
      "##Iteration 93\n",
      "####solve alpha and beta (E step)\n",
      "####normalize (M step)####\n"
     ]
    },
    {
     "name": "stdout",
     "output_type": "stream",
     "text": [
      "[1] 0.01189714\n"
     ]
    },
    {
     "name": "stderr",
     "output_type": "stream",
     "text": [
      "##########################\n",
      "##Iteration 94\n",
      "####solve alpha and beta (E step)\n",
      "####normalize (M step)####\n"
     ]
    },
    {
     "name": "stdout",
     "output_type": "stream",
     "text": [
      "[1] 0.01187688\n"
     ]
    },
    {
     "name": "stderr",
     "output_type": "stream",
     "text": [
      "##########################\n",
      "##Iteration 95\n",
      "####solve alpha and beta (E step)\n",
      "####normalize (M step)####\n"
     ]
    },
    {
     "name": "stdout",
     "output_type": "stream",
     "text": [
      "[1] 0.01187175\n"
     ]
    },
    {
     "name": "stderr",
     "output_type": "stream",
     "text": [
      "##########################\n",
      "##Iteration 96\n",
      "####solve alpha and beta (E step)\n",
      "####normalize (M step)####\n"
     ]
    },
    {
     "name": "stdout",
     "output_type": "stream",
     "text": [
      "[1] 0.0118719\n"
     ]
    },
    {
     "name": "stderr",
     "output_type": "stream",
     "text": [
      "##########################\n",
      "##Iteration 97\n",
      "####solve alpha and beta (E step)\n",
      "####normalize (M step)####\n"
     ]
    },
    {
     "name": "stdout",
     "output_type": "stream",
     "text": [
      "[1] 0.01193809\n"
     ]
    },
    {
     "name": "stderr",
     "output_type": "stream",
     "text": [
      "##########################\n",
      "##Iteration 98\n",
      "####solve alpha and beta (E step)\n",
      "####normalize (M step)####\n"
     ]
    },
    {
     "name": "stdout",
     "output_type": "stream",
     "text": [
      "[1] 0.01187231\n"
     ]
    },
    {
     "name": "stderr",
     "output_type": "stream",
     "text": [
      "##########################\n",
      "##Iteration 99\n",
      "####solve alpha and beta (E step)\n",
      "####normalize (M step)####\n"
     ]
    },
    {
     "name": "stdout",
     "output_type": "stream",
     "text": [
      "[1] 0.01176975\n"
     ]
    },
    {
     "name": "stderr",
     "output_type": "stream",
     "text": [
      "##########################\n",
      "##Iteration 100\n",
      "####solve alpha and beta (E step)\n",
      "####normalize (M step)####\n"
     ]
    },
    {
     "name": "stdout",
     "output_type": "stream",
     "text": [
      "[1] 0.01182747\n"
     ]
    },
    {
     "name": "stderr",
     "output_type": "stream",
     "text": [
      "##########################\n"
     ]
    }
   ],
   "source": [
    "counts.f4 <- input.f4[-1,]\n",
    "colnames(counts.f4) <- as.character(input.f4[1,])\n",
    "res.f4 <- EM(dat=counts.f4,meta=metadata.f4, refSp = 8,  verbose=TRUE,\n",
    "          min_iter=50, max_iter=100, epsilon = 0.5, \n",
    "          scaling = 10000, ncpu=4, seed=0)"
   ]
  },
  {
   "cell_type": "markdown",
   "metadata": {},
   "source": [
    "## Infer parameters"
   ]
  },
  {
   "cell_type": "code",
   "execution_count": 8,
   "metadata": {
    "collapsed": false
   },
   "outputs": [],
   "source": [
    "params.da <- paramFromEM(res.da, counts.da, metadata.da, ncpu=4)\n",
    "params.m3 <- paramFromEM(res.m3, counts.m3, metadata.m3, ncpu=4)\n",
    "params.db <- paramFromEM(res.db, counts.db, metadata.db, ncpu=4)\n",
    "params.f4 <- paramFromEM(res.f4, counts.f4, metadata.f4, ncpu=4)"
   ]
  },
  {
   "cell_type": "markdown",
   "metadata": {},
   "source": [
    "## Functions for analysis"
   ]
  },
  {
   "cell_type": "code",
   "execution_count": 9,
   "metadata": {
    "collapsed": false
   },
   "outputs": [],
   "source": [
    "getbiomass <- function(res){\n",
    "    trace.mse <- res$trace.mse\n",
    "    min.mse <- min(trace.mse)\n",
    "    em.idx <- which((trace.mse-min.mse) < res$epsilon*min.mse)\n",
    "    biomass <- apply(res$trace.biomass[,em.idx],1,median)\n",
    "    biomass\n",
    "}\n",
    "int.net <- function(counts, parms, sig=1, title){\n",
    "    ## plot interaction network\n",
    "    minmax <- function(x) (x-min(x))/(max(x)-min(x))\n",
    "    annote <- read.table('~/beem/time_series_analysis/all_out_mapping.txt',head=F, row.names=1)\n",
    "    counts.mean <- rowMeans(counts)\n",
    "    int <- parms[parms$parameter_type=='interaction' & parms$source_taxon!=parms$target_taxon,]\n",
    "    int.f <- int[int$significance>sig,2:4]\n",
    "    g <- graph.data.frame(int.f[,1:2])\n",
    "    V(g)$color <- annote[V(g)$name,]$V4\n",
    "    V(g)$size <- log(counts.mean[V(g)$name]) +4\n",
    "    E(g)$color <- ifelse(int.f$value>0,fill_cols[12],fill_cols[13])\n",
    "    E(g)$lty <- ifelse(int.f$value>0,1,2)\n",
    "    E(g)$width <- minmax(abs(int.f$value) ) * 2 + 0.5\n",
    "    plot(g, main=title,asp=0,edge.arrow.size=0.5,edge.curved=.15)\n",
    "    return(g)\n",
    "}\n",
    "fit_power_law = function(graph) {\n",
    "    # calculate degree\n",
    "    d = degree(graph, mode = \"all\")\n",
    "    dd = degree.distribution(graph, mode = \"all\", cumulative = FALSE)\n",
    "    degree = 1:max(d)\n",
    "    probability = dd[-1]\n",
    "    # delete blank values\n",
    "    nonzero.position = which(probability != 0)\n",
    "    probability = probability[nonzero.position]\n",
    "    degree = degree[nonzero.position]\n",
    "    reg = lm(log(probability) ~ log(degree))\n",
    "    cozf = coef(reg)\n",
    "    power.law.fit = function(x) exp(cozf[[1]] + cozf[[2]] * log(x))\n",
    "    alpha = -cozf[[2]]\n",
    "    R.square = summary(reg)$r.squared\n",
    "    # plot\n",
    "    plot(probability ~ degree, log = \"xy\", xlab = \"Degree (log)\", ylab = \"Probability (log)\", \n",
    "         col = 1, main = \"Degree Distribution\")\n",
    "    text(x=2, y=0.2, labels=paste0(\"alpha=\",round(alpha,3),\"; R^2=\",round(R.square,3)))\n",
    "    curve(power.law.fit, col = \"red\", add = T, n = length(d), lwd=2)\n",
    "}"
   ]
  },
  {
   "cell_type": "markdown",
   "metadata": {},
   "source": [
    "## Biomass trajectory of individual DA\n",
    "Note the periodic behaviour of the biomass -- the period is around 90 days (i.e. 3 months)."
   ]
  },
  {
   "cell_type": "code",
   "execution_count": 10,
   "metadata": {
    "collapsed": false
   },
   "outputs": [
    {
     "data": {
      "image/png": "[encoded data removed]",
      "text/plain": [
       "plot without title"
      ]
     },
     "metadata": {},
     "output_type": "display_data"
    }
   ],
   "source": [
    "par(mfrow = c(4,1))\n",
    "plot(x=metadata.da$measurementID,y=getbiomass(res.da), xlim=c(0, 450), type='b', pch=19, xlab='Date', ylab='Estimated biomass', log='y')\n",
    "plot(x=metadata.m3$measurementID,y=getbiomass(res.m3), xlim=c(0, 450), type='b', pch=19, xlab='Date', ylab='Estimated biomass', log='y')\n",
    "plot(x=metadata.db$measurementID,y=getbiomass(res.db), xlim=c(0, 450), type='b', pch=19, xlab='Date', ylab='Estimated biomass', log='y')\n",
    "plot(x=metadata.f4$measurementID,y=getbiomass(res.f4), xlim=c(0, 450), type='b', pch=19, xlab='Date', ylab='Estimated biomass', log='y')"
   ]
  },
  {
   "cell_type": "markdown",
   "metadata": {},
   "source": [
    "## Plot interaction network"
   ]
  },
  {
   "cell_type": "code",
   "execution_count": 23,
   "metadata": {
    "collapsed": false
   },
   "outputs": [
    {
     "data": {
      "image/png": "[encoded data removed]",
      "text/plain": [
       "Plot with title “DA”"
      ]
     },
     "metadata": {},
     "output_type": "display_data"
    }
   ],
   "source": [
    "fill_cols <- pal_simpsons(c(\"springfield\"))(16)\n",
    "ga <- int.net(counts.da, params.da, 1.5, 'DA')"
   ]
  },
  {
   "cell_type": "code",
   "execution_count": 19,
   "metadata": {
    "collapsed": false
   },
   "outputs": [
    {
     "data": {
      "image/png": "[encoded data removed]",
      "text/plain": [
       "Plot with title “M3”"
      ]
     },
     "metadata": {},
     "output_type": "display_data"
    }
   ],
   "source": [
    "gm <- int.net(counts.m3, params.m3, 1.5, 'M3')"
   ]
  },
  {
   "cell_type": "code",
   "execution_count": 20,
   "metadata": {
    "collapsed": false
   },
   "outputs": [
    {
     "data": {
      "image/png": "[encoded data removed]",
      "text/plain": [
       "Plot with title “DB”"
      ]
     },
     "metadata": {},
     "output_type": "display_data"
    }
   ],
   "source": [
    "gb <- int.net(counts.db, params.db, 1.5, 'DB')"
   ]
  },
  {
   "cell_type": "code",
   "execution_count": 22,
   "metadata": {
    "collapsed": false
   },
   "outputs": [
    {
     "data": {
      "image/png": "[encoded data removed]",
      "text/plain": [
       "Plot with title “F4”"
      ]
     },
     "metadata": {},
     "output_type": "display_data"
    }
   ],
   "source": [
    "f4 <- int.net(counts.f4, params.f4, 1.5, 'F4')"
   ]
  },
  {
   "cell_type": "code",
   "execution_count": 24,
   "metadata": {
    "collapsed": false
   },
   "outputs": [],
   "source": [
    "res.da$counts <- counts.da\n",
    "res.da$metadata <- metadata.da\n",
    "saveRDS(res.da, '~/beem/time_series_analysis/DA.EM.rds')\n",
    "write.table(params.da, '~/beem/time_series_analysis/DA.params.txt', col.names=TRUE, row.names=FALSE, sep='\\t', quote=FALSE)\n",
    "\n",
    "res.m3$counts <- counts.m3\n",
    "res.m3$metadata <- metadata.m3\n",
    "saveRDS(res.m3, '~/beem/time_series_analysis/M3.EM.rds')\n",
    "write.table(params.m3, '~/beem/time_series_analysis/M3.params.txt', col.names=TRUE, row.names=FALSE, sep='\\t', quote=FALSE)\n",
    "\n",
    "res.db$counts <- counts.db\n",
    "res.db$metadata <- metadata.db\n",
    "saveRDS(res.db, '~/beem/time_series_analysis/DB.EM.rds')\n",
    "write.table(params.db, '~/beem/time_series_analysis/DB.params.txt', col.names=TRUE, row.names=FALSE, sep='\\t', quote=FALSE)\n",
    "\n",
    "res.f4$counts <- counts.f4\n",
    "res.f4$metadata <- metadata.f4\n",
    "saveRDS(res.f4, '~/beem/time_series_analysis/F4.EM.rds')\n",
    "write.table(params.f4, '~/beem/time_series_analysis/F4.params.txt', col.names=TRUE, row.names=FALSE, sep='\\t', quote=FALSE)"
   ]
  }
 ],
 "metadata": {
  "kernelspec": {
   "display_name": "R",
   "language": "R",
   "name": "ir"
  },
  "language_info": {
   "codemirror_mode": "r",
   "file_extension": ".r",
   "mimetype": "text/x-r-source",
   "name": "R",
   "pygments_lexer": "r",
   "version": "3.4.0"
  }
 },
 "nbformat": 4,
 "nbformat_minor": 2
}
