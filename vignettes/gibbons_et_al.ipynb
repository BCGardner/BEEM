{
 "cells": [
  {
   "cell_type": "markdown",
   "metadata": {},
   "source": [
    "# Analysis of one-year trace of gut microbiome\n",
    "This notebook records the code used for analyzing data from [Gibbons _et. al._ (2017)](http://journals.plos.org/ploscompbiol/article?id=10.1371/journal.pcbi.1005364). "
   ]
  },
  {
   "cell_type": "markdown",
   "metadata": {},
   "source": [
    "## Load required packages"
   ]
  },
  {
   "cell_type": "code",
   "execution_count": 1,
   "metadata": {},
   "outputs": [
    {
     "name": "stderr",
     "output_type": "stream",
     "text": [
      "Loading required package: foreach\n",
      "Loading required package: doMC\n",
      "Loading required package: iterators\n",
      "Loading required package: parallel\n",
      "\n",
      "Attaching package: ‘igraph’\n",
      "\n",
      "The following objects are masked from ‘package:stats’:\n",
      "\n",
      "    decompose, spectrum\n",
      "\n",
      "The following object is masked from ‘package:base’:\n",
      "\n",
      "    union\n",
      "\n"
     ]
    }
   ],
   "source": [
    "library(beem)\n",
    "library(grid)\n",
    "library(ggplot2)\n",
    "library(ggsci)\n",
    "library(igraph)\n",
    "library(reshape2)"
   ]
  },
  {
   "cell_type": "markdown",
   "metadata": {},
   "source": [
    "## Load functions and data"
   ]
  },
  {
   "cell_type": "code",
   "execution_count": 2,
   "metadata": {},
   "outputs": [],
   "source": [
    "input.da <- read.table('~/BEEM/vignettes/gibbons_et_al_analysis/DA.counts.txt', head=F, row.names=1)\n",
    "metadata.da <- read.table('~/BEEM/vignettes//gibbons_et_al_analysis/DA.metadata.txt', head=T)\n",
    "\n",
    "## For DB, point #74 has extremely high of one species and #180 is sampled too far from the previous time point\n",
    "input.db <- read.table('~/BEEM/vignettes//gibbons_et_al_analysis/DB.counts.txt', head=F, row.names=1)[,-c(74,180)]\n",
    "metadata.db <- read.table('~/BEEM/vignettes/gibbons_et_al_analysis/DB.metadata.txt', head=T)[-c(74,180),]\n",
    "\n",
    "## For M3, data from 330:332 are too far from previous time point\n",
    "input.m3 <- read.table('~/BEEM/vignettes/gibbons_et_al_analysis/M3.counts.txt', head=F, row.names=1)[,1:329] \n",
    "metadata.m3 <- read.table('~/BEEM/vignettes/gibbons_et_al_analysis/M3.metadata.txt', head=T)[1:329,]\n",
    "\n",
    "input.f4 <- read.table('~/BEEM/vignettes/gibbons_et_al_analysis/F4.counts.txt', head=F, row.names=1) \n",
    "metadata.f4 <- read.table('~/BEEM/vignettes/gibbons_et_al_analysis/F4.metadata.txt', head=T)"
   ]
  },
  {
   "cell_type": "markdown",
   "metadata": {},
   "source": [
    "## Run BEEM"
   ]
  },
  {
   "cell_type": "markdown",
   "metadata": {},
   "source": [
    "### Individual DA"
   ]
  },
  {
   "cell_type": "code",
   "execution_count": null,
   "metadata": {
    "scrolled": true
   },
   "outputs": [
    {
     "name": "stderr",
     "output_type": "stream",
     "text": [
      "Warning message in EM(dat = counts.da, meta = metadata.da, dev = 10, verbose = FALSE, :\n",
      "“Small number (<10) of biological replicates detected. Note that BEEM works best with >10 biological replicates or the time series contains intrinsic infrequent perturbations.”The following species are not recommended due to 0 values:\n",
      "\n",
      "The following species are not recommended due to their low/high abudances:\n",
      "552961, 682726, 529021, 188634, 181765, 593352, 302439, 574965, 1809696, 4407174, 4459708, 310391, 177224, 1073276, 586030, 1106789, 851715, 328438, 316489, 198583, 365868\n",
      "The following species is recommended as the reference:\n",
      "1111783\n",
      "BEEM selecting reference species as default...\n",
      "Reference species: 1111783\n"
     ]
    }
   ],
   "source": [
    "counts.da <- input.da[-1,]\n",
    "colnames(counts.da) <- as.character(input.da[1,])\n",
    "res.da <- EM(dat=counts.da,meta=metadata.da, dev=10, verbose=FALSE,\n",
    "          min_iter=50, max_iter=100, epsilon = 0.5, \n",
    "          scaling = 10000, ncpu=4, seed=0)"
   ]
  },
  {
   "cell_type": "markdown",
   "metadata": {},
   "source": [
    "### Individual M3"
   ]
  },
  {
   "cell_type": "code",
   "execution_count": null,
   "metadata": {},
   "outputs": [],
   "source": [
    "counts.m3 <- input.m3[-1,]\n",
    "colnames(counts.m3) <- as.character(input.m3[1,])\n",
    "res.m3 <- EM(dat=counts.m3, meta=metadata.m3,  dev=10, verbose=FALSE,\n",
    "          min_iter=50, max_iter=100, epsilon = 0.5, \n",
    "          scaling = 10000, ncpu=4, seed=0)"
   ]
  },
  {
   "cell_type": "markdown",
   "metadata": {},
   "source": [
    "### Individual DB"
   ]
  },
  {
   "cell_type": "code",
   "execution_count": null,
   "metadata": {},
   "outputs": [],
   "source": [
    "counts.db <- input.db[-1,]\n",
    "colnames(counts.db) <- as.character(input.db[1,])\n",
    "res.db <- EM(dat=counts.db,meta=metadata.db, dev=10, verbose=FALSE,\n",
    "          min_iter=50, max_iter=100, epsilon = 0.5, \n",
    "          scaling = 10000, ncpu=4, seed=0)"
   ]
  },
  {
   "cell_type": "markdown",
   "metadata": {},
   "source": [
    "### Individual F4"
   ]
  },
  {
   "cell_type": "code",
   "execution_count": null,
   "metadata": {},
   "outputs": [],
   "source": [
    "counts.f4 <- input.f4[-1,]\n",
    "colnames(counts.f4) <- as.character(input.f4[1,])\n",
    "res.f4 <- EM(dat=counts.f4,meta=metadata.f4, dev=10, verbose=FALSE,\n",
    "          min_iter=50, max_iter=100, epsilon = 0.5, \n",
    "          scaling = 10000, ncpu=4, seed=0)"
   ]
  },
  {
   "cell_type": "markdown",
   "metadata": {},
   "source": [
    "## Infer parameters"
   ]
  },
  {
   "cell_type": "code",
   "execution_count": null,
   "metadata": {},
   "outputs": [],
   "source": [
    "params.da <- paramFromEM(res.da, counts.da, metadata.da, ncpu=4)\n",
    "params.m3 <- paramFromEM(res.m3, counts.m3, metadata.m3, ncpu=4)\n",
    "params.db <- paramFromEM(res.db, counts.db, metadata.db, ncpu=4)\n",
    "params.f4 <- paramFromEM(res.f4, counts.f4, metadata.f4, ncpu=4)"
   ]
  },
  {
   "cell_type": "markdown",
   "metadata": {},
   "source": [
    "## Functions for analysis"
   ]
  },
  {
   "cell_type": "code",
   "execution_count": null,
   "metadata": {},
   "outputs": [],
   "source": [
    "getbiomass <- function(res){\n",
    "    trace.mse <- res$trace.mse\n",
    "    min.mse <- min(trace.mse)\n",
    "    em.idx <- which((trace.mse-min.mse) < res$epsilon*min.mse)\n",
    "    biomass <- apply(res$trace.biomass[,em.idx],1,median)\n",
    "    biomass\n",
    "}\n",
    "int.net <- function(counts, parms, sig=1, title){\n",
    "    ## plot interaction network\n",
    "    minmax <- function(x) (x-min(x))/(max(x)-min(x))\n",
    "    annote <- read.table('~/BEEM/vignettes/gibbons_et_al_analysis/all_otu_mapping.txt',head=F, row.names=1)\n",
    "    counts.mean <- rowMeans(counts)\n",
    "    int <- parms[parms$parameter_type=='interaction' & parms$source_taxon!=parms$target_taxon,]\n",
    "    int.f <- int[int$significance>sig,2:4]\n",
    "    g <- graph.data.frame(int.f[,1:2])\n",
    "    V(g)$color <- annote[V(g)$name,]$V4\n",
    "    V(g)$size <- log(counts.mean[V(g)$name]) +4\n",
    "    E(g)$color <- ifelse(int.f$value>0,fill_cols[12],fill_cols[13])\n",
    "    E(g)$lty <- ifelse(int.f$value>0,1,2)\n",
    "    E(g)$width <- minmax(abs(int.f$value) ) * 2 + 0.5\n",
    "    plot(g, main=title,asp=0,edge.arrow.size=0.5,edge.curved=.15)\n",
    "    return(g)\n",
    "}"
   ]
  },
  {
   "cell_type": "markdown",
   "metadata": {},
   "source": [
    "## Biomass trajectory of individual DA\n",
    "Note the periodic behaviour of the biomass -- the period is around 90 days (i.e. 3 months)."
   ]
  },
  {
   "cell_type": "code",
   "execution_count": null,
   "metadata": {},
   "outputs": [],
   "source": [
    "par(mfrow = c(4,1))\n",
    "plot(x=metadata.da$measurementID,y=getbiomass(res.da), xlim=c(0, 450), type='b', pch=19, xlab='Date', ylab='Estimated biomass', log='y')\n",
    "plot(x=metadata.m3$measurementID,y=getbiomass(res.m3), xlim=c(0, 450), type='b', pch=19, xlab='Date', ylab='Estimated biomass', log='y')\n",
    "plot(x=metadata.db$measurementID,y=getbiomass(res.db), xlim=c(0, 450), type='b', pch=19, xlab='Date', ylab='Estimated biomass', log='y')\n",
    "plot(x=metadata.f4$measurementID,y=getbiomass(res.f4), xlim=c(0, 450), type='b', pch=19, xlab='Date', ylab='Estimated biomass', log='y')"
   ]
  },
  {
   "cell_type": "markdown",
   "metadata": {},
   "source": [
    "## Plot interaction network"
   ]
  },
  {
   "cell_type": "code",
   "execution_count": null,
   "metadata": {},
   "outputs": [],
   "source": [
    "fill_cols <- pal_simpsons(c(\"springfield\"))(16)\n",
    "ga <- int.net(counts.da, params.da, 1.5, 'DA')"
   ]
  },
  {
   "cell_type": "code",
   "execution_count": null,
   "metadata": {},
   "outputs": [],
   "source": [
    "gm <- int.net(counts.m3, params.m3, 1.5, 'M3')"
   ]
  },
  {
   "cell_type": "code",
   "execution_count": null,
   "metadata": {},
   "outputs": [],
   "source": [
    "gb <- int.net(counts.db, params.db, 1.5, 'DB')"
   ]
  },
  {
   "cell_type": "code",
   "execution_count": null,
   "metadata": {},
   "outputs": [],
   "source": [
    "f4 <- int.net(counts.f4, params.f4, 1.5, 'F4')"
   ]
  },
  {
   "cell_type": "code",
   "execution_count": null,
   "metadata": {},
   "outputs": [],
   "source": [
    "res.da$counts <- counts.da\n",
    "res.da$metadata <- metadata.da\n",
    "saveRDS(res.da, '~/BEEM/vignettes/gibbons_et_al_analysis/DA.EM.rds')\n",
    "write.table(params.da, '~/BEEM/vignettes/gibbons_et_al_analysis/DA.params.txt', col.names=TRUE, row.names=FALSE, sep='\\t', quote=FALSE)\n",
    "\n",
    "res.m3$counts <- counts.m3\n",
    "res.m3$metadata <- metadata.m3\n",
    "saveRDS(res.m3, '~/BEEM/vignettes/gibbons_et_al_analysis/M3.EM.rds')\n",
    "write.table(params.m3, '~/BEEM/vignettes/gibbons_et_al_analysis/M3.params.txt', col.names=TRUE, row.names=FALSE, sep='\\t', quote=FALSE)\n",
    "\n",
    "res.db$counts <- counts.db\n",
    "res.db$metadata <- metadata.db\n",
    "saveRDS(res.db, '~/BEEM/vignettes/gibbons_et_al_analysis/DB.EM.rds')\n",
    "write.table(params.db, '~/BEEM/vignettes/gibbons_et_al_analysis/DB.params.txt', col.names=TRUE, row.names=FALSE, sep='\\t', quote=FALSE)\n",
    "\n",
    "res.f4$counts <- counts.f4\n",
    "res.f4$metadata <- metadata.f4\n",
    "saveRDS(res.f4, '~/BEEM/vignettes/gibbons_et_al_analysis/F4.EM.rds')\n",
    "write.table(params.f4, '~/BEEM/vignettes/gibbons_et_al_analysis/F4.params.txt', col.names=TRUE, row.names=FALSE, sep='\\t', quote=FALSE)"
   ]
  }
 ],
 "metadata": {
  "kernelspec": {
   "display_name": "R",
   "language": "R",
   "name": "ir"
  },
  "language_info": {
   "codemirror_mode": "r",
   "file_extension": ".r",
   "mimetype": "text/x-r-source",
   "name": "R",
   "pygments_lexer": "r",
   "version": "3.4.2"
  }
 },
 "nbformat": 4,
 "nbformat_minor": 2
}
